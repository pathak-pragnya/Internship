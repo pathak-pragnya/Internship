{
  "nbformat": 4,
  "nbformat_minor": 0,
  "metadata": {
    "kernelspec": {
      "language": "python",
      "display_name": "Python 3",
      "name": "python3"
    },
    "language_info": {
      "name": "python",
      "version": "3.7.10",
      "mimetype": "text/x-python",
      "codemirror_mode": {
        "name": "ipython",
        "version": 3
      },
      "pygments_lexer": "ipython3",
      "nbconvert_exporter": "python",
      "file_extension": ".py"
    },
    "colab": {
      "name": "assignment10_draft4.ipynb",
      "provenance": [],
      "collapsed_sections": [],
      "toc_visible": true
    },
    "accelerator": "TPU"
  },
  "cells": [
    {
      "cell_type": "code",
      "metadata": {
        "id": "UGF3cX_xk3XS",
        "execution": {
          "iopub.status.busy": "2021-09-21T12:46:58.947816Z",
          "iopub.execute_input": "2021-09-21T12:46:58.948215Z",
          "iopub.status.idle": "2021-09-21T12:46:59.281034Z",
          "shell.execute_reply.started": "2021-09-21T12:46:58.948167Z",
          "shell.execute_reply": "2021-09-21T12:46:59.279856Z"
        },
        "trusted": true,
        "colab": {
          "base_uri": "https://localhost:8080/"
        },
        "outputId": "16846c21-a769-4aec-a3f3-5d825651a320"
      },
      "source": [
        "import numpy as np\n",
        "from google.colab import drive\n",
        "drive.mount('/content/gdrive')\n",
        "import os\n",
        "from tqdm import tqdm\n",
        "import cv2\n",
        "\n",
        "import os\n",
        "import fnmatch\n",
        "import os\n",
        "import numpy as np\n",
        "import pandas as pd\n",
        "import seaborn as sns\n",
        "import matplotlib.pyplot as plt\n",
        "from tensorflow.keras.applications.vgg16 import preprocess_input\n",
        "from tensorflow.keras.applications.inception_v3 import preprocess_input\n",
        "from tensorflow.keras.applications.resnet50 import preprocess_input\n",
        "from tensorflow.keras.preprocessing import image\n",
        "np.random.seed(21)\n",
        "\n",
        "from tensorflow.python.compiler.tensorrt import trt_convert as trt\n",
        "import time\n",
        "\n",
        "import tensorflow as tf\n",
        "from tensorflow.keras.layers import Conv2D,MaxPooling2D,Flatten,Dense,BatchNormalization,Activation,Dropout,GlobalAveragePooling2D\n",
        "from tensorflow.keras.models import Sequential,Model\n",
        "from tensorflow.keras.callbacks import ModelCheckpoint"
      ],
      "execution_count": null,
      "outputs": [
        {
          "output_type": "stream",
          "name": "stdout",
          "text": [
            "Drive already mounted at /content/gdrive; to attempt to forcibly remount, call drive.mount(\"/content/gdrive\", force_remount=True).\n"
          ]
        }
      ]
    },
    {
      "cell_type": "code",
      "metadata": {
        "id": "6a_EsaFANocu",
        "execution": {
          "iopub.status.busy": "2021-09-21T12:47:00.799967Z",
          "iopub.execute_input": "2021-09-21T12:47:00.800343Z",
          "iopub.status.idle": "2021-09-21T12:47:00.805468Z",
          "shell.execute_reply.started": "2021-09-21T12:47:00.800310Z",
          "shell.execute_reply": "2021-09-21T12:47:00.803944Z"
        },
        "trusted": true
      },
      "source": [
        "!unzip -uq \"/content/gdrive/MyDrive/train.zip\" -d \"/content/gdrive/MyDrive/train_mod\""
      ],
      "execution_count": null,
      "outputs": []
    },
    {
      "cell_type": "code",
      "metadata": {
        "id": "4E1CsmToPT3E",
        "execution": {
          "iopub.status.busy": "2021-09-21T12:47:01.898574Z",
          "iopub.execute_input": "2021-09-21T12:47:01.899720Z",
          "iopub.status.idle": "2021-09-21T12:47:01.904867Z",
          "shell.execute_reply.started": "2021-09-21T12:47:01.899648Z",
          "shell.execute_reply": "2021-09-21T12:47:01.903599Z"
        },
        "trusted": true
      },
      "source": [
        "!unzip -uq \"/content/gdrive/MyDrive/test.zip\" -d \"/content/gdrive/MyDrive/test_mod\""
      ],
      "execution_count": null,
      "outputs": []
    },
    {
      "cell_type": "code",
      "metadata": {
        "id": "hX5aXyHftb1I",
        "execution": {
          "iopub.status.busy": "2021-09-21T12:47:03.204536Z",
          "iopub.execute_input": "2021-09-21T12:47:03.205220Z",
          "iopub.status.idle": "2021-09-21T12:47:03.215075Z",
          "shell.execute_reply.started": "2021-09-21T12:47:03.205158Z",
          "shell.execute_reply": "2021-09-21T12:47:03.210842Z"
        },
        "trusted": true,
        "colab": {
          "base_uri": "https://localhost:8080/"
        },
        "outputId": "9df00f30-8ad6-4d18-ab64-179f5d72cad5"
      },
      "source": [
        "import os\n",
        "folder = '/content/gdrive/MyDrive/'\n",
        "print((os.path.join(folder,'train_mod')))"
      ],
      "execution_count": null,
      "outputs": [
        {
          "output_type": "stream",
          "name": "stdout",
          "text": [
            "/content/gdrive/MyDrive/train_mod\n"
          ]
        }
      ]
    },
    {
      "cell_type": "code",
      "metadata": {
        "id": "wlB5v8CFic-A",
        "execution": {
          "iopub.status.busy": "2021-09-21T12:47:05.320320Z",
          "iopub.execute_input": "2021-09-21T12:47:05.320634Z",
          "iopub.status.idle": "2021-09-21T12:47:05.333984Z",
          "shell.execute_reply.started": "2021-09-21T12:47:05.320593Z",
          "shell.execute_reply": "2021-09-21T12:47:05.332292Z"
        },
        "trusted": true
      },
      "source": [
        "import fnmatch\n",
        "def get_train_data(root):\n",
        "\n",
        "    train_dir = (os.path.join(root,'train_mod'))\n",
        "    train_label = []\n",
        "    train_img = []\n",
        "    label2num = {'Loose Silky-bent':0, 'Charlock':1, 'Sugar beet':2, 'Small-flowered Cranesbill':3,\n",
        "                 'Common Chickweed':4, 'Common wheat':5, 'Maize':6, 'Cleavers':7, 'Scentless Mayweed':8,\n",
        "                 'Fat Hen':9, 'Black-grass':10, 'Shepherds Purse':11}\n",
        "    for i in os.listdir(train_dir):\n",
        "      label_number = label2num[i]\n",
        "      new_path = os.path.join(train_dir,i)\n",
        "      for j in fnmatch.filter(os.listdir(new_path), '*.png'):\n",
        "        temp_img = image.load_img(os.path.join(new_path,j), target_size=(128,128))\n",
        "        train_label.append(label_number)\n",
        "        temp_img = image.img_to_array(temp_img)\n",
        "        train_img.append(temp_img)\n",
        "      print(i)\n",
        "    train_img = np.array(train_img)\n",
        "\n",
        "    train_y=pd.get_dummies(train_label)\n",
        "    train_y = np.array(train_y)\n",
        "    train_img=preprocess_input(train_img)\n",
        "    \n",
        "    return train_img,train_y"
      ],
      "execution_count": null,
      "outputs": []
    },
    {
      "cell_type": "code",
      "metadata": {
        "id": "pJYJUhm-ic-B",
        "execution": {
          "iopub.status.busy": "2021-09-21T12:47:15.850160Z",
          "iopub.execute_input": "2021-09-21T12:47:15.850545Z",
          "iopub.status.idle": "2021-09-21T12:48:10.677899Z",
          "shell.execute_reply.started": "2021-09-21T12:47:15.850512Z",
          "shell.execute_reply": "2021-09-21T12:48:10.675788Z"
        },
        "trusted": true,
        "colab": {
          "base_uri": "https://localhost:8080/"
        },
        "outputId": "a105545c-2e07-4b46-8c15-9153af5f681c"
      },
      "source": [
        "train_img,train_y = get_train_data(folder)\n",
        "print('Training data shape: ', train_img.shape)\n",
        "print('Training labels shape: ', train_y.shape)"
      ],
      "execution_count": null,
      "outputs": [
        {
          "output_type": "stream",
          "name": "stdout",
          "text": [
            "Black-grass\n",
            "Charlock\n",
            "Cleavers\n",
            "Common Chickweed\n",
            "Common wheat\n",
            "Fat Hen\n",
            "Loose Silky-bent\n",
            "Maize\n",
            "Scentless Mayweed\n",
            "Shepherds Purse\n",
            "Small-flowered Cranesbill\n",
            "Sugar beet\n",
            "Training data shape:  (4750, 128, 128, 3)\n",
            "Training labels shape:  (4750, 12)\n"
          ]
        }
      ]
    },
    {
      "cell_type": "code",
      "metadata": {
        "id": "x7HBspS8wrLE",
        "execution": {
          "iopub.status.busy": "2021-09-21T12:48:10.680257Z",
          "iopub.execute_input": "2021-09-21T12:48:10.680495Z",
          "iopub.status.idle": "2021-09-21T12:48:11.545731Z",
          "shell.execute_reply.started": "2021-09-21T12:48:10.680466Z",
          "shell.execute_reply": "2021-09-21T12:48:11.543300Z"
        },
        "trusted": true
      },
      "source": [
        "from sklearn.model_selection import train_test_split\n",
        "X_train, X_valid, Y_train, Y_valid=train_test_split(train_img,train_y,test_size=0.1, random_state=42)"
      ],
      "execution_count": null,
      "outputs": []
    },
    {
      "cell_type": "code",
      "metadata": {
        "id": "zpWMofSUwyMM",
        "execution": {
          "iopub.status.busy": "2021-09-21T12:48:56.978628Z",
          "iopub.execute_input": "2021-09-21T12:48:56.979060Z",
          "iopub.status.idle": "2021-09-21T12:48:57.340260Z",
          "shell.execute_reply.started": "2021-09-21T12:48:56.979016Z",
          "shell.execute_reply": "2021-09-21T12:48:57.339230Z"
        },
        "trusted": true
      },
      "source": [
        "from tensorflow.keras.preprocessing.image import ImageDataGenerator\n",
        "\n",
        "datagen = ImageDataGenerator(\n",
        "        rotation_range=30,  # randomly rotate images in the range (degrees, 0 to 180)\n",
        "        zoom_range = 0.1, # Randomly zoom image \n",
        "        width_shift_range=0.2,  # randomly shift images horizontally (fraction of total width)\n",
        "        height_shift_range=0.2,  # randomly shift images vertically (fraction of total height)\n",
        "        horizontal_flip=True,  # randomly flip images\n",
        "        vertical_flip=True)  # randomly flip images\n",
        "\n",
        "datagen.fit(X_train)"
      ],
      "execution_count": null,
      "outputs": []
    },
    {
      "cell_type": "markdown",
      "metadata": {
        "id": "siz05tI7whnC"
      },
      "source": [
        "# VGG"
      ]
    },
    {
      "cell_type": "code",
      "metadata": {
        "id": "rOiMn0aSThqo",
        "execution": {
          "iopub.status.busy": "2021-09-21T12:49:03.149749Z",
          "iopub.execute_input": "2021-09-21T12:49:03.150113Z",
          "iopub.status.idle": "2021-09-21T12:49:05.145505Z",
          "shell.execute_reply.started": "2021-09-21T12:49:03.150051Z",
          "shell.execute_reply": "2021-09-21T12:49:05.144456Z"
        },
        "trusted": true,
        "colab": {
          "base_uri": "https://localhost:8080/"
        },
        "outputId": "b673dddc-7f1b-476d-ad68-772c4bfe13d3"
      },
      "source": [
        "from tensorflow.keras.applications.vgg16 import VGG16\n",
        "\n",
        "vgg = VGG16(input_shape = (128, 128, 3), include_top = False,weights = 'imagenet',pooling='avg')\n",
        "vgg.summary()"
      ],
      "execution_count": null,
      "outputs": [
        {
          "output_type": "stream",
          "name": "stdout",
          "text": [
            "Downloading data from https://storage.googleapis.com/tensorflow/keras-applications/vgg16/vgg16_weights_tf_dim_ordering_tf_kernels_notop.h5\n",
            "58892288/58889256 [==============================] - 1s 0us/step\n",
            "58900480/58889256 [==============================] - 1s 0us/step\n",
            "Model: \"vgg16\"\n",
            "_________________________________________________________________\n",
            "Layer (type)                 Output Shape              Param #   \n",
            "=================================================================\n",
            "input_1 (InputLayer)         [(None, 128, 128, 3)]     0         \n",
            "_________________________________________________________________\n",
            "block1_conv1 (Conv2D)        (None, 128, 128, 64)      1792      \n",
            "_________________________________________________________________\n",
            "block1_conv2 (Conv2D)        (None, 128, 128, 64)      36928     \n",
            "_________________________________________________________________\n",
            "block1_pool (MaxPooling2D)   (None, 64, 64, 64)        0         \n",
            "_________________________________________________________________\n",
            "block2_conv1 (Conv2D)        (None, 64, 64, 128)       73856     \n",
            "_________________________________________________________________\n",
            "block2_conv2 (Conv2D)        (None, 64, 64, 128)       147584    \n",
            "_________________________________________________________________\n",
            "block2_pool (MaxPooling2D)   (None, 32, 32, 128)       0         \n",
            "_________________________________________________________________\n",
            "block3_conv1 (Conv2D)        (None, 32, 32, 256)       295168    \n",
            "_________________________________________________________________\n",
            "block3_conv2 (Conv2D)        (None, 32, 32, 256)       590080    \n",
            "_________________________________________________________________\n",
            "block3_conv3 (Conv2D)        (None, 32, 32, 256)       590080    \n",
            "_________________________________________________________________\n",
            "block3_pool (MaxPooling2D)   (None, 16, 16, 256)       0         \n",
            "_________________________________________________________________\n",
            "block4_conv1 (Conv2D)        (None, 16, 16, 512)       1180160   \n",
            "_________________________________________________________________\n",
            "block4_conv2 (Conv2D)        (None, 16, 16, 512)       2359808   \n",
            "_________________________________________________________________\n",
            "block4_conv3 (Conv2D)        (None, 16, 16, 512)       2359808   \n",
            "_________________________________________________________________\n",
            "block4_pool (MaxPooling2D)   (None, 8, 8, 512)         0         \n",
            "_________________________________________________________________\n",
            "block5_conv1 (Conv2D)        (None, 8, 8, 512)         2359808   \n",
            "_________________________________________________________________\n",
            "block5_conv2 (Conv2D)        (None, 8, 8, 512)         2359808   \n",
            "_________________________________________________________________\n",
            "block5_conv3 (Conv2D)        (None, 8, 8, 512)         2359808   \n",
            "_________________________________________________________________\n",
            "block5_pool (MaxPooling2D)   (None, 4, 4, 512)         0         \n",
            "_________________________________________________________________\n",
            "global_average_pooling2d (Gl (None, 512)               0         \n",
            "=================================================================\n",
            "Total params: 14,714,688\n",
            "Trainable params: 14,714,688\n",
            "Non-trainable params: 0\n",
            "_________________________________________________________________\n"
          ]
        }
      ]
    },
    {
      "cell_type": "code",
      "metadata": {
        "id": "Z_IUU4ZS1XrZ",
        "execution": {
          "iopub.status.busy": "2021-09-21T12:49:14.159430Z",
          "iopub.execute_input": "2021-09-21T12:49:14.159744Z",
          "iopub.status.idle": "2021-09-21T12:49:14.165846Z",
          "shell.execute_reply.started": "2021-09-21T12:49:14.159713Z",
          "shell.execute_reply": "2021-09-21T12:49:14.164662Z"
        },
        "trusted": true
      },
      "source": [
        "for layer in vgg.layers:\n",
        "    layer.trainable = False"
      ],
      "execution_count": null,
      "outputs": []
    },
    {
      "cell_type": "code",
      "metadata": {
        "id": "eGOdFzmC3qAb",
        "execution": {
          "iopub.status.busy": "2021-09-21T13:04:32.349721Z",
          "iopub.execute_input": "2021-09-21T13:04:32.350063Z",
          "iopub.status.idle": "2021-09-21T13:04:32.388133Z",
          "shell.execute_reply.started": "2021-09-21T13:04:32.350031Z",
          "shell.execute_reply": "2021-09-21T13:04:32.387162Z"
        },
        "trusted": true
      },
      "source": [
        "import tensorflow as tf\n",
        "from tensorflow.keras import layers\n",
        "from tensorflow.keras.layers import Dense,Flatten\n",
        "from tensorflow.keras.models import Sequential\n",
        "\n",
        "x = layers.Flatten()(vgg.output)\n",
        "\n",
        "x = layers.Dense(12, activation='softmax')(x)\n",
        "\n",
        "model = tf.keras.models.Model(vgg.input, x)\n",
        "\n",
        "model.compile(optimizer = tf.keras.optimizers.Adam(learning_rate=0.001), loss = 'categorical_crossentropy',metrics = ['accuracy'])\n"
      ],
      "execution_count": null,
      "outputs": []
    },
    {
      "cell_type": "code",
      "metadata": {
        "id": "5yEUB3wm41XR",
        "execution": {
          "iopub.status.busy": "2021-09-21T13:04:33.821887Z",
          "iopub.execute_input": "2021-09-21T13:04:33.825349Z",
          "iopub.status.idle": "2021-09-21T13:23:12.612002Z",
          "shell.execute_reply.started": "2021-09-21T13:04:33.825300Z",
          "shell.execute_reply": "2021-09-21T13:23:12.609277Z"
        },
        "trusted": true,
        "colab": {
          "base_uri": "https://localhost:8080/"
        },
        "outputId": "4d275d6b-0976-44b1-cbd3-ea59ef1c70ce"
      },
      "source": [
        "from tensorflow import keras\n",
        "from tensorflow.keras.callbacks import ModelCheckpoint,ReduceLROnPlateau,EarlyStopping\n",
        "batch_size = 64\n",
        "\n",
        "reduce_lr = ReduceLROnPlateau(monitor='val_loss', factor=0.5, patience=5, min_lr=0.000001,verbose=2)\n",
        "early_stop = EarlyStopping(monitor='val_loss', patience=7, verbose=2, mode='min')\n",
        "\n",
        "vgg_hist = model.fit(datagen.flow(X_train,Y_train),\n",
        "          batch_size=64,\n",
        "          epochs=100,\n",
        "          verbose=1, shuffle=True, validation_data=(X_valid,Y_valid), callbacks=[reduce_lr, early_stop])"
      ],
      "execution_count": null,
      "outputs": [
        {
          "output_type": "stream",
          "name": "stdout",
          "text": [
            "Epoch 1/100\n",
            "134/134 [==============================] - 69s 263ms/step - loss: 3.9598 - accuracy: 0.2185 - val_loss: 2.7136 - val_accuracy: 0.3411\n",
            "Epoch 2/100\n",
            "134/134 [==============================] - 22s 167ms/step - loss: 2.1132 - accuracy: 0.3918 - val_loss: 1.9445 - val_accuracy: 0.4442\n",
            "Epoch 3/100\n",
            "134/134 [==============================] - 22s 166ms/step - loss: 1.6113 - accuracy: 0.4863 - val_loss: 1.7035 - val_accuracy: 0.4926\n",
            "Epoch 4/100\n",
            "134/134 [==============================] - 23s 168ms/step - loss: 1.4665 - accuracy: 0.5357 - val_loss: 1.5867 - val_accuracy: 0.5263\n",
            "Epoch 5/100\n",
            "134/134 [==============================] - 22s 166ms/step - loss: 1.3072 - accuracy: 0.5841 - val_loss: 1.3816 - val_accuracy: 0.5768\n",
            "Epoch 6/100\n",
            "134/134 [==============================] - 22s 167ms/step - loss: 1.2554 - accuracy: 0.5876 - val_loss: 1.3286 - val_accuracy: 0.5832\n",
            "Epoch 7/100\n",
            "134/134 [==============================] - 22s 165ms/step - loss: 1.1556 - accuracy: 0.6213 - val_loss: 1.2550 - val_accuracy: 0.5895\n",
            "Epoch 8/100\n",
            "134/134 [==============================] - 23s 172ms/step - loss: 1.1281 - accuracy: 0.6222 - val_loss: 1.2401 - val_accuracy: 0.6147\n",
            "Epoch 9/100\n",
            "134/134 [==============================] - 22s 166ms/step - loss: 1.0703 - accuracy: 0.6360 - val_loss: 1.2242 - val_accuracy: 0.6105\n",
            "Epoch 10/100\n",
            "134/134 [==============================] - 22s 167ms/step - loss: 1.0347 - accuracy: 0.6447 - val_loss: 1.2098 - val_accuracy: 0.5979\n",
            "Epoch 11/100\n",
            "134/134 [==============================] - 22s 164ms/step - loss: 1.0261 - accuracy: 0.6575 - val_loss: 1.1573 - val_accuracy: 0.6232\n",
            "Epoch 12/100\n",
            "134/134 [==============================] - 22s 165ms/step - loss: 1.0029 - accuracy: 0.6625 - val_loss: 1.2113 - val_accuracy: 0.6232\n",
            "Epoch 13/100\n",
            "134/134 [==============================] - 22s 164ms/step - loss: 0.9932 - accuracy: 0.6690 - val_loss: 1.1184 - val_accuracy: 0.6358\n",
            "Epoch 14/100\n",
            "134/134 [==============================] - 23s 168ms/step - loss: 0.9852 - accuracy: 0.6681 - val_loss: 1.1185 - val_accuracy: 0.6484\n",
            "Epoch 15/100\n",
            "134/134 [==============================] - 22s 167ms/step - loss: 0.9792 - accuracy: 0.6669 - val_loss: 1.0983 - val_accuracy: 0.6484\n",
            "Epoch 16/100\n",
            "134/134 [==============================] - 23s 170ms/step - loss: 0.9335 - accuracy: 0.6763 - val_loss: 1.0998 - val_accuracy: 0.6547\n",
            "Epoch 17/100\n",
            "134/134 [==============================] - 22s 165ms/step - loss: 0.9381 - accuracy: 0.6749 - val_loss: 1.0945 - val_accuracy: 0.6653\n",
            "Epoch 18/100\n",
            "134/134 [==============================] - 22s 167ms/step - loss: 0.8972 - accuracy: 0.6929 - val_loss: 1.0829 - val_accuracy: 0.6400\n",
            "Epoch 19/100\n",
            "134/134 [==============================] - 22s 166ms/step - loss: 0.9093 - accuracy: 0.6798 - val_loss: 1.0499 - val_accuracy: 0.6568\n",
            "Epoch 20/100\n",
            "134/134 [==============================] - 22s 167ms/step - loss: 0.9206 - accuracy: 0.6821 - val_loss: 1.0482 - val_accuracy: 0.6611\n",
            "Epoch 21/100\n",
            "134/134 [==============================] - 22s 166ms/step - loss: 0.8999 - accuracy: 0.6919 - val_loss: 1.0513 - val_accuracy: 0.6547\n",
            "Epoch 22/100\n",
            "134/134 [==============================] - 22s 167ms/step - loss: 0.8988 - accuracy: 0.6863 - val_loss: 1.0563 - val_accuracy: 0.6379\n",
            "Epoch 23/100\n",
            "134/134 [==============================] - 22s 166ms/step - loss: 0.8932 - accuracy: 0.6999 - val_loss: 0.9697 - val_accuracy: 0.6800\n",
            "Epoch 24/100\n",
            "134/134 [==============================] - 22s 165ms/step - loss: 0.8945 - accuracy: 0.6985 - val_loss: 1.0895 - val_accuracy: 0.6442\n",
            "Epoch 25/100\n",
            "134/134 [==============================] - 23s 168ms/step - loss: 0.9040 - accuracy: 0.6851 - val_loss: 1.1173 - val_accuracy: 0.6547\n",
            "Epoch 26/100\n",
            "134/134 [==============================] - 22s 165ms/step - loss: 0.8992 - accuracy: 0.6957 - val_loss: 0.9829 - val_accuracy: 0.6695\n",
            "Epoch 27/100\n",
            "134/134 [==============================] - 23s 169ms/step - loss: 0.8768 - accuracy: 0.6947 - val_loss: 1.0189 - val_accuracy: 0.6695\n",
            "Epoch 28/100\n",
            "134/134 [==============================] - 22s 165ms/step - loss: 0.8643 - accuracy: 0.7048 - val_loss: 1.0948 - val_accuracy: 0.6484\n",
            "\n",
            "Epoch 00028: ReduceLROnPlateau reducing learning rate to 0.0005000000237487257.\n",
            "Epoch 29/100\n",
            "134/134 [==============================] - 22s 163ms/step - loss: 0.8338 - accuracy: 0.7036 - val_loss: 0.9827 - val_accuracy: 0.6758\n",
            "Epoch 30/100\n",
            "134/134 [==============================] - 22s 166ms/step - loss: 0.8448 - accuracy: 0.7085 - val_loss: 1.0298 - val_accuracy: 0.6568\n",
            "Epoch 00030: early stopping\n"
          ]
        }
      ]
    },
    {
      "cell_type": "code",
      "metadata": {
        "id": "SP-14BchQs3b",
        "execution": {
          "iopub.status.busy": "2021-09-21T13:25:38.541856Z",
          "iopub.execute_input": "2021-09-21T13:25:38.542239Z",
          "iopub.status.idle": "2021-09-21T13:25:39.056568Z",
          "shell.execute_reply.started": "2021-09-21T13:25:38.542159Z",
          "shell.execute_reply": "2021-09-21T13:25:39.055580Z"
        },
        "trusted": true,
        "colab": {
          "base_uri": "https://localhost:8080/",
          "height": 570
        },
        "outputId": "bffdbced-9bbb-4bfb-db23-71005bf1ace3"
      },
      "source": [
        "import matplotlib.pyplot as plt\n",
        "\n",
        "#plt.figure(figsize=(14,5))\n",
        "\n",
        "plt.xlabel(\"Number of Epochs\")\n",
        "plt.ylabel('Accuracy', fontsize=16)\n",
        "plt.plot(vgg_hist.history['accuracy'], color='green', label='Training Accuracy')\n",
        "plt.plot(vgg_hist.history['val_accuracy'], color='orange', label='Validation Accuracy')\n",
        "plt.legend(loc='lower right')\n",
        "plt.show()\n",
        "\n",
        "plt.suptitle('Train Results', fontsize=10)\n",
        "plt.xlabel(\"Number of Epochs\")\n",
        "plt.ylabel('Loss', fontsize=16)\n",
        "plt.plot(vgg_hist.history['loss'], color='b', label='Training Loss')\n",
        "plt.plot(vgg_hist.history['val_loss'], color='r', label='Validation Loss')\n",
        "plt.legend(loc='upper right')\n",
        "plt.show()"
      ],
      "execution_count": null,
      "outputs": [
        {
          "output_type": "display_data",
          "data": {
            "image/png": "[encoded data removed]",
            "text/plain": [
              "<Figure size 432x288 with 1 Axes>"
            ]
          },
          "metadata": {
            "needs_background": "light"
          }
        },
        {
          "output_type": "display_data",
          "data": {
            "image/png": "[encoded data removed]",
            "text/plain": [
              "<Figure size 432x288 with 1 Axes>"
            ]
          },
          "metadata": {
            "needs_background": "light"
          }
        }
      ]
    },
    {
      "cell_type": "code",
      "metadata": {
        "id": "NSNZysnhp8d6",
        "execution": {
          "iopub.status.busy": "2021-09-21T15:21:23.647894Z",
          "iopub.execute_input": "2021-09-21T15:21:23.648251Z",
          "iopub.status.idle": "2021-09-21T15:21:23.657601Z",
          "shell.execute_reply.started": "2021-09-21T15:21:23.648213Z",
          "shell.execute_reply": "2021-09-21T15:21:23.656233Z"
        },
        "trusted": true
      },
      "source": [
        "def class_report(m):\n",
        "    target_names = os.listdir(os.path.join(folder,'train_mod'))\n",
        "    print(classification_report(Y_valid[:100].argmax(axis=1), m.predict(X_valid[:100]).argmax(axis=1), target_names=target_names))\n",
        "    \n",
        "    \n",
        "from sklearn.metrics import confusion_matrix\n",
        "\n",
        "def conf_matrix(m):\n",
        "    target_names = os.listdir(os.path.join(folder,'train_mod'))\n",
        "    cf_matrix = confusion_matrix(Y_valid.argmax(axis=1), np.round(m.predict(X_valid).argmax(axis=1),0))\n",
        "    plt.figure(figsize=(20,20))\n",
        "    sns.heatmap(cf_matrix, annot=True, xticklabels=target_names, yticklabels=target_names, cmap='Blues')"
      ],
      "execution_count": null,
      "outputs": []
    },
    {
      "cell_type": "code",
      "metadata": {
        "id": "T9iZO5PIz8YB",
        "execution": {
          "iopub.status.busy": "2021-09-21T15:21:24.992368Z",
          "iopub.execute_input": "2021-09-21T15:21:24.992680Z",
          "iopub.status.idle": "2021-09-21T15:21:25.352782Z",
          "shell.execute_reply.started": "2021-09-21T15:21:24.992647Z",
          "shell.execute_reply": "2021-09-21T15:21:25.350813Z"
        },
        "trusted": true,
        "colab": {
          "base_uri": "https://localhost:8080/"
        },
        "outputId": "bdbb8ac6-86af-42db-fa7f-593f182a0b3a"
      },
      "source": [
        "from sklearn.metrics import classification_report\n",
        "\n",
        "class_report(model)"
      ],
      "execution_count": null,
      "outputs": [
        {
          "output_type": "stream",
          "name": "stdout",
          "text": [
            "                           precision    recall  f1-score   support\n",
            "\n",
            "              Black-grass       0.61      0.73      0.67        15\n",
            "                 Charlock       1.00      0.62      0.76        13\n",
            "                 Cleavers       0.56      0.62      0.59         8\n",
            "         Common Chickweed       0.56      0.69      0.62        13\n",
            "             Common wheat       0.54      0.88      0.67         8\n",
            "                  Fat Hen       1.00      0.33      0.50         3\n",
            "         Loose Silky-bent       1.00      1.00      1.00         2\n",
            "                    Maize       0.50      0.67      0.57         3\n",
            "        Scentless Mayweed       0.56      0.75      0.64        12\n",
            "          Shepherds Purse       0.80      0.36      0.50        11\n",
            "Small-flowered Cranesbill       0.60      0.50      0.55         6\n",
            "               Sugar beet       1.00      0.50      0.67         6\n",
            "\n",
            "                 accuracy                           0.64       100\n",
            "                macro avg       0.73      0.64      0.64       100\n",
            "             weighted avg       0.70      0.64      0.64       100\n",
            "\n"
          ]
        }
      ]
    },
    {
      "cell_type": "code",
      "metadata": {
        "id": "nzP9opKK0CeZ",
        "execution": {
          "iopub.status.busy": "2021-09-21T13:26:43.635014Z",
          "iopub.execute_input": "2021-09-21T13:26:43.635982Z",
          "iopub.status.idle": "2021-09-21T13:26:45.341068Z",
          "shell.execute_reply.started": "2021-09-21T13:26:43.635924Z",
          "shell.execute_reply": "2021-09-21T13:26:45.339876Z"
        },
        "trusted": true,
        "colab": {
          "base_uri": "https://localhost:8080/",
          "height": 1000
        },
        "outputId": "d8e03369-38d0-4405-8233-9d8a6befa724"
      },
      "source": [
        "conf_matrix(model)"
      ],
      "execution_count": null,
      "outputs": [
        {
          "output_type": "display_data",
          "data": {
            "image/png": "[encoded data removed]",
            "text/plain": [
              "<Figure size 1440x1440 with 2 Axes>"
            ]
          },
          "metadata": {
            "needs_background": "light"
          }
        }
      ]
    },
    {
      "cell_type": "code",
      "metadata": {
        "execution": {
          "iopub.status.busy": "2021-09-21T14:02:19.301885Z",
          "iopub.execute_input": "2021-09-21T14:02:19.302246Z",
          "iopub.status.idle": "2021-09-21T14:02:22.084674Z",
          "shell.execute_reply.started": "2021-09-21T14:02:19.302169Z",
          "shell.execute_reply": "2021-09-21T14:02:22.083651Z"
        },
        "trusted": true,
        "colab": {
          "base_uri": "https://localhost:8080/"
        },
        "id": "0L4h2a9k0reD",
        "outputId": "d84e5143-e715-4410-cd8d-ef9a325fc084"
      },
      "source": [
        "model.save('vgg_model')"
      ],
      "execution_count": null,
      "outputs": [
        {
          "output_type": "stream",
          "name": "stdout",
          "text": [
            "INFO:tensorflow:Assets written to: vgg_model/assets\n"
          ]
        }
      ]
    },
    {
      "cell_type": "markdown",
      "metadata": {
        "id": "0GrReYDMic-D"
      },
      "source": [
        "Optimization of VGG Model with TensorRT"
      ]
    },
    {
      "cell_type": "markdown",
      "metadata": {
        "id": "6b1Y6kdpPJNJ"
      },
      "source": [
        "TF-TRT FP32 model"
      ]
    },
    {
      "cell_type": "code",
      "metadata": {
        "colab": {
          "base_uri": "https://localhost:8080/"
        },
        "id": "EsMJbeX7B9w8",
        "outputId": "52541664-678f-4309-c39f-75adf457f9a7"
      },
      "source": [
        "print('Converting to TF-TRT FP32...')\n",
        "conversion_params = trt.DEFAULT_TRT_CONVERSION_PARAMS._replace(precision_mode=trt.TrtPrecisionMode.FP32,\n",
        "                                                               max_workspace_size_bytes=80000)\n",
        "\n",
        "converter = trt.TrtGraphConverterV2(input_saved_model_dir='/content/vgg_model',\n",
        "                                    conversion_params=conversion_params)\n",
        "converter.convert()\n",
        "converter.save(output_saved_model_dir='vgg_saved_model_TFTRT_FP32')\n",
        "print('Done Converting to TF-TRT FP32')"
      ],
      "execution_count": null,
      "outputs": [
        {
          "output_type": "stream",
          "name": "stdout",
          "text": [
            "Converting to TF-TRT FP32...\n",
            "INFO:tensorflow:Linked TensorRT version: (0, 0, 0)\n",
            "INFO:tensorflow:Loaded TensorRT version: (0, 0, 0)\n",
            "INFO:tensorflow:Assets written to: vgg_saved_model_TFTRT_FP32/assets\n",
            "Done Converting to TF-TRT FP32\n"
          ]
        }
      ]
    },
    {
      "cell_type": "code",
      "metadata": {
        "colab": {
          "base_uri": "https://localhost:8080/"
        },
        "id": "reFyce_iCDIs",
        "outputId": "70c390ef-8106-4390-f97e-824f4d2b0f59"
      },
      "source": [
        "!saved_model_cli show --all --dir '/content/vgg_saved_model_TFTRT_FP32'"
      ],
      "execution_count": null,
      "outputs": [
        {
          "output_type": "stream",
          "name": "stdout",
          "text": [
            "\n",
            "MetaGraphDef with tag-set: 'serve' contains the following SignatureDefs:\n",
            "\n",
            "signature_def['__saved_model_init_op']:\n",
            "  The given SavedModel SignatureDef contains the following input(s):\n",
            "  The given SavedModel SignatureDef contains the following output(s):\n",
            "    outputs['__saved_model_init_op'] tensor_info:\n",
            "        dtype: DT_INVALID\n",
            "        shape: unknown_rank\n",
            "        name: NoOp\n",
            "  Method name is: \n",
            "\n",
            "signature_def['serving_default']:\n",
            "  The given SavedModel SignatureDef contains the following input(s):\n",
            "    inputs['input_1'] tensor_info:\n",
            "        dtype: DT_FLOAT\n",
            "        shape: (-1, 128, 128, 3)\n",
            "        name: serving_default_input_1:0\n",
            "  The given SavedModel SignatureDef contains the following output(s):\n",
            "    outputs['dense'] tensor_info:\n",
            "        dtype: DT_FLOAT\n",
            "        shape: (-1, 12)\n",
            "        name: PartitionedCall:0\n",
            "  Method name is: tensorflow/serving/predict\n",
            "WARNING: Logging before flag parsing goes to stderr.\n",
            "W0922 05:47:56.497376 140250421233536 deprecation.py:506] From /usr/local/lib/python2.7/dist-packages/tensorflow_core/python/ops/resource_variable_ops.py:1786: calling __init__ (from tensorflow.python.ops.resource_variable_ops) with constraint is deprecated and will be removed in a future version.\n",
            "Instructions for updating:\n",
            "If using Keras pass *_constraint arguments to layers.\n",
            "\n",
            "Defined Functions:\n",
            "  Function Name: '__call__'\n",
            "    Option #1\n",
            "      Callable with:\n",
            "        Argument #1\n",
            "          input_1: TensorSpec(shape=(None, 128, 128, 3), dtype=tf.float32, name=u'input_1')\n",
            "        Argument #2\n",
            "          DType: bool\n",
            "          Value: False\n",
            "        Argument #3\n",
            "          DType: NoneType\n",
            "          Value: None\n",
            "    Option #2\n",
            "      Callable with:\n",
            "        Argument #1\n",
            "          inputs: TensorSpec(shape=(None, 128, 128, 3), dtype=tf.float32, name=u'inputs')\n",
            "        Argument #2\n",
            "          DType: bool\n",
            "          Value: False\n",
            "        Argument #3\n",
            "          DType: NoneType\n",
            "          Value: None\n",
            "    Option #3\n",
            "      Callable with:\n",
            "        Argument #1\n",
            "          inputs: TensorSpec(shape=(None, 128, 128, 3), dtype=tf.float32, name=u'inputs')\n",
            "        Argument #2\n",
            "          DType: bool\n",
            "          Value: True\n",
            "        Argument #3\n",
            "          DType: NoneType\n",
            "          Value: None\n",
            "    Option #4\n",
            "      Callable with:\n",
            "        Argument #1\n",
            "          input_1: TensorSpec(shape=(None, 128, 128, 3), dtype=tf.float32, name=u'input_1')\n",
            "        Argument #2\n",
            "          DType: bool\n",
            "          Value: True\n",
            "        Argument #3\n",
            "          DType: NoneType\n",
            "          Value: None\n",
            "\n",
            "  Function Name: '_default_save_signature'\n",
            "Traceback (most recent call last):\n",
            "  File \"/usr/local/bin/saved_model_cli\", line 8, in <module>\n",
            "    sys.exit(main())\n",
            "  File \"/usr/local/lib/python2.7/dist-packages/tensorflow_core/python/tools/saved_model_cli.py\", line 990, in main\n",
            "    args.func(args)\n",
            "  File \"/usr/local/lib/python2.7/dist-packages/tensorflow_core/python/tools/saved_model_cli.py\", line 691, in show\n",
            "    _show_all(args.dir)\n",
            "  File \"/usr/local/lib/python2.7/dist-packages/tensorflow_core/python/tools/saved_model_cli.py\", line 283, in _show_all\n",
            "    _show_defined_functions(saved_model_dir)\n",
            "  File \"/usr/local/lib/python2.7/dist-packages/tensorflow_core/python/tools/saved_model_cli.py\", line 186, in _show_defined_functions\n",
            "    function._list_all_concrete_functions_for_serialization()  # pylint: disable=protected-access\n",
            "AttributeError: '_WrapperFunction' object has no attribute '_list_all_concrete_functions_for_serialization'\n"
          ]
        }
      ]
    },
    {
      "cell_type": "code",
      "metadata": {
        "id": "EGdjksYFic-G",
        "trusted": true,
        "colab": {
          "base_uri": "https://localhost:8080/"
        },
        "outputId": "70917f5a-fa1b-44ec-c742-3a39b230fa31"
      },
      "source": [
        "from tensorflow.keras.applications.vgg16 import preprocess_input\n",
        "batch_size = 16\n",
        "batched_input = np.zeros((batch_size, 128, 128, 3), dtype=np.float32)\n",
        "\n",
        "for i in range(batch_size):\n",
        "    img_path = '/content/gdrive/MyDrive/train_mod/Black-grass'\n",
        "    for j in os.listdir(img_path):\n",
        "        img = image.load_img(os.path.join(img_path,j), target_size=(128, 128))\n",
        "        x = image.img_to_array(img)\n",
        "        x = np.expand_dims(x, axis=0)\n",
        "        x = preprocess_input(x)\n",
        "        batched_input[i, :] = x\n",
        "batched_input = tf.constant(batched_input)\n",
        "print('batched_input shape: ', batched_input.shape)"
      ],
      "execution_count": null,
      "outputs": [
        {
          "output_type": "stream",
          "name": "stdout",
          "text": [
            "batched_input shape:  (16, 128, 128, 3)\n"
          ]
        }
      ]
    },
    {
      "cell_type": "code",
      "metadata": {
        "id": "sSQRdUmeic-H",
        "trusted": true
      },
      "source": [
        "def benchmark_tftrt(input_saved_model):\n",
        "    saved_model_loaded = tf.saved_model.load(input_saved_model, tags=[tf.compat.v1.saved_model.tag_constants.SERVING])\n",
        "    infer = saved_model_loaded.signatures['serving_default']\n",
        "\n",
        "    N_warmup_run = 50\n",
        "    N_run = 500\n",
        "    elapsed_time = []\n",
        "\n",
        "    for i in range(N_warmup_run):\n",
        "        labeling = infer(batched_input)\n",
        "\n",
        "    for i in range(N_run):\n",
        "        start_time = time.time()\n",
        "        labeling = infer(batched_input)\n",
        "        #prob = labeling['probs'].numpy()\n",
        "        end_time = time.time()\n",
        "        elapsed_time = np.append(elapsed_time, end_time - start_time)\n",
        "        if i % 50 == 0:\n",
        "            print('Step {}: {:4.1f}ms'.format(i, (elapsed_time[-50:].mean()) * 1000))\n",
        "\n",
        "    print('Throughput: {:.0f} images/s'.format(N_run * batch_size / elapsed_time.sum()))"
      ],
      "execution_count": null,
      "outputs": []
    },
    {
      "cell_type": "code",
      "metadata": {
        "id": "bwnNIjCnic-I",
        "trusted": true,
        "colab": {
          "base_uri": "https://localhost:8080/"
        },
        "outputId": "e5c2f2e4-28c1-42a1-8662-0e50374fbe35"
      },
      "source": [
        "benchmark_tftrt('vgg_saved_model_TFTRT_FP32')"
      ],
      "execution_count": null,
      "outputs": [
        {
          "output_type": "stream",
          "name": "stdout",
          "text": [
            "Step 0: 43.3ms\n",
            "Step 50: 43.3ms\n",
            "Step 100: 43.3ms\n",
            "Step 150: 43.3ms\n",
            "Step 200: 43.3ms\n",
            "Step 250: 43.3ms\n",
            "Step 300: 43.3ms\n",
            "Step 350: 43.3ms\n",
            "Step 400: 43.3ms\n",
            "Step 450: 43.2ms\n",
            "Throughput: 369 images/s\n"
          ]
        }
      ]
    },
    {
      "cell_type": "markdown",
      "metadata": {
        "id": "bV3eboSfO-xa"
      },
      "source": [
        "TF-TRT FP16 model"
      ]
    },
    {
      "cell_type": "code",
      "metadata": {
        "id": "aGmrM3c5JyCf",
        "colab": {
          "base_uri": "https://localhost:8080/"
        },
        "outputId": "68da5c53-662f-4a38-d91f-157c54786667"
      },
      "source": [
        "print('Converting to TF-TRT FP16...')\n",
        "conversion_params = trt.DEFAULT_TRT_CONVERSION_PARAMS._replace(\n",
        "    precision_mode=trt.TrtPrecisionMode.FP16,\n",
        "    max_workspace_size_bytes=8000000000)\n",
        "converter = trt.TrtGraphConverterV2(input_saved_model_dir='/content/vgg_model',\n",
        "                                    conversion_params=conversion_params)\n",
        "converter.convert()\n",
        "converter.save(output_saved_model_dir='vgg_saved_model_TFTRT_FP16')\n",
        "print('Done Converting to TF-TRT FP16')"
      ],
      "execution_count": null,
      "outputs": [
        {
          "output_type": "stream",
          "name": "stdout",
          "text": [
            "Converting to TF-TRT FP16...\n",
            "INFO:tensorflow:Linked TensorRT version: (0, 0, 0)\n",
            "INFO:tensorflow:Loaded TensorRT version: (0, 0, 0)\n",
            "INFO:tensorflow:Assets written to: vgg_saved_model_TFTRT_FP16/assets\n",
            "Done Converting to TF-TRT FP16\n"
          ]
        }
      ]
    },
    {
      "cell_type": "code",
      "metadata": {
        "id": "yIjiFIf_KGyK",
        "colab": {
          "base_uri": "https://localhost:8080/"
        },
        "outputId": "9ba3304f-18e3-44e4-cb6d-31ca150d84bd"
      },
      "source": [
        "benchmark_tftrt('vgg_saved_model_TFTRT_FP16')"
      ],
      "execution_count": null,
      "outputs": [
        {
          "output_type": "stream",
          "name": "stdout",
          "text": [
            "Step 0: 42.6ms\n",
            "Step 50: 43.0ms\n",
            "Step 100: 43.1ms\n",
            "Step 150: 43.1ms\n",
            "Step 200: 43.2ms\n",
            "Step 250: 43.2ms\n",
            "Step 300: 43.2ms\n",
            "Step 350: 43.2ms\n",
            "Step 400: 43.2ms\n",
            "Step 450: 43.2ms\n",
            "Throughput: 371 images/s\n"
          ]
        }
      ]
    },
    {
      "cell_type": "markdown",
      "metadata": {
        "id": "rtSeeurOPPNL"
      },
      "source": [
        "TF-TRT INT8 model"
      ]
    },
    {
      "cell_type": "code",
      "metadata": {
        "id": "Jxgg-xMjKPA6",
        "colab": {
          "base_uri": "https://localhost:8080/"
        },
        "outputId": "38eed391-2df1-44c7-ae90-160cff7e2aa5"
      },
      "source": [
        "print('Converting to TF-TRT INT8...')\n",
        "conversion_params = trt.DEFAULT_TRT_CONVERSION_PARAMS._replace(\n",
        "    precision_mode=trt.TrtPrecisionMode.INT8, \n",
        "    max_workspace_size_bytes=8000000000, \n",
        "    use_calibration=True)\n",
        "converter = trt.TrtGraphConverterV2(\n",
        "    input_saved_model_dir='/content/vgg_model', \n",
        "    conversion_params=conversion_params)\n",
        "\n",
        "def calibration_input_fn():\n",
        "    yield (batched_input, )\n",
        "converter.convert(calibration_input_fn=calibration_input_fn)\n",
        "\n",
        "converter.save(output_saved_model_dir='vgg_saved_model_TFTRT_INT8')\n",
        "print('Done Converting to TF-TRT INT8')"
      ],
      "execution_count": null,
      "outputs": [
        {
          "output_type": "stream",
          "name": "stdout",
          "text": [
            "Converting to TF-TRT INT8...\n",
            "INFO:tensorflow:Linked TensorRT version: (0, 0, 0)\n",
            "INFO:tensorflow:Loaded TensorRT version: (0, 0, 0)\n",
            "INFO:tensorflow:Assets written to: vgg_saved_model_TFTRT_INT8/assets\n",
            "Done Converting to TF-TRT INT8\n"
          ]
        }
      ]
    },
    {
      "cell_type": "code",
      "metadata": {
        "id": "O8Fwn9Q1KOqB",
        "colab": {
          "base_uri": "https://localhost:8080/"
        },
        "outputId": "b1b33ff2-9e35-43c3-8175-e29b7446cb38"
      },
      "source": [
        "benchmark_tftrt('vgg_saved_model_TFTRT_INT8')"
      ],
      "execution_count": null,
      "outputs": [
        {
          "output_type": "stream",
          "name": "stdout",
          "text": [
            "Step 0: 42.6ms\n",
            "Step 50: 43.1ms\n",
            "Step 100: 43.1ms\n",
            "Step 150: 43.3ms\n",
            "Step 200: 43.3ms\n",
            "Step 250: 43.2ms\n",
            "Step 300: 43.3ms\n",
            "Step 350: 43.3ms\n",
            "Step 400: 43.2ms\n",
            "Step 450: 43.2ms\n",
            "Throughput: 370 images/s\n"
          ]
        }
      ]
    },
    {
      "cell_type": "markdown",
      "metadata": {
        "id": "0ID6hxLl1DuL"
      },
      "source": [
        "Model Optimization Using TF-Lite(Post Training Dynamic range quantization)"
      ]
    },
    {
      "cell_type": "code",
      "metadata": {
        "id": "Ph1bKx4O1DRl",
        "execution": {
          "iopub.status.busy": "2021-09-21T13:27:02.274625Z",
          "iopub.execute_input": "2021-09-21T13:27:02.274983Z",
          "iopub.status.idle": "2021-09-21T13:27:02.280143Z",
          "shell.execute_reply.started": "2021-09-21T13:27:02.274951Z",
          "shell.execute_reply": "2021-09-21T13:27:02.278698Z"
        },
        "trusted": true
      },
      "source": [
        "import pathlib"
      ],
      "execution_count": null,
      "outputs": []
    },
    {
      "cell_type": "code",
      "metadata": {
        "id": "eqm34N-01DNG",
        "execution": {
          "iopub.status.busy": "2021-09-21T14:47:56.595742Z",
          "iopub.execute_input": "2021-09-21T14:47:56.596069Z",
          "iopub.status.idle": "2021-09-21T14:47:56.604194Z",
          "shell.execute_reply.started": "2021-09-21T14:47:56.596038Z",
          "shell.execute_reply": "2021-09-21T14:47:56.602934Z"
        },
        "trusted": true
      },
      "source": [
        "tflite_models_dir = pathlib.Path(os.path.join(os.getcwd(),'tflite_models'))\n",
        "tflite_models_dir.mkdir(exist_ok=True, parents=True)"
      ],
      "execution_count": null,
      "outputs": []
    },
    {
      "cell_type": "code",
      "metadata": {
        "id": "YZ-4c6m31DLH",
        "execution": {
          "iopub.status.busy": "2021-09-21T14:47:58.359901Z",
          "iopub.execute_input": "2021-09-21T14:47:58.360533Z",
          "iopub.status.idle": "2021-09-21T14:47:59.517620Z",
          "shell.execute_reply.started": "2021-09-21T14:47:58.360498Z",
          "shell.execute_reply": "2021-09-21T14:47:59.516599Z"
        },
        "trusted": true
      },
      "source": [
        "converter_vgg = tf.lite.TFLiteConverter.from_saved_model('./vgg_model')"
      ],
      "execution_count": null,
      "outputs": []
    },
    {
      "cell_type": "code",
      "metadata": {
        "id": "0VsMcUUn1DG6",
        "execution": {
          "iopub.status.busy": "2021-09-21T15:24:17.375935Z",
          "iopub.execute_input": "2021-09-21T15:24:17.376276Z",
          "iopub.status.idle": "2021-09-21T15:24:19.096140Z",
          "shell.execute_reply.started": "2021-09-21T15:24:17.376242Z",
          "shell.execute_reply": "2021-09-21T15:24:19.095167Z"
        },
        "trusted": true,
        "colab": {
          "base_uri": "https://localhost:8080/"
        },
        "outputId": "5f9e0412-ce73-4dc3-9b84-b40f89e656df"
      },
      "source": [
        "vgg16_tflite_file = tflite_models_dir/\"vgg16.tflite\"\n",
        "converter_vgg.optimizations = [tf.lite.Optimize.OPTIMIZE_FOR_LATENCY]\n",
        "vgg16_tflite_file.write_bytes(converter_vgg.convert())\n",
        "tflite_quant_model = converter_vgg.convert()"
      ],
      "execution_count": null,
      "outputs": [
        {
          "output_type": "stream",
          "name": "stderr",
          "text": [
            "WARNING:absl:Optimization option OPTIMIZE_FOR_LATENCY is deprecated, please use optimizations=[Optimize.DEFAULT] instead.\n",
            "WARNING:absl:Optimization option OPTIMIZE_FOR_LATENCY is deprecated, please use optimizations=[Optimize.DEFAULT] instead.\n",
            "WARNING:absl:Optimization option OPTIMIZE_FOR_LATENCY is deprecated, please use optimizations=[Optimize.DEFAULT] instead.\n",
            "WARNING:absl:Optimization option OPTIMIZE_FOR_LATENCY is deprecated, please use optimizations=[Optimize.DEFAULT] instead.\n",
            "WARNING:absl:Optimization option OPTIMIZE_FOR_LATENCY is deprecated, please use optimizations=[Optimize.DEFAULT] instead.\n",
            "WARNING:absl:Optimization option OPTIMIZE_FOR_LATENCY is deprecated, please use optimizations=[Optimize.DEFAULT] instead.\n"
          ]
        }
      ]
    },
    {
      "cell_type": "code",
      "metadata": {
        "id": "Uw7FOZ3X1DCw",
        "execution": {
          "iopub.status.busy": "2021-09-21T15:24:20.543301Z",
          "iopub.execute_input": "2021-09-21T15:24:20.544221Z",
          "iopub.status.idle": "2021-09-21T15:24:20.552573Z",
          "shell.execute_reply.started": "2021-09-21T15:24:20.544166Z",
          "shell.execute_reply": "2021-09-21T15:24:20.551448Z"
        },
        "trusted": true,
        "colab": {
          "base_uri": "https://localhost:8080/"
        },
        "outputId": "a9207aa5-a4d5-421e-82c5-ee7e285674ce"
      },
      "source": [
        "interpreter = tf.lite.Interpreter(model_path='./tflite_models/vgg16.tflite')\n",
        "input_type = interpreter.get_input_details()[0]['dtype']\n",
        "print('input: ', input_type)\n",
        "output_type = interpreter.get_output_details()[0]['dtype']\n",
        "print('output: ', output_type)"
      ],
      "execution_count": null,
      "outputs": [
        {
          "output_type": "stream",
          "name": "stdout",
          "text": [
            "input:  <class 'numpy.float32'>\n",
            "output:  <class 'numpy.float32'>\n"
          ]
        }
      ]
    },
    {
      "cell_type": "code",
      "metadata": {
        "id": "Y8NY_Rcu11GH",
        "execution": {
          "iopub.status.busy": "2021-09-21T15:24:22.513140Z",
          "iopub.execute_input": "2021-09-21T15:24:22.514000Z",
          "iopub.status.idle": "2021-09-21T15:24:22.522863Z",
          "shell.execute_reply.started": "2021-09-21T15:24:22.513963Z",
          "shell.execute_reply": "2021-09-21T15:24:22.521731Z"
        },
        "trusted": true
      },
      "source": [
        "def run_tflite_model(tflite_file, test_image_indices):\n",
        "    global X_valid\n",
        "\n",
        "  # Initialize the interpreter\n",
        "    interpreter = tf.lite.Interpreter(model_path=str(tflite_file))\n",
        "    interpreter.allocate_tensors()\n",
        "\n",
        "    input_details = interpreter.get_input_details()[0]\n",
        "    output_details = interpreter.get_output_details()[0]\n",
        "\n",
        "    predictions = np.zeros((len(test_image_indices),), dtype=int)\n",
        "    for i, test_image_index in enumerate(test_image_indices):\n",
        "        test_image = X_valid[test_image_index]\n",
        "        test_label = Y_valid[test_image_index]\n",
        "\n",
        "        test_image = np.expand_dims(test_image, axis=0).astype(input_details[\"dtype\"])\n",
        "        interpreter.set_tensor(input_details[\"index\"], test_image)\n",
        "        interpreter.invoke()\n",
        "        output = interpreter.get_tensor(output_details[\"index\"])[0]\n",
        "\n",
        "        predictions[i] = output.argmax()\n",
        "\n",
        "    return predictions"
      ],
      "execution_count": null,
      "outputs": []
    },
    {
      "cell_type": "code",
      "metadata": {
        "id": "_Ij3Ypvm2Cks",
        "execution": {
          "iopub.status.busy": "2021-09-21T15:24:24.239140Z",
          "iopub.execute_input": "2021-09-21T15:24:24.239973Z",
          "iopub.status.idle": "2021-09-21T15:24:24.247026Z",
          "shell.execute_reply.started": "2021-09-21T15:24:24.239935Z",
          "shell.execute_reply": "2021-09-21T15:24:24.245636Z"
        },
        "trusted": true
      },
      "source": [
        "def evaluate_model(tflite_file, model_type):\n",
        "    global X_valid\n",
        "    global Y_valid\n",
        "\n",
        "    test_image_indices = range(100) #Loading only 100 images for testing since interpreter.invoke takes a lot of time to complete.\n",
        "    #Reason for longer execution time: TensorFlow Lite op kernels are optimized for ARM processor.\n",
        "    predictions = run_tflite_model(tflite_file, test_image_indices)\n",
        "    \n",
        "    predictions=pd.get_dummies(predictions)\n",
        "    predictions = np.array(predictions)\n",
        "    print(predictions.shape)\n",
        "    accuracy = accuracy_score(y_true=Y_valid[:100,:], y_pred=predictions) \n",
        "\n",
        "\n",
        "    return accuracy"
      ],
      "execution_count": null,
      "outputs": []
    },
    {
      "cell_type": "code",
      "metadata": {
        "id": "3C9OE_of2HWu",
        "execution": {
          "iopub.status.busy": "2021-09-21T15:24:25.273144Z",
          "iopub.execute_input": "2021-09-21T15:24:25.273483Z",
          "iopub.status.idle": "2021-09-21T15:50:59.798238Z",
          "shell.execute_reply.started": "2021-09-21T15:24:25.273451Z",
          "shell.execute_reply": "2021-09-21T15:50:59.797148Z"
        },
        "trusted": true,
        "colab": {
          "base_uri": "https://localhost:8080/"
        },
        "outputId": "7f836335-567b-4110-84bf-894d2b68dc25"
      },
      "source": [
        "from sklearn.metrics import confusion_matrix,classification_report,accuracy_score \n",
        "op = evaluate_model(vgg16_tflite_file, model_type=\"Float\")\n",
        "print(\"Accuracy of TFLite - VGG : {}\".format(op))"
      ],
      "execution_count": null,
      "outputs": [
        {
          "output_type": "stream",
          "name": "stdout",
          "text": [
            "(100, 12)\n",
            "Accuracy of TFLite - VGG : 0.64\n"
          ]
        }
      ]
    },
    {
      "cell_type": "markdown",
      "metadata": {
        "id": "LBk1JbGVLqss"
      },
      "source": [
        "Post training quantization is used for improving latency as well as model size. This could however lead to lower accuracy."
      ]
    },
    {
      "cell_type": "markdown",
      "metadata": {
        "id": "Syp0XDwX3Xuo"
      },
      "source": [
        "Model Pruning"
      ]
    },
    {
      "cell_type": "code",
      "metadata": {
        "execution": {
          "iopub.status.busy": "2021-09-21T15:51:50.583535Z",
          "iopub.execute_input": "2021-09-21T15:51:50.583850Z",
          "iopub.status.idle": "2021-09-21T15:51:59.380935Z",
          "shell.execute_reply.started": "2021-09-21T15:51:50.583818Z",
          "shell.execute_reply": "2021-09-21T15:51:59.379642Z"
        },
        "trusted": true,
        "colab": {
          "base_uri": "https://localhost:8080/"
        },
        "id": "GPg5ek4B0reI",
        "outputId": "36f5689d-778d-4ec7-f3dd-47d1f13c3bf4"
      },
      "source": [
        "!pip install -q tensorflow-model-optimization"
      ],
      "execution_count": null,
      "outputs": [
        {
          "output_type": "stream",
          "name": "stdout",
          "text": [
            "\u001b[?25l\r\u001b[K     |█▌                              | 10 kB 18.5 MB/s eta 0:00:01\r\u001b[K     |███                             | 20 kB 20.0 MB/s eta 0:00:01\r\u001b[K     |████▋                           | 30 kB 21.7 MB/s eta 0:00:01\r\u001b[K     |██████▏                         | 40 kB 22.1 MB/s eta 0:00:01\r\u001b[K     |███████▊                        | 51 kB 13.1 MB/s eta 0:00:01\r\u001b[K     |█████████▎                      | 61 kB 14.3 MB/s eta 0:00:01\r\u001b[K     |██████████▉                     | 71 kB 5.9 MB/s eta 0:00:01\r\u001b[K     |████████████▍                   | 81 kB 6.5 MB/s eta 0:00:01\r\u001b[K     |██████████████                  | 92 kB 5.8 MB/s eta 0:00:01\r\u001b[K     |███████████████▌                | 102 kB 6.2 MB/s eta 0:00:01\r\u001b[K     |█████████████████               | 112 kB 6.2 MB/s eta 0:00:01\r\u001b[K     |██████████████████▋             | 122 kB 6.2 MB/s eta 0:00:01\r\u001b[K     |████████████████████▏           | 133 kB 6.2 MB/s eta 0:00:01\r\u001b[K     |█████████████████████▊          | 143 kB 6.2 MB/s eta 0:00:01\r\u001b[K     |███████████████████████▎        | 153 kB 6.2 MB/s eta 0:00:01\r\u001b[K     |████████████████████████▉       | 163 kB 6.2 MB/s eta 0:00:01\r\u001b[K     |██████████████████████████▍     | 174 kB 6.2 MB/s eta 0:00:01\r\u001b[K     |████████████████████████████    | 184 kB 6.2 MB/s eta 0:00:01\r\u001b[K     |█████████████████████████████▌  | 194 kB 6.2 MB/s eta 0:00:01\r\u001b[K     |███████████████████████████████ | 204 kB 6.2 MB/s eta 0:00:01\r\u001b[K     |████████████████████████████████| 211 kB 6.2 MB/s \n",
            "\u001b[?25h"
          ]
        }
      ]
    },
    {
      "cell_type": "code",
      "metadata": {
        "id": "n0vsVBZp3akf",
        "execution": {
          "iopub.status.busy": "2021-09-21T16:04:23.606036Z",
          "iopub.execute_input": "2021-09-21T16:04:23.606985Z",
          "iopub.status.idle": "2021-09-21T16:04:23.959804Z",
          "shell.execute_reply.started": "2021-09-21T16:04:23.606950Z",
          "shell.execute_reply": "2021-09-21T16:04:23.958776Z"
        },
        "trusted": true,
        "colab": {
          "base_uri": "https://localhost:8080/"
        },
        "outputId": "322acb34-4104-43d4-f39c-860c912a86cf"
      },
      "source": [
        "import tensorflow_model_optimization as tfmot\n",
        "\n",
        "prune_low_magnitude = tfmot.sparsity.keras.prune_low_magnitude\n",
        "\n",
        "batch_size = 64\n",
        "epochs = 100\n",
        "\n",
        "num_images = len(X_train)\n",
        "end_step = np.ceil(num_images / batch_size).astype(np.int32) * epochs\n",
        "\n",
        "# Define model for pruning.\n",
        "pruning_params = {\n",
        "      'pruning_schedule': tfmot.sparsity.keras.PolynomialDecay(initial_sparsity=0.10,\n",
        "                                                               final_sparsity=0.30,\n",
        "                                                               begin_step=0,\n",
        "                                                               end_step=end_step)\n",
        "}\n",
        "\n",
        "model_for_pruning = prune_low_magnitude(model, **pruning_params)\n",
        "\n",
        "# `prune_low_magnitude` requires a recompile.\n",
        "model_for_pruning.compile(optimizer='adam',\n",
        "              loss=tf.keras.losses.CategoricalCrossentropy(),\n",
        "              metrics=['accuracy'])\n",
        "\n",
        "model_for_pruning.summary()"
      ],
      "execution_count": null,
      "outputs": [
        {
          "output_type": "stream",
          "name": "stderr",
          "text": [
            "/usr/local/lib/python3.7/dist-packages/keras/engine/base_layer.py:2223: UserWarning: `layer.add_variable` is deprecated and will be removed in a future version. Please use `layer.add_weight` method instead.\n",
            "  warnings.warn('`layer.add_variable` is deprecated and '\n"
          ]
        },
        {
          "output_type": "stream",
          "name": "stdout",
          "text": [
            "Model: \"model\"\n",
            "_________________________________________________________________\n",
            "Layer (type)                 Output Shape              Param #   \n",
            "=================================================================\n",
            "input_1 (InputLayer)         [(None, 128, 128, 3)]     0         \n",
            "_________________________________________________________________\n",
            "prune_low_magnitude_block1_c (None, 128, 128, 64)      3522      \n",
            "_________________________________________________________________\n",
            "prune_low_magnitude_block1_c (None, 128, 128, 64)      73794     \n",
            "_________________________________________________________________\n",
            "prune_low_magnitude_block1_p (None, 64, 64, 64)        1         \n",
            "_________________________________________________________________\n",
            "prune_low_magnitude_block2_c (None, 64, 64, 128)       147586    \n",
            "_________________________________________________________________\n",
            "prune_low_magnitude_block2_c (None, 64, 64, 128)       295042    \n",
            "_________________________________________________________________\n",
            "prune_low_magnitude_block2_p (None, 32, 32, 128)       1         \n",
            "_________________________________________________________________\n",
            "prune_low_magnitude_block3_c (None, 32, 32, 256)       590082    \n",
            "_________________________________________________________________\n",
            "prune_low_magnitude_block3_c (None, 32, 32, 256)       1179906   \n",
            "_________________________________________________________________\n",
            "prune_low_magnitude_block3_c (None, 32, 32, 256)       1179906   \n",
            "_________________________________________________________________\n",
            "prune_low_magnitude_block3_p (None, 16, 16, 256)       1         \n",
            "_________________________________________________________________\n",
            "prune_low_magnitude_block4_c (None, 16, 16, 512)       2359810   \n",
            "_________________________________________________________________\n",
            "prune_low_magnitude_block4_c (None, 16, 16, 512)       4719106   \n",
            "_________________________________________________________________\n",
            "prune_low_magnitude_block4_c (None, 16, 16, 512)       4719106   \n",
            "_________________________________________________________________\n",
            "prune_low_magnitude_block4_p (None, 8, 8, 512)         1         \n",
            "_________________________________________________________________\n",
            "prune_low_magnitude_block5_c (None, 8, 8, 512)         4719106   \n",
            "_________________________________________________________________\n",
            "prune_low_magnitude_block5_c (None, 8, 8, 512)         4719106   \n",
            "_________________________________________________________________\n",
            "prune_low_magnitude_block5_c (None, 8, 8, 512)         4719106   \n",
            "_________________________________________________________________\n",
            "prune_low_magnitude_block5_p (None, 4, 4, 512)         1         \n",
            "_________________________________________________________________\n",
            "prune_low_magnitude_global_a (None, 512)               1         \n",
            "_________________________________________________________________\n",
            "prune_low_magnitude_flatten  (None, 512)               1         \n",
            "_________________________________________________________________\n",
            "prune_low_magnitude_dense (P (None, 12)                12302     \n",
            "=================================================================\n",
            "Total params: 29,437,487\n",
            "Trainable params: 6,156\n",
            "Non-trainable params: 29,431,331\n",
            "_________________________________________________________________\n"
          ]
        }
      ]
    },
    {
      "cell_type": "code",
      "metadata": {
        "id": "aLUIL8YH3ag_",
        "execution": {
          "iopub.status.busy": "2021-09-21T16:04:25.117236Z",
          "iopub.execute_input": "2021-09-21T16:04:25.118144Z",
          "iopub.status.idle": "2021-09-21T16:06:08.239907Z",
          "shell.execute_reply.started": "2021-09-21T16:04:25.118091Z",
          "shell.execute_reply": "2021-09-21T16:06:08.238895Z"
        },
        "trusted": true,
        "colab": {
          "base_uri": "https://localhost:8080/"
        },
        "outputId": "a399342f-9e57-4c5f-fedd-513b275d1a31"
      },
      "source": [
        "import tempfile\n",
        "logdir = tempfile.mkdtemp()\n",
        "\n",
        "callbacks = [\n",
        "  tfmot.sparsity.keras.UpdatePruningStep(),\n",
        "  tfmot.sparsity.keras.PruningSummaries(log_dir=logdir),\n",
        "]\n",
        "\n",
        "model_for_pruning.fit(X_train, Y_train,\n",
        "                  batch_size=batch_size, epochs=epochs, validation_data=(X_valid,Y_valid),\n",
        "                  callbacks=[callbacks, reduce_lr,early_stop])"
      ],
      "execution_count": null,
      "outputs": [
        {
          "output_type": "stream",
          "name": "stdout",
          "text": [
            "Epoch 1/100\n",
            "67/67 [==============================] - 26s 292ms/step - loss: 0.8124 - accuracy: 0.7258 - val_loss: 0.9047 - val_accuracy: 0.7200\n",
            "Epoch 2/100\n",
            "67/67 [==============================] - 13s 199ms/step - loss: 0.6986 - accuracy: 0.7605 - val_loss: 0.8353 - val_accuracy: 0.7242\n",
            "Epoch 3/100\n",
            "67/67 [==============================] - 13s 197ms/step - loss: 0.6253 - accuracy: 0.7902 - val_loss: 0.8224 - val_accuracy: 0.7284\n",
            "Epoch 4/100\n",
            "67/67 [==============================] - 13s 189ms/step - loss: 0.5943 - accuracy: 0.8044 - val_loss: 0.7913 - val_accuracy: 0.7263\n",
            "Epoch 5/100\n",
            "67/67 [==============================] - 13s 197ms/step - loss: 0.5583 - accuracy: 0.8105 - val_loss: 0.8423 - val_accuracy: 0.7242\n",
            "Epoch 6/100\n",
            "67/67 [==============================] - 13s 198ms/step - loss: 0.5334 - accuracy: 0.8248 - val_loss: 0.8331 - val_accuracy: 0.7158\n",
            "Epoch 7/100\n",
            "67/67 [==============================] - 13s 188ms/step - loss: 0.5104 - accuracy: 0.8346 - val_loss: 0.8072 - val_accuracy: 0.7263\n",
            "Epoch 8/100\n",
            "67/67 [==============================] - 13s 197ms/step - loss: 0.4950 - accuracy: 0.8384 - val_loss: 0.8470 - val_accuracy: 0.7200\n",
            "Epoch 9/100\n",
            "67/67 [==============================] - 13s 197ms/step - loss: 0.4762 - accuracy: 0.8454 - val_loss: 0.8261 - val_accuracy: 0.7305\n",
            "\n",
            "Epoch 00009: ReduceLROnPlateau reducing learning rate to 0.0005000000237487257.\n",
            "Epoch 10/100\n",
            "67/67 [==============================] - 13s 187ms/step - loss: 0.4449 - accuracy: 0.8608 - val_loss: 0.8038 - val_accuracy: 0.7305\n",
            "Epoch 11/100\n",
            "67/67 [==============================] - 13s 197ms/step - loss: 0.4344 - accuracy: 0.8690 - val_loss: 0.8080 - val_accuracy: 0.7326\n",
            "Epoch 00011: early stopping\n"
          ]
        },
        {
          "output_type": "execute_result",
          "data": {
            "text/plain": [
              "<keras.callbacks.History at 0x7fa14741ad50>"
            ]
          },
          "metadata": {},
          "execution_count": 52
        }
      ]
    },
    {
      "cell_type": "code",
      "metadata": {
        "id": "0hjQdFtf3aZ-",
        "execution": {
          "iopub.status.busy": "2021-09-21T16:08:42.787434Z",
          "iopub.execute_input": "2021-09-21T16:08:42.788491Z",
          "iopub.status.idle": "2021-09-21T16:08:43.468372Z",
          "shell.execute_reply.started": "2021-09-21T16:08:42.788417Z",
          "shell.execute_reply": "2021-09-21T16:08:43.467266Z"
        },
        "trusted": true,
        "colab": {
          "base_uri": "https://localhost:8080/"
        },
        "outputId": "a3eaa8bb-04be-4bbf-8a7e-250ade209efb"
      },
      "source": [
        "class_report(model_for_pruning)"
      ],
      "execution_count": null,
      "outputs": [
        {
          "output_type": "stream",
          "name": "stdout",
          "text": [
            "                           precision    recall  f1-score   support\n",
            "\n",
            "              Black-grass       0.77      0.67      0.71        15\n",
            "                 Charlock       1.00      0.85      0.92        13\n",
            "                 Cleavers       0.75      0.75      0.75         8\n",
            "         Common Chickweed       0.69      0.69      0.69        13\n",
            "             Common wheat       0.60      0.75      0.67         8\n",
            "                  Fat Hen       1.00      1.00      1.00         3\n",
            "         Loose Silky-bent       1.00      1.00      1.00         2\n",
            "                    Maize       0.75      1.00      0.86         3\n",
            "        Scentless Mayweed       0.89      0.67      0.76        12\n",
            "          Shepherds Purse       0.78      0.64      0.70        11\n",
            "Small-flowered Cranesbill       0.56      0.83      0.67         6\n",
            "               Sugar beet       0.67      1.00      0.80         6\n",
            "\n",
            "                 accuracy                           0.76       100\n",
            "                macro avg       0.79      0.82      0.79       100\n",
            "             weighted avg       0.78      0.76      0.76       100\n",
            "\n"
          ]
        }
      ]
    },
    {
      "cell_type": "code",
      "metadata": {
        "id": "3qje8mjo3aNd",
        "execution": {
          "iopub.status.busy": "2021-09-21T16:09:42.367079Z",
          "iopub.execute_input": "2021-09-21T16:09:42.367810Z",
          "iopub.status.idle": "2021-09-21T16:09:44.130968Z",
          "shell.execute_reply.started": "2021-09-21T16:09:42.367759Z",
          "shell.execute_reply": "2021-09-21T16:09:44.129344Z"
        },
        "trusted": true,
        "colab": {
          "base_uri": "https://localhost:8080/",
          "height": 1000
        },
        "outputId": "d74f910c-cc16-4eb3-c8e0-c51395265ae6"
      },
      "source": [
        "conf_matrix(model_for_pruning)"
      ],
      "execution_count": null,
      "outputs": [
        {
          "output_type": "display_data",
          "data": {
            "image/png": "[encoded data removed]",
            "text/plain": [
              "<Figure size 1440x1440 with 2 Axes>"
            ]
          },
          "metadata": {
            "needs_background": "light"
          }
        }
      ]
    },
    {
      "cell_type": "markdown",
      "metadata": {
        "id": "LSPClF6zNRpc"
      },
      "source": [
        "Pruning involves removal of nodes that do not add predictive power to the model.\n",
        "\n",
        "As seen above, applying pruning to add sparsity to the model leads to significantly higher accuracy."
      ]
    },
    {
      "cell_type": "markdown",
      "metadata": {
        "id": "9gjuCYVRPV72"
      },
      "source": [
        "# Inception"
      ]
    },
    {
      "cell_type": "code",
      "metadata": {
        "id": "POQi5Bqu5iO-",
        "execution": {
          "iopub.status.busy": "2021-09-20T16:14:38.514023Z",
          "iopub.status.idle": "2021-09-20T16:14:38.514379Z",
          "shell.execute_reply.started": "2021-09-20T16:14:38.514193Z",
          "shell.execute_reply": "2021-09-20T16:14:38.514218Z"
        },
        "trusted": true
      },
      "source": [
        "from tensorflow.keras.applications.inception_v3 import InceptionV3\n",
        "inception = InceptionV3(input_shape = (256, 256, 3), include_top = False, weights = 'imagenet',pooling='avg')\n",
        "for layer in inception.layers[:200]:\n",
        "    layer.trainable = False\n",
        "\n",
        "inception.summary()"
      ],
      "execution_count": null,
      "outputs": []
    },
    {
      "cell_type": "code",
      "metadata": {
        "id": "L_oVk9fh7Vtm",
        "execution": {
          "iopub.status.busy": "2021-09-20T16:14:38.516224Z",
          "iopub.status.idle": "2021-09-20T16:14:38.517031Z",
          "shell.execute_reply.started": "2021-09-20T16:14:38.516718Z",
          "shell.execute_reply": "2021-09-20T16:14:38.516745Z"
        },
        "trusted": true
      },
      "source": [
        "x = layers.Flatten()(inception.output)\n",
        "\n",
        "x = layers.Dropout(0.5)(x)\n",
        "\n",
        "x = layers.Dense(12, activation='softmax')(x)\n",
        "\n",
        "model_inc = tf.keras.models.Model(inception.input, x)\n",
        "\n",
        "model_inc.compile(optimizer = tf.keras.optimizers.Adam(learning_rate=0.001), loss = 'categorical_crossentropy',metrics = ['accuracy'])\n"
      ],
      "execution_count": null,
      "outputs": []
    },
    {
      "cell_type": "code",
      "metadata": {
        "id": "ACQ5BQ3odsXo",
        "execution": {
          "iopub.status.busy": "2021-09-20T16:14:38.522969Z",
          "iopub.status.idle": "2021-09-20T16:14:38.523588Z",
          "shell.execute_reply.started": "2021-09-20T16:14:38.523307Z",
          "shell.execute_reply": "2021-09-20T16:14:38.523335Z"
        },
        "trusted": true
      },
      "source": [
        "batch_size = 64\n",
        "\n",
        "reduce_lr = ReduceLROnPlateau(monitor='val_accuracy', factor=0.5, patience=5, min_lr=0.000001,verbose=2)\n",
        "early_stop = EarlyStopping(monitor='val_accuracy', min_delta=0, patience=7, verbose=2, mode='min')\n",
        "\n",
        "inc_hist = model_inc.fit(train,\n",
        "          batch_size=64,\n",
        "          epochs=20,\n",
        "          verbose=1, validation_data=val, callbacks=[reduce_lr, early_stop])"
      ],
      "execution_count": null,
      "outputs": []
    },
    {
      "cell_type": "code",
      "metadata": {
        "id": "3Ga5z1oGSX4W"
      },
      "source": [
        "model_inc.save('inception_model')"
      ],
      "execution_count": null,
      "outputs": []
    },
    {
      "cell_type": "code",
      "metadata": {
        "id": "lDgh5LEaCBBo",
        "execution": {
          "iopub.status.busy": "2021-09-20T16:14:38.525449Z",
          "iopub.status.idle": "2021-09-20T16:14:38.525885Z",
          "shell.execute_reply.started": "2021-09-20T16:14:38.525668Z",
          "shell.execute_reply": "2021-09-20T16:14:38.525695Z"
        },
        "trusted": true
      },
      "source": [
        "plt.figure(figsize=(14,5))\n",
        "\n",
        "plt.xlabel(\"Number of Epochs\")\n",
        "plt.ylabel('Accuracy', fontsize=16)\n",
        "plt.plot(inc_hist.history['accuracy'], color='b', label='Training Accuracy')\n",
        "plt.plot(inc_hist.history['val_accuracy'], color='r', label='Validation Accuracy')\n",
        "plt.legend(loc='lower right')\n",
        "plt.show()\n",
        "\n",
        "plt.suptitle('Train Results', fontsize=10)\n",
        "plt.xlabel(\"Number of Epochs\")\n",
        "plt.ylabel('Loss', fontsize=16)\n",
        "plt.plot(inc_hist.history['loss'], color='b', label='Training Loss')\n",
        "plt.plot(inc_hist.history['val_loss'], color='r', label='Validation Loss')\n",
        "plt.legend(loc='upper right')\n",
        "plt.show()"
      ],
      "execution_count": null,
      "outputs": []
    },
    {
      "cell_type": "code",
      "metadata": {
        "id": "FA8Sk7GxwBdy"
      },
      "source": [
        "conf_matrix(model_inc)"
      ],
      "execution_count": null,
      "outputs": []
    },
    {
      "cell_type": "code",
      "metadata": {
        "id": "gJ4_dGL1wHBo"
      },
      "source": [
        "class_report(model_inc)"
      ],
      "execution_count": null,
      "outputs": []
    },
    {
      "cell_type": "markdown",
      "metadata": {
        "id": "-YzWqyL_wWle"
      },
      "source": [
        "Optimization of VGG Model with TensorRT"
      ]
    },
    {
      "cell_type": "markdown",
      "metadata": {
        "id": "E-88HyOkwpkR"
      },
      "source": [
        "TF-TRT FP32 model"
      ]
    },
    {
      "cell_type": "code",
      "metadata": {
        "id": "f-GhsQV1wV9d"
      },
      "source": [
        "print('Converting to TF-TRT FP32...')\n",
        "conversion_params = trt.DEFAULT_TRT_CONVERSION_PARAMS._replace(precision_mode=trt.TrtPrecisionMode.FP32,\n",
        "                                                               max_workspace_size_bytes=80000)\n",
        "\n",
        "converter = trt.TrtGraphConverterV2(input_saved_model_dir='/content/vgg_model',\n",
        "                                    conversion_params=conversion_params)\n",
        "converter.convert()\n",
        "converter.save(output_saved_model_dir='vgg_saved_model_TFTRT_FP32')\n",
        "print('Done Converting to TF-TRT FP32')"
      ],
      "execution_count": null,
      "outputs": []
    },
    {
      "cell_type": "code",
      "metadata": {
        "id": "QNxc5sAPw0e0"
      },
      "source": [
        "!saved_model_cli show --all --dir '/content/vgg_saved_model_TFTRT_FP32'"
      ],
      "execution_count": null,
      "outputs": []
    },
    {
      "cell_type": "code",
      "metadata": {
        "id": "pR6WIkh6w1a8"
      },
      "source": [
        "from tensorflow.keras.applications.vgg16 import preprocess_input\n",
        "batch_size = 16\n",
        "batched_input = np.zeros((batch_size, 128, 128, 3), dtype=np.float32)\n",
        "\n",
        "for i in range(batch_size):\n",
        "    img_path = '/content/gdrive/MyDrive/train_mod/Black-grass'\n",
        "    for j in os.listdir(img_path):\n",
        "        img = image.load_img(os.path.join(img_path,j), target_size=(128, 128))\n",
        "        x = image.img_to_array(img)\n",
        "        x = np.expand_dims(x, axis=0)\n",
        "        x = preprocess_input(x)\n",
        "        batched_input[i, :] = x\n",
        "batched_input = tf.constant(batched_input)\n",
        "print('batched_input shape: ', batched_input.shape)"
      ],
      "execution_count": null,
      "outputs": []
    },
    {
      "cell_type": "code",
      "metadata": {
        "id": "9fhqz9_hw1Xi"
      },
      "source": [
        "def benchmark_tftrt(input_saved_model):\n",
        "    saved_model_loaded = tf.saved_model.load(input_saved_model, tags=[tf.compat.v1.saved_model.tag_constants.SERVING])\n",
        "    infer = saved_model_loaded.signatures['serving_default']\n",
        "\n",
        "    N_warmup_run = 50\n",
        "    N_run = 500\n",
        "    elapsed_time = []\n",
        "\n",
        "    for i in range(N_warmup_run):\n",
        "        labeling = infer(batched_input)\n",
        "\n",
        "    for i in range(N_run):\n",
        "        start_time = time.time()\n",
        "        labeling = infer(batched_input)\n",
        "        #prob = labeling['probs'].numpy()\n",
        "        end_time = time.time()\n",
        "        elapsed_time = np.append(elapsed_time, end_time - start_time)\n",
        "        if i % 50 == 0:\n",
        "            print('Step {}: {:4.1f}ms'.format(i, (elapsed_time[-50:].mean()) * 1000))\n",
        "\n",
        "    print('Throughput: {:.0f} images/s'.format(N_run * batch_size / elapsed_time.sum()))"
      ],
      "execution_count": null,
      "outputs": []
    },
    {
      "cell_type": "code",
      "metadata": {
        "id": "RMzs3MvwxE4u"
      },
      "source": [
        "benchmark_tftrt('vgg_saved_model_TFTRT_FP32')"
      ],
      "execution_count": null,
      "outputs": []
    },
    {
      "cell_type": "markdown",
      "metadata": {
        "id": "IjCmKemzxLrB"
      },
      "source": [
        "TF-TRT FP16 model"
      ]
    },
    {
      "cell_type": "code",
      "metadata": {
        "id": "rWIIat5ixKPs"
      },
      "source": [
        ""
      ],
      "execution_count": null,
      "outputs": []
    },
    {
      "cell_type": "code",
      "metadata": {
        "id": "R_zJVu_ZxQL5"
      },
      "source": [
        "print('Converting to TF-TRT FP16...')\n",
        "conversion_params = trt.DEFAULT_TRT_CONVERSION_PARAMS._replace(\n",
        "    precision_mode=trt.TrtPrecisionMode.FP16,\n",
        "    max_workspace_size_bytes=8000000000)\n",
        "converter = trt.TrtGraphConverterV2(input_saved_model_dir='/content/vgg_model',\n",
        "                                    conversion_params=conversion_params)\n",
        "converter.convert()\n",
        "converter.save(output_saved_model_dir='vgg_saved_model_TFTRT_FP16')\n",
        "print('Done Converting to TF-TRT FP16')"
      ],
      "execution_count": null,
      "outputs": []
    },
    {
      "cell_type": "code",
      "metadata": {
        "id": "s-hzsVL8xSwg"
      },
      "source": [
        "benchmark_tftrt('vgg_saved_model_TFTRT_FP16')"
      ],
      "execution_count": null,
      "outputs": []
    },
    {
      "cell_type": "markdown",
      "metadata": {
        "id": "09A4etbcxWyD"
      },
      "source": [
        "TF-TRT INT8 model"
      ]
    },
    {
      "cell_type": "code",
      "metadata": {
        "id": "M7ReHOAnxbQg"
      },
      "source": [
        "print('Converting to TF-TRT INT8...')\n",
        "conversion_params = trt.DEFAULT_TRT_CONVERSION_PARAMS._replace(\n",
        "    precision_mode=trt.TrtPrecisionMode.INT8, \n",
        "    max_workspace_size_bytes=8000000000, \n",
        "    use_calibration=True)\n",
        "converter = trt.TrtGraphConverterV2(\n",
        "    input_saved_model_dir='/content/vgg_model', \n",
        "    conversion_params=conversion_params)\n",
        "\n",
        "def calibration_input_fn():\n",
        "    yield (batched_input, )\n",
        "converter.convert(calibration_input_fn=calibration_input_fn)\n",
        "\n",
        "converter.save(output_saved_model_dir='vgg_saved_model_TFTRT_INT8')\n",
        "print('Done Converting to TF-TRT INT8')"
      ],
      "execution_count": null,
      "outputs": []
    },
    {
      "cell_type": "code",
      "metadata": {
        "id": "6jmex1qixfPM"
      },
      "source": [
        "benchmark_tftrt('vgg_saved_model_TFTRT_INT8')"
      ],
      "execution_count": null,
      "outputs": []
    },
    {
      "cell_type": "markdown",
      "metadata": {
        "id": "hf9rpBvuxjAa"
      },
      "source": [
        "Model Optimization Using TF-Lite(Post Training Dynamic range quantization)"
      ]
    },
    {
      "cell_type": "code",
      "metadata": {
        "id": "lzm0UAtSxoCm"
      },
      "source": [
        "import pathlib"
      ],
      "execution_count": null,
      "outputs": []
    },
    {
      "cell_type": "code",
      "metadata": {
        "id": "9OcZ-YgJxre1"
      },
      "source": [
        "tflite_models_dir = pathlib.Path(os.path.join(os.getcwd(),'tflite_models'))\n",
        "tflite_models_dir.mkdir(exist_ok=True, parents=True)"
      ],
      "execution_count": null,
      "outputs": []
    },
    {
      "cell_type": "code",
      "metadata": {
        "id": "skMv8zfvxu0W"
      },
      "source": [
        "converter_vgg = tf.lite.TFLiteConverter.from_saved_model('./vgg_model')"
      ],
      "execution_count": null,
      "outputs": []
    },
    {
      "cell_type": "code",
      "metadata": {
        "id": "g3yz6QnNxySu"
      },
      "source": [
        "vgg16_tflite_file = tflite_models_dir/\"vgg16.tflite\"\n",
        "converter_vgg.optimizations = [tf.lite.Optimize.OPTIMIZE_FOR_LATENCY]\n",
        "vgg16_tflite_file.write_bytes(converter_vgg.convert())\n",
        "tflite_quant_model = converter_vgg.convert()"
      ],
      "execution_count": null,
      "outputs": []
    },
    {
      "cell_type": "code",
      "metadata": {
        "id": "4qzz0Lblx2bE"
      },
      "source": [
        "interpreter = tf.lite.Interpreter(model_path='./tflite_models/vgg16.tflite')\n",
        "input_type = interpreter.get_input_details()[0]['dtype']\n",
        "print('input: ', input_type)\n",
        "output_type = interpreter.get_output_details()[0]['dtype']\n",
        "print('output: ', output_type)"
      ],
      "execution_count": null,
      "outputs": []
    },
    {
      "cell_type": "code",
      "metadata": {
        "id": "gJN8C9pbx44r"
      },
      "source": [
        "def run_tflite_model(tflite_file, test_image_indices):\n",
        "    global X_valid\n",
        "\n",
        "  # Initialize the interpreter\n",
        "    interpreter = tf.lite.Interpreter(model_path=str(tflite_file))\n",
        "    interpreter.allocate_tensors()\n",
        "\n",
        "    input_details = interpreter.get_input_details()[0]\n",
        "    output_details = interpreter.get_output_details()[0]\n",
        "\n",
        "    predictions = np.zeros((len(test_image_indices),), dtype=int)\n",
        "    for i, test_image_index in enumerate(test_image_indices):\n",
        "        test_image = X_valid[test_image_index]\n",
        "        test_label = Y_valid[test_image_index]\n",
        "\n",
        "        test_image = np.expand_dims(test_image, axis=0).astype(input_details[\"dtype\"])\n",
        "        interpreter.set_tensor(input_details[\"index\"], test_image)\n",
        "        interpreter.invoke()\n",
        "        output = interpreter.get_tensor(output_details[\"index\"])[0]\n",
        "\n",
        "        predictions[i] = output.argmax()\n",
        "\n",
        "    return predictions"
      ],
      "execution_count": null,
      "outputs": []
    },
    {
      "cell_type": "code",
      "metadata": {
        "id": "7wE_iXIvx8Ju"
      },
      "source": [
        "def evaluate_model(tflite_file, model_type):\n",
        "    global X_valid\n",
        "    global Y_valid\n",
        "\n",
        "    test_image_indices = range(100) #Loading only 100 images for testing since interpreter.invoke takes a lot of time to complete.\n",
        "    #Reason for longer execution time: TensorFlow Lite op kernels are optimized for ARM processor.\n",
        "    predictions = run_tflite_model(tflite_file, test_image_indices)\n",
        "    \n",
        "    predictions=pd.get_dummies(predictions)\n",
        "    predictions = np.array(predictions)\n",
        "    print(predictions.shape)\n",
        "    accuracy = accuracy_score(y_true=Y_valid[:100,:], y_pred=predictions) \n",
        "\n",
        "\n",
        "    return accuracy"
      ],
      "execution_count": null,
      "outputs": []
    },
    {
      "cell_type": "code",
      "metadata": {
        "id": "odngT_i-yBrq"
      },
      "source": [
        "from sklearn.metrics import confusion_matrix,classification_report,accuracy_score \n",
        "op = evaluate_model(vgg16_tflite_file, model_type=\"Float\")\n",
        "print(\"Accuracy of TFLite - VGG : {}\".format(op))"
      ],
      "execution_count": null,
      "outputs": []
    },
    {
      "cell_type": "markdown",
      "metadata": {
        "id": "jt4Yld78yGm2"
      },
      "source": [
        "Post training quantization is used for improving latency as well as model size. This could however lead to lower accuracy."
      ]
    },
    {
      "cell_type": "markdown",
      "metadata": {
        "id": "Co6Nu1rnyIKf"
      },
      "source": [
        "Pruning"
      ]
    },
    {
      "cell_type": "code",
      "metadata": {
        "id": "qoZQ4oedyNd0"
      },
      "source": [
        "!pip install -q tensorflow-model-optimization"
      ],
      "execution_count": null,
      "outputs": []
    },
    {
      "cell_type": "code",
      "metadata": {
        "id": "W_7NMmOVyQbq"
      },
      "source": [
        "import tensorflow_model_optimization as tfmot\n",
        "\n",
        "prune_low_magnitude = tfmot.sparsity.keras.prune_low_magnitude\n",
        "\n",
        "batch_size = 64\n",
        "epochs = 100\n",
        "\n",
        "num_images = len(X_train)\n",
        "end_step = np.ceil(num_images / batch_size).astype(np.int32) * epochs\n",
        "\n",
        "# Define model for pruning.\n",
        "pruning_params = {\n",
        "      'pruning_schedule': tfmot.sparsity.keras.PolynomialDecay(initial_sparsity=0.10,\n",
        "                                                               final_sparsity=0.30,\n",
        "                                                               begin_step=0,\n",
        "                                                               end_step=end_step)\n",
        "}\n",
        "\n",
        "model_for_pruning = prune_low_magnitude(model, **pruning_params)\n",
        "\n",
        "# `prune_low_magnitude` requires a recompile.\n",
        "model_for_pruning.compile(optimizer='adam',\n",
        "              loss=tf.keras.losses.CategoricalCrossentropy(),\n",
        "              metrics=['accuracy'])\n",
        "\n",
        "model_for_pruning.summary()"
      ],
      "execution_count": null,
      "outputs": []
    },
    {
      "cell_type": "code",
      "metadata": {
        "id": "L3ZgWhb3yTyw"
      },
      "source": [
        "import tempfile\n",
        "logdir = tempfile.mkdtemp()\n",
        "\n",
        "callbacks = [\n",
        "  tfmot.sparsity.keras.UpdatePruningStep(),\n",
        "  tfmot.sparsity.keras.PruningSummaries(log_dir=logdir),\n",
        "]\n",
        "\n",
        "model_for_pruning.fit(X_train, Y_train,\n",
        "                  batch_size=batch_size, epochs=epochs, validation_data=(X_valid,Y_valid),\n",
        "                  callbacks=[callbacks, reduce_lr,early_stop])"
      ],
      "execution_count": null,
      "outputs": []
    },
    {
      "cell_type": "code",
      "metadata": {
        "id": "XTdX4p5FyYZU"
      },
      "source": [
        "class_report(model_for_pruning)"
      ],
      "execution_count": null,
      "outputs": []
    },
    {
      "cell_type": "code",
      "metadata": {
        "id": "cFJNGgW4yb1F"
      },
      "source": [
        "conf_matrix(model_for_pruning)"
      ],
      "execution_count": null,
      "outputs": []
    },
    {
      "cell_type": "markdown",
      "metadata": {
        "id": "5FedHgjtPbP2"
      },
      "source": [
        "# Resnet"
      ]
    },
    {
      "cell_type": "code",
      "metadata": {
        "id": "jCUcIIL17dJp",
        "execution": {
          "iopub.status.busy": "2021-09-20T16:14:38.535612Z",
          "iopub.status.idle": "2021-09-20T16:14:38.536073Z",
          "shell.execute_reply.started": "2021-09-20T16:14:38.53581Z",
          "shell.execute_reply": "2021-09-20T16:14:38.535837Z"
        },
        "trusted": true
      },
      "source": [
        "from tensorflow.keras.applications import ResNet50\n",
        "\n",
        "resnet = ResNet50(input_shape=(256, 256,3), include_top=False, weights=\"imagenet\",pooling='avg')\n",
        "resnet.summary()\n",
        "for layer in resnet.layers[:80]:\n",
        "    layer.trainable = False"
      ],
      "execution_count": null,
      "outputs": []
    },
    {
      "cell_type": "code",
      "metadata": {
        "id": "DIndFwyA8GxW",
        "execution": {
          "iopub.status.busy": "2021-09-20T16:14:38.537263Z",
          "iopub.status.idle": "2021-09-20T16:14:38.537699Z",
          "shell.execute_reply.started": "2021-09-20T16:14:38.537494Z",
          "shell.execute_reply": "2021-09-20T16:14:38.53752Z"
        },
        "trusted": true
      },
      "source": [
        "import tensorflow as tf\n",
        "from tensorflow.keras import layers\n",
        "from tensorflow.keras.layers import Dense,Flatten\n",
        "from tensorflow.keras.models import Sequential\n",
        "x = layers.Flatten()(resnet.output)\n",
        "\n",
        "x = layers.Dense(12, activation='softmax')(x)\n",
        "\n",
        "model = tf.keras.models.Model(resnet.input, x)\n",
        "\n",
        "model.compile(optimizer = tf.keras.optimizers.RMSprop(learning_rate=0.00001), loss = 'categorical_crossentropy',metrics = ['accuracy'])\n"
      ],
      "execution_count": null,
      "outputs": []
    },
    {
      "cell_type": "code",
      "metadata": {
        "id": "rxydBTv98fow",
        "execution": {
          "iopub.status.busy": "2021-09-20T16:14:38.538856Z",
          "iopub.status.idle": "2021-09-20T16:14:38.539205Z",
          "shell.execute_reply.started": "2021-09-20T16:14:38.539029Z",
          "shell.execute_reply": "2021-09-20T16:14:38.539048Z"
        },
        "trusted": true
      },
      "source": [
        "mc_res = ModelCheckpoint('best_model_resnet.h5', monitor='val_accuracy', mode='max', save_best_only=True)\n",
        "resnet_history = model.fit(X_train,y_train, validation_data = (X_val,y_val), batch_size=64, epochs = 10,callbacks=[mc_res])"
      ],
      "execution_count": null,
      "outputs": []
    },
    {
      "cell_type": "code",
      "metadata": {
        "id": "ClQfj686jHTo",
        "execution": {
          "iopub.status.busy": "2021-09-20T16:14:38.544759Z",
          "iopub.status.idle": "2021-09-20T16:14:38.545149Z",
          "shell.execute_reply.started": "2021-09-20T16:14:38.544925Z",
          "shell.execute_reply": "2021-09-20T16:14:38.544949Z"
        },
        "trusted": true
      },
      "source": [
        "plt.xlabel(\"Number of Epochs\")\n",
        "plt.ylabel('Accuracy', fontsize=16)\n",
        "plt.plot(resnet_history.history['accuracy'], color='b', label='Training Accuracy')\n",
        "plt.plot(resnet_history.history['val_accuracy'], color='r', label='Validation Accuracy')\n",
        "plt.legend(loc='lower right')\n",
        "plt.show()\n",
        "\n",
        "plt.suptitle('Train Results', fontsize=10)\n",
        "plt.xlabel(\"Number of Epochs\")\n",
        "plt.ylabel('Loss', fontsize=16)\n",
        "plt.plot(resnet_history.history['loss'], color='b', label='Training Loss')\n",
        "plt.plot(resnet_history.history['val_loss'], color='r', label='Validation Loss')\n",
        "plt.legend(loc='upper right')\n",
        "plt.show()"
      ],
      "execution_count": null,
      "outputs": []
    },
    {
      "cell_type": "code",
      "metadata": {
        "id": "JyMS6UC2GpEC",
        "execution": {
          "iopub.status.busy": "2021-09-20T16:14:38.54613Z",
          "iopub.status.idle": "2021-09-20T16:14:38.546487Z",
          "shell.execute_reply.started": "2021-09-20T16:14:38.546304Z",
          "shell.execute_reply": "2021-09-20T16:14:38.546328Z"
        },
        "trusted": true
      },
      "source": [
        "resnet_model = load_model('best_model_resnet.h5')"
      ],
      "execution_count": null,
      "outputs": []
    },
    {
      "cell_type": "code",
      "metadata": {
        "id": "-1FRHTk6ItXN",
        "execution": {
          "iopub.status.busy": "2021-09-20T16:14:38.547466Z",
          "iopub.status.idle": "2021-09-20T16:14:38.547921Z",
          "shell.execute_reply.started": "2021-09-20T16:14:38.547652Z",
          "shell.execute_reply": "2021-09-20T16:14:38.547687Z"
        },
        "trusted": true
      },
      "source": [
        "from sklearn.metrics import confusion_matrix,classification_report,accuracy_score \n",
        "y_pred = resnet_model.predict(X_val)\n",
        "y_pred = np.argmax(y_pred, axis = 1)\n",
        "y_true = np.argmax(y_val, axis = 1) \n",
        "\n",
        "cm = confusion_matrix(y_true, y_pred)\n",
        "print(cm)\n",
        "print(classification_report(y_true, y_pred))"
      ],
      "execution_count": null,
      "outputs": []
    },
    {
      "cell_type": "code",
      "metadata": {
        "id": "hSKJB0UQMr9H"
      },
      "source": [
        ""
      ],
      "execution_count": null,
      "outputs": []
    }
  ]
}