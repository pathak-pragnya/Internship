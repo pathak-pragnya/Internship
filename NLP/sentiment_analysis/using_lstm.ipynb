{
  "nbformat": 4,
  "nbformat_minor": 0,
  "metadata": {
    "colab": {
      "name": "Assignment7_lstm.ipynb",
      "provenance": [],
      "collapsed_sections": []
    },
    "kernelspec": {
      "name": "python3",
      "display_name": "Python 3"
    },
    "language_info": {
      "name": "python"
    },
    "accelerator": "GPU"
  },
  "cells": [
    {
      "cell_type": "code",
      "metadata": {
        "id": "fS2it3qZ2DFO"
      },
      "source": [
        "import tensorflow as tf\n",
        "import tensorflow_datasets as tfds\n",
        "from tensorflow.keras.layers.experimental import preprocessing\n",
        "from tensorflow.keras.callbacks import EarlyStopping, ModelCheckpoint, ReduceLROnPlateau\n",
        "from keras.models import Sequential\n",
        "from keras.layers import LSTM, Input, Bidirectional,Embedding\n",
        "from keras.layers import Dense, Activation, Dropout\n",
        "\n",
        "from tensorflow import keras\n",
        "import numpy as np\n",
        "import pandas as pd\n",
        "import os\n",
        "import time\n",
        "import matplotlib.pyplot as plt"
      ],
      "execution_count": 1,
      "outputs": []
    },
    {
      "cell_type": "code",
      "metadata": {
        "id": "DN9_VO1LoUiG",
        "colab": {
          "base_uri": "https://localhost:8080/"
        },
        "outputId": "56d8903a-8385-4e2f-dfd7-148e5b360810"
      },
      "source": [
        "path_to_file = tf.keras.utils.get_file('shakespeare.txt' , 'https://storage.googleapis.com/download.tensorflow.org/data/shakespeare.txt')"
      ],
      "execution_count": 2,
      "outputs": [
        {
          "output_type": "stream",
          "text": [
            "Downloading data from https://storage.googleapis.com/download.tensorflow.org/data/shakespeare.txt\n",
            "1122304/1115394 [==============================] - 0s 0us/step\n",
            "1130496/1115394 [==============================] - 0s 0us/step\n"
          ],
          "name": "stdout"
        }
      ]
    },
    {
      "cell_type": "code",
      "metadata": {
        "colab": {
          "base_uri": "https://localhost:8080/"
        },
        "id": "5LWuoWmkoeQH",
        "outputId": "5413bbdf-ec6b-444d-bb85-cfaf9a28d3eb"
      },
      "source": [
        "text = open(path_to_file , 'rb').read().decode( encoding='utf-8' )\n",
        "\n",
        "print(f'Length of text: {len(text)} characters')"
      ],
      "execution_count": 3,
      "outputs": [
        {
          "output_type": "stream",
          "text": [
            "Length of text: 1115394 characters\n"
          ],
          "name": "stdout"
        }
      ]
    },
    {
      "cell_type": "code",
      "metadata": {
        "colab": {
          "base_uri": "https://localhost:8080/"
        },
        "id": "2Rn3ocgiokAJ",
        "outputId": "e1ce48b5-efeb-4f42-a2e0-6049961fcbed"
      },
      "source": [
        "print(text[:100])"
      ],
      "execution_count": 4,
      "outputs": [
        {
          "output_type": "stream",
          "text": [
            "First Citizen:\n",
            "Before we proceed any further, hear me speak.\n",
            "\n",
            "All:\n",
            "Speak, speak.\n",
            "\n",
            "First Citizen:\n",
            "You\n"
          ],
          "name": "stdout"
        }
      ]
    },
    {
      "cell_type": "code",
      "metadata": {
        "colab": {
          "base_uri": "https://localhost:8080/"
        },
        "id": "GajFEBpvooJN",
        "outputId": "c023e357-6fa6-4c8a-d8bf-417addde9648"
      },
      "source": [
        "vocab = sorted(set(text))\n",
        "print(f'{len(vocab)} unique characters')"
      ],
      "execution_count": 5,
      "outputs": [
        {
          "output_type": "stream",
          "text": [
            "65 unique characters\n"
          ],
          "name": "stdout"
        }
      ]
    },
    {
      "cell_type": "code",
      "metadata": {
        "id": "EZ94KiLFpESZ"
      },
      "source": [
        "ids_from_chars = preprocessing.StringLookup(vocabulary = list(vocab),\n",
        "                                            mask_token=None)"
      ],
      "execution_count": 6,
      "outputs": []
    },
    {
      "cell_type": "code",
      "metadata": {
        "id": "uaTV0pj1qcnM"
      },
      "source": [
        "chars_from_ids = tf.keras.layers.experimental.preprocessing.StringLookup(\n",
        "    vocabulary=ids_from_chars.get_vocabulary(), invert=True, mask_token=None\n",
        ")"
      ],
      "execution_count": 7,
      "outputs": []
    },
    {
      "cell_type": "code",
      "metadata": {
        "id": "etRk2-2mpaUS"
      },
      "source": [
        "def text_from_ids(ids):\n",
        "  return tf.strings.reduce_join(chars_from_ids(ids), axis=-1)"
      ],
      "execution_count": 8,
      "outputs": []
    },
    {
      "cell_type": "code",
      "metadata": {
        "colab": {
          "base_uri": "https://localhost:8080/"
        },
        "id": "DmEddRsUpdxy",
        "outputId": "85a1798e-5d4a-4831-bb04-fa952389c3d6"
      },
      "source": [
        "all_ids = ids_from_chars(tf.strings.unicode_split(text , 'UTF-8'))\n",
        "all_ids"
      ],
      "execution_count": 9,
      "outputs": [
        {
          "output_type": "execute_result",
          "data": {
            "text/plain": [
              "<tf.Tensor: shape=(1115394,), dtype=int64, numpy=array([19, 48, 57, ..., 46,  9,  1])>"
            ]
          },
          "metadata": {},
          "execution_count": 9
        }
      ]
    },
    {
      "cell_type": "code",
      "metadata": {
        "id": "qSCp2G-XqJiv"
      },
      "source": [
        "ids_dataset = tf.data.Dataset.from_tensor_slices(all_ids)"
      ],
      "execution_count": 10,
      "outputs": []
    },
    {
      "cell_type": "code",
      "metadata": {
        "colab": {
          "base_uri": "https://localhost:8080/"
        },
        "id": "fxlt-grfqOfh",
        "outputId": "8929d8d8-76fe-4e21-caa4-8927079a08c4"
      },
      "source": [
        "for ids in ids_dataset.take(10):\n",
        "  print(chars_from_ids(ids).numpy().decode('utf-8'))"
      ],
      "execution_count": 11,
      "outputs": [
        {
          "output_type": "stream",
          "text": [
            "F\n",
            "i\n",
            "r\n",
            "s\n",
            "t\n",
            " \n",
            "C\n",
            "i\n",
            "t\n",
            "i\n"
          ],
          "name": "stdout"
        }
      ]
    },
    {
      "cell_type": "code",
      "metadata": {
        "id": "I_20mgH4qTR9"
      },
      "source": [
        "seq_length = 50\n",
        "examples_per_epoch = len(text)//(seq_length+1)"
      ],
      "execution_count": 12,
      "outputs": []
    },
    {
      "cell_type": "code",
      "metadata": {
        "colab": {
          "base_uri": "https://localhost:8080/"
        },
        "id": "P7DPnMMQqn8F",
        "outputId": "249f1b78-de32-4826-a67e-f2273deb500c"
      },
      "source": [
        "sequences = ids_dataset.batch(seq_length+1 , drop_remainder=True)\n",
        "\n",
        "for seq in sequences.take(1):\n",
        "  print(chars_from_ids(seq))"
      ],
      "execution_count": 13,
      "outputs": [
        {
          "output_type": "stream",
          "text": [
            "tf.Tensor(\n",
            "[b'F' b'i' b'r' b's' b't' b' ' b'C' b'i' b't' b'i' b'z' b'e' b'n' b':'\n",
            " b'\\n' b'B' b'e' b'f' b'o' b'r' b'e' b' ' b'w' b'e' b' ' b'p' b'r' b'o'\n",
            " b'c' b'e' b'e' b'd' b' ' b'a' b'n' b'y' b' ' b'f' b'u' b'r' b't' b'h'\n",
            " b'e' b'r' b',' b' ' b'h' b'e' b'a' b'r' b' '], shape=(51,), dtype=string)\n"
          ],
          "name": "stdout"
        }
      ]
    },
    {
      "cell_type": "code",
      "metadata": {
        "id": "KGKZc19pq0aa"
      },
      "source": [
        "def split_input_target(sequence):\n",
        "  input_text = sequence[:-1]\n",
        "  target_text = sequence[1:]\n",
        "  return input_text , target_text"
      ],
      "execution_count": 14,
      "outputs": []
    },
    {
      "cell_type": "code",
      "metadata": {
        "id": "Wi0zGo6jrJg_"
      },
      "source": [
        "dataset = sequences.map(split_input_target)"
      ],
      "execution_count": 15,
      "outputs": []
    },
    {
      "cell_type": "code",
      "metadata": {
        "id": "_37Aoq0DrPFM"
      },
      "source": [
        "for input_example , target_example in dataset.take(1):\n",
        "  print('Input: ',text_from_ids(input_example).numpy())\n",
        "  print('Target: ',text_from_ids(target_example).numpy())"
      ],
      "execution_count": null,
      "outputs": []
    },
    {
      "cell_type": "code",
      "metadata": {
        "id": "c98pCOtKrZzR"
      },
      "source": [
        "batch_size = 64\n",
        "\n",
        "buffer_size = 10000\n",
        "\n",
        "dataset = (\n",
        "    dataset\n",
        "    .shuffle(buffer_size)\n",
        "    .batch(batch_size,drop_remainder=True)\n",
        "    .prefetch(tf.data.experimental.AUTOTUNE)\n",
        ")"
      ],
      "execution_count": 17,
      "outputs": []
    },
    {
      "cell_type": "code",
      "metadata": {
        "id": "1Xtbl5i3sWAx"
      },
      "source": [
        "vocab_size = len(vocab)\n",
        "\n",
        "embedding_dim = 256\n",
        "\n",
        "rnn_units = 1024"
      ],
      "execution_count": 18,
      "outputs": []
    },
    {
      "cell_type": "code",
      "metadata": {
        "id": "wvzI0JuMei5T"
      },
      "source": [
        "def loss_plot(history):\n",
        "  plt.xlabel(\"Number of Epochs\")\n",
        "  plt.ylabel('Loss', fontsize=16)\n",
        "  plt.plot(history.history['loss'], color='b', label='Training Loss')\n",
        "  plt.legend(loc='upper right')\n",
        "  plt.show()"
      ],
      "execution_count": 19,
      "outputs": []
    },
    {
      "cell_type": "markdown",
      "metadata": {
        "id": "Skzlh_v4OBtt"
      },
      "source": [
        "# LSTM"
      ]
    },
    {
      "cell_type": "code",
      "metadata": {
        "id": "laVnwXASGuqc"
      },
      "source": [
        "class MyModel(tf.keras.Model):\n",
        "  def __init__(self, vocab_size, embedding_dim, rnn_units):\n",
        "    super().__init__(self)\n",
        "    self.embedding = tf.keras.layers.Embedding(vocab_size, embedding_dim)\n",
        "    self.lstm = tf.keras.layers.LSTM(rnn_units,\n",
        "                                   activation='tanh',\n",
        "                                   return_sequences=True,\n",
        "                                   return_state=True,\n",
        "                                   recurrent_initializer=tf.keras.initializers.GlorotNormal()\n",
        "                                   )\n",
        "    self.dense = tf.keras.layers.Dense(vocab_size)\n",
        "\n",
        "  def call(self, inputs, states=None, return_state=False, training=False):\n",
        "    x = inputs\n",
        "    x = self.embedding(x, training=training)\n",
        "    if states is None:\n",
        "      states = self.lstm.get_initial_state(x)\n",
        "    x, mem_states, carry_state = self.lstm(x, initial_state=states, training=training)\n",
        "    states = [mem_states, carry_state]\n",
        "    x = self.dense(x, training=training)\n",
        "\n",
        "    if return_state:\n",
        "      return x,states\n",
        "    else:\n",
        "      return x"
      ],
      "execution_count": 27,
      "outputs": []
    },
    {
      "cell_type": "code",
      "metadata": {
        "id": "s6boINu3LIg1"
      },
      "source": [
        "lstm_model_2 = MyModel(\n",
        "    vocab_size = len(ids_from_chars.get_vocabulary()),\n",
        "    embedding_dim=embedding_dim,\n",
        "    rnn_units=rnn_units\n",
        ")"
      ],
      "execution_count": 28,
      "outputs": []
    },
    {
      "cell_type": "code",
      "metadata": {
        "id": "atgSL6nLLn1M"
      },
      "source": [
        "loss = tf.losses.SparseCategoricalCrossentropy(from_logits=True)"
      ],
      "execution_count": 29,
      "outputs": []
    },
    {
      "cell_type": "code",
      "metadata": {
        "id": "-0pl2n7WJPbi"
      },
      "source": [
        "opt = keras.optimizers.RMSprop(learning_rate=1e-3)\n",
        "lstm_model_2.compile(optimizer=opt, loss=loss)"
      ],
      "execution_count": 30,
      "outputs": []
    },
    {
      "cell_type": "code",
      "metadata": {
        "id": "Pa0OgPJmJ1Q3"
      },
      "source": [
        "checkpoint_dir = './training_checkpoints_LSTM2'\n",
        "checkpoint_prefix = os.path.join(checkpoint_dir, \"ckpt_{epoch}\")\n",
        "\n",
        "checkpoint_callback = tf.keras.callbacks.ModelCheckpoint(\n",
        "    filepath=checkpoint_prefix,\n",
        "    save_weights_only=True)"
      ],
      "execution_count": 31,
      "outputs": []
    },
    {
      "cell_type": "code",
      "metadata": {
        "id": "WQFtpxTjJ5tP"
      },
      "source": [
        "epochs = 200"
      ],
      "execution_count": 34,
      "outputs": []
    },
    {
      "cell_type": "code",
      "metadata": {
        "id": "HXPavLuXJ5px",
        "colab": {
          "base_uri": "https://localhost:8080/"
        },
        "outputId": "e781c020-a630-48df-ef03-fed924f21c24"
      },
      "source": [
        "early_stopping = EarlyStopping(monitor = 'loss',min_delta=0.001, patience = 10, mode = 'min', verbose = 2)\n",
        "reduce_lr =  ReduceLROnPlateau(monitor='loss', factor=0.1,\n",
        "                              patience=5, min_lr=0.0000001, verbose=2)\n",
        "history_lstm = lstm_model_2.fit(dataset, epochs=epochs, callbacks=[early_stopping, reduce_lr, checkpoint_callback])"
      ],
      "execution_count": 35,
      "outputs": [
        {
          "output_type": "stream",
          "text": [
            "Epoch 1/200\n",
            "341/341 [==============================] - 30s 85ms/step - loss: 2.1743\n",
            "Epoch 2/200\n",
            "341/341 [==============================] - 30s 85ms/step - loss: 1.6165\n",
            "Epoch 3/200\n",
            "341/341 [==============================] - 30s 86ms/step - loss: 1.4473\n",
            "Epoch 4/200\n",
            "341/341 [==============================] - 30s 86ms/step - loss: 1.3603\n",
            "Epoch 5/200\n",
            "341/341 [==============================] - 30s 86ms/step - loss: 1.2977\n",
            "Epoch 6/200\n",
            "341/341 [==============================] - 30s 86ms/step - loss: 1.2426\n",
            "Epoch 7/200\n",
            "341/341 [==============================] - 30s 85ms/step - loss: 1.1885\n",
            "Epoch 8/200\n",
            "341/341 [==============================] - 30s 86ms/step - loss: 1.1337\n",
            "Epoch 9/200\n",
            "341/341 [==============================] - 30s 86ms/step - loss: 1.0760\n",
            "Epoch 10/200\n",
            "341/341 [==============================] - 30s 86ms/step - loss: 1.0157\n",
            "Epoch 11/200\n",
            "341/341 [==============================] - 30s 86ms/step - loss: 0.9533\n",
            "Epoch 12/200\n",
            "341/341 [==============================] - 30s 86ms/step - loss: 0.8901\n",
            "Epoch 13/200\n",
            "341/341 [==============================] - 30s 85ms/step - loss: 0.8265\n",
            "Epoch 14/200\n",
            "341/341 [==============================] - 30s 86ms/step - loss: 0.7661\n",
            "Epoch 15/200\n",
            "341/341 [==============================] - 30s 85ms/step - loss: 0.7084\n",
            "Epoch 16/200\n",
            "341/341 [==============================] - 30s 86ms/step - loss: 0.6555\n",
            "Epoch 17/200\n",
            "341/341 [==============================] - 30s 85ms/step - loss: 0.6078\n",
            "Epoch 18/200\n",
            "341/341 [==============================] - 30s 86ms/step - loss: 0.5655\n",
            "Epoch 19/200\n",
            "341/341 [==============================] - 30s 86ms/step - loss: 0.5288\n",
            "Epoch 20/200\n",
            "341/341 [==============================] - 30s 86ms/step - loss: 0.4983\n",
            "Epoch 21/200\n",
            "341/341 [==============================] - 30s 86ms/step - loss: 0.4722\n",
            "Epoch 22/200\n",
            "341/341 [==============================] - 30s 86ms/step - loss: 0.4497\n",
            "Epoch 23/200\n",
            "341/341 [==============================] - 30s 86ms/step - loss: 0.4315\n",
            "Epoch 24/200\n",
            "341/341 [==============================] - 30s 86ms/step - loss: 0.4152\n",
            "Epoch 25/200\n",
            "341/341 [==============================] - 30s 86ms/step - loss: 0.4032\n",
            "Epoch 26/200\n",
            "341/341 [==============================] - 30s 86ms/step - loss: 0.3915\n",
            "Epoch 27/200\n",
            "341/341 [==============================] - 30s 85ms/step - loss: 0.3835\n",
            "Epoch 28/200\n",
            "341/341 [==============================] - 30s 86ms/step - loss: 0.3770\n",
            "Epoch 29/200\n",
            "341/341 [==============================] - 30s 86ms/step - loss: 0.3703\n",
            "Epoch 30/200\n",
            "341/341 [==============================] - 30s 86ms/step - loss: 0.3653\n",
            "Epoch 31/200\n",
            "341/341 [==============================] - 30s 85ms/step - loss: 0.3606\n",
            "Epoch 32/200\n",
            "341/341 [==============================] - 30s 85ms/step - loss: 0.3575\n",
            "Epoch 33/200\n",
            "341/341 [==============================] - 30s 86ms/step - loss: 0.3550\n",
            "Epoch 34/200\n",
            "341/341 [==============================] - 30s 86ms/step - loss: 0.3530\n",
            "Epoch 35/200\n",
            "341/341 [==============================] - 30s 86ms/step - loss: 0.3506\n",
            "Epoch 36/200\n",
            "341/341 [==============================] - 30s 86ms/step - loss: 0.3491\n",
            "Epoch 37/200\n",
            "341/341 [==============================] - 30s 86ms/step - loss: 0.3487\n",
            "Epoch 38/200\n",
            "341/341 [==============================] - 30s 86ms/step - loss: 0.3480\n",
            "Epoch 39/200\n",
            "341/341 [==============================] - 30s 85ms/step - loss: 0.3478\n",
            "Epoch 40/200\n",
            "341/341 [==============================] - 30s 86ms/step - loss: 0.3478\n",
            "Epoch 41/200\n",
            "341/341 [==============================] - 30s 86ms/step - loss: 0.3471\n",
            "Epoch 42/200\n",
            "341/341 [==============================] - 30s 85ms/step - loss: 0.3482\n",
            "Epoch 43/200\n",
            "341/341 [==============================] - 30s 86ms/step - loss: 0.3472\n",
            "Epoch 44/200\n",
            "341/341 [==============================] - 30s 86ms/step - loss: 0.3480\n",
            "Epoch 45/200\n",
            "341/341 [==============================] - 30s 85ms/step - loss: 0.3487\n",
            "Epoch 46/200\n",
            "341/341 [==============================] - 30s 86ms/step - loss: 0.3490\n",
            "\n",
            "Epoch 00046: ReduceLROnPlateau reducing learning rate to 0.00010000000474974513.\n",
            "Epoch 47/200\n",
            "341/341 [==============================] - 30s 86ms/step - loss: 0.2597\n",
            "Epoch 48/200\n",
            "341/341 [==============================] - 30s 86ms/step - loss: 0.2036\n",
            "Epoch 49/200\n",
            "341/341 [==============================] - 30s 85ms/step - loss: 0.1844\n",
            "Epoch 50/200\n",
            "341/341 [==============================] - 30s 86ms/step - loss: 0.1753\n",
            "Epoch 51/200\n",
            "341/341 [==============================] - 30s 85ms/step - loss: 0.1701\n",
            "Epoch 52/200\n",
            "341/341 [==============================] - 30s 86ms/step - loss: 0.1666\n",
            "Epoch 53/200\n",
            "341/341 [==============================] - 30s 86ms/step - loss: 0.1642\n",
            "Epoch 54/200\n",
            "341/341 [==============================] - 30s 85ms/step - loss: 0.1624\n",
            "Epoch 55/200\n",
            "341/341 [==============================] - 30s 86ms/step - loss: 0.1610\n",
            "Epoch 56/200\n",
            "341/341 [==============================] - 30s 86ms/step - loss: 0.1598\n",
            "Epoch 57/200\n",
            "341/341 [==============================] - 30s 86ms/step - loss: 0.1588\n",
            "Epoch 58/200\n",
            "341/341 [==============================] - 30s 86ms/step - loss: 0.1580\n",
            "Epoch 59/200\n",
            "341/341 [==============================] - 30s 85ms/step - loss: 0.1573\n",
            "Epoch 60/200\n",
            "341/341 [==============================] - 30s 86ms/step - loss: 0.1567\n",
            "Epoch 61/200\n",
            "341/341 [==============================] - 30s 86ms/step - loss: 0.1561\n",
            "Epoch 62/200\n",
            "341/341 [==============================] - 30s 86ms/step - loss: 0.1557\n",
            "Epoch 63/200\n",
            "341/341 [==============================] - 30s 86ms/step - loss: 0.1552\n",
            "Epoch 64/200\n",
            "341/341 [==============================] - 30s 85ms/step - loss: 0.1548\n",
            "Epoch 65/200\n",
            "341/341 [==============================] - 30s 85ms/step - loss: 0.1545\n",
            "Epoch 66/200\n",
            "341/341 [==============================] - 30s 86ms/step - loss: 0.1541\n",
            "Epoch 67/200\n",
            "341/341 [==============================] - 30s 86ms/step - loss: 0.1538\n",
            "Epoch 68/200\n",
            "341/341 [==============================] - 30s 85ms/step - loss: 0.1535\n",
            "Epoch 69/200\n",
            "341/341 [==============================] - 30s 86ms/step - loss: 0.1532\n",
            "Epoch 70/200\n",
            "341/341 [==============================] - 30s 86ms/step - loss: 0.1530\n",
            "Epoch 71/200\n",
            "341/341 [==============================] - 30s 86ms/step - loss: 0.1527\n",
            "Epoch 72/200\n",
            "341/341 [==============================] - 30s 85ms/step - loss: 0.1526\n",
            "Epoch 73/200\n",
            "341/341 [==============================] - 30s 86ms/step - loss: 0.1524\n",
            "Epoch 74/200\n",
            "341/341 [==============================] - 30s 86ms/step - loss: 0.1522\n",
            "Epoch 75/200\n",
            "341/341 [==============================] - 30s 85ms/step - loss: 0.1520\n",
            "Epoch 76/200\n",
            "341/341 [==============================] - 30s 86ms/step - loss: 0.1518\n",
            "Epoch 77/200\n",
            "341/341 [==============================] - 30s 86ms/step - loss: 0.1517\n",
            "Epoch 78/200\n",
            "341/341 [==============================] - 30s 86ms/step - loss: 0.1515\n",
            "Epoch 79/200\n",
            "341/341 [==============================] - 30s 86ms/step - loss: 0.1514\n",
            "Epoch 80/200\n",
            "341/341 [==============================] - 30s 86ms/step - loss: 0.1513\n",
            "Epoch 81/200\n",
            "341/341 [==============================] - 30s 86ms/step - loss: 0.1511\n",
            "Epoch 82/200\n",
            "341/341 [==============================] - 30s 86ms/step - loss: 0.1510\n",
            "Epoch 83/200\n",
            "341/341 [==============================] - 30s 86ms/step - loss: 0.1509\n",
            "Epoch 84/200\n",
            "341/341 [==============================] - 30s 86ms/step - loss: 0.1507\n",
            "Epoch 85/200\n",
            "341/341 [==============================] - 30s 86ms/step - loss: 0.1507\n",
            "Epoch 86/200\n",
            "341/341 [==============================] - 30s 86ms/step - loss: 0.1505\n",
            "Epoch 87/200\n",
            "341/341 [==============================] - 30s 86ms/step - loss: 0.1504\n",
            "Epoch 88/200\n",
            "341/341 [==============================] - 30s 86ms/step - loss: 0.1503\n",
            "Epoch 89/200\n",
            "341/341 [==============================] - 30s 85ms/step - loss: 0.1502\n",
            "Epoch 90/200\n",
            "341/341 [==============================] - 30s 85ms/step - loss: 0.1502\n",
            "Epoch 91/200\n",
            "341/341 [==============================] - 30s 86ms/step - loss: 0.1500\n",
            "Epoch 92/200\n",
            "341/341 [==============================] - 30s 86ms/step - loss: 0.1499\n",
            "Epoch 93/200\n",
            "341/341 [==============================] - 30s 86ms/step - loss: 0.1499\n",
            "Epoch 94/200\n",
            "341/341 [==============================] - 30s 86ms/step - loss: 0.1498\n",
            "Epoch 00094: early stopping\n"
          ],
          "name": "stdout"
        }
      ]
    },
    {
      "cell_type": "code",
      "metadata": {
        "id": "XW9l1MCJfGOg",
        "colab": {
          "base_uri": "https://localhost:8080/",
          "height": 281
        },
        "outputId": "c4ac6814-5ae0-45cc-ddf7-95f9da4bae51"
      },
      "source": [
        "loss_plot(history_lstm)"
      ],
      "execution_count": 36,
      "outputs": [
        {
          "output_type": "display_data",
          "data": {
            "image/png": "[encoded data removed]",
            "text/plain": [
              "<Figure size 432x288 with 1 Axes>"
            ]
          },
          "metadata": {
            "needs_background": "light"
          }
        }
      ]
    },
    {
      "cell_type": "code",
      "metadata": {
        "id": "8FZ6OpOLgFNY"
      },
      "source": [
        "class OneStep(tf.keras.Model):\n",
        "  def __init__(self, model, chars_from_ids, ids_from_chars, temperature=1.0):\n",
        "    super().__init__()\n",
        "    self.temperature = temperature\n",
        "    self.model = model\n",
        "    self.chars_from_ids = chars_from_ids\n",
        "    self.ids_from_chars = ids_from_chars\n",
        "\n",
        "    skip_ids = self.ids_from_chars(['[UNK]'])[:, None]\n",
        "    sparse_mask = tf.SparseTensor(\n",
        "\n",
        "        values=[-float('inf')]*len(skip_ids),\n",
        "        indices=skip_ids,\n",
        "        dense_shape=[len(ids_from_chars.get_vocabulary())])\n",
        "    self.prediction_mask = tf.sparse.to_dense(sparse_mask)\n",
        "\n",
        "  @tf.function\n",
        "  def generate_one_step(self, inputs, states=None):\n",
        "\n",
        "    input_chars = tf.strings.unicode_split(inputs, 'UTF-8')\n",
        "    input_ids = self.ids_from_chars(input_chars).to_tensor()\n",
        "\n",
        "    predicted_logits, states = self.model(inputs=input_ids, states=states,\n",
        "                                          return_state=True)\n",
        "    predicted_logits = predicted_logits[:, -1, :]\n",
        "    predicted_logits = predicted_logits/self.temperature\n",
        "    predicted_logits = predicted_logits + self.prediction_mask\n",
        "\n",
        "    predicted_ids = tf.random.categorical(predicted_logits, num_samples=1)\n",
        "    predicted_ids = tf.squeeze(predicted_ids, axis=-1)\n",
        "\n",
        "    predicted_chars = self.chars_from_ids(predicted_ids)\n",
        "\n",
        "    return predicted_chars, states"
      ],
      "execution_count": 37,
      "outputs": []
    },
    {
      "cell_type": "code",
      "metadata": {
        "id": "dt3HYqHxK5A7"
      },
      "source": [
        "one_step_model = OneStep(lstm_model_2, chars_from_ids, ids_from_chars)"
      ],
      "execution_count": 38,
      "outputs": []
    },
    {
      "cell_type": "code",
      "metadata": {
        "colab": {
          "base_uri": "https://localhost:8080/"
        },
        "id": "bwW6FHz4gK07",
        "outputId": "7f572157-c289-49ab-c953-6e256cfcdc8d"
      },
      "source": [
        "start = time.time()\n",
        "states = None\n",
        "next_char = tf.constant(['ROMEO:'])\n",
        "result = [next_char]\n",
        "\n",
        "for n in range(1000):\n",
        "  next_char, states = one_step_model.generate_one_step(next_char, states=states)\n",
        "  result.append(next_char)\n",
        "\n",
        "result = tf.strings.join(result)\n",
        "end = time.time()\n",
        "print(result[0].numpy().decode('utf-8'), '\\n\\n' + '_'*80)\n",
        "print('\\nRun time:', end - start)"
      ],
      "execution_count": 39,
      "outputs": [
        {
          "output_type": "stream",
          "text": [
            "ROMEO:\n",
            "I have night's cloak to hide me from their speech,\n",
            "And never brand by the nose which Longon\n",
            "Wis cold to sort a good white:\n",
            "I will not budghen out of parison, and your solemn torserves\n",
            "Which five hash that purposed my heart to thee and badest than till\n",
            "The run but worth of death.\n",
            "\n",
            "SEBASTIAN:\n",
            "With all my heart as you shall find\n",
            "me yare; for truly, sir, for your brother's death.\n",
            "\n",
            "BALTARAT:\n",
            "Thank, for this good Coriolanus 'head him a tombor's friend\n",
            "And then take order them with all crown'd\n",
            "worthy with a gentlemanly shamen to him.\n",
            "\n",
            "Shepherd:\n",
            "And so have I, by the wager be't in my a time was ever peace\n",
            "To sinner Vincentio.\n",
            "\n",
            "First Citizen:\n",
            "Let us kill my brother; we will unto the occident,\n",
            "Which, without contrived in soothing men, you know\n",
            "Our sorrow'd life in house of his mellow\n",
            "And heap it all answering beauty served and fresh.\n",
            "\n",
            "GREGORY:\n",
            "The hate physicing souls have heard him stay.\n",
            "Trive me there, my gracious lord, expecially affeir.\n",
            "\n",
            "ANGELO:\n",
            "Good night.\n",
            "This deed unbound to this entranc \n",
            "\n",
            "________________________________________________________________________________\n",
            "\n",
            "Run time: 5.218057870864868\n"
          ],
          "name": "stdout"
        }
      ]
    },
    {
      "cell_type": "code",
      "metadata": {
        "id": "meQ88R2qKmZZ",
        "colab": {
          "base_uri": "https://localhost:8080/"
        },
        "outputId": "614aaaca-03ff-4141-87cd-b3e3e4cf82d9"
      },
      "source": [
        "start = time.time()\n",
        "states = None\n",
        "next_char = tf.constant(['ROMEO:', 'ROMEO:', 'ROMEO:', 'ROMEO:', 'ROMEO:'])\n",
        "result = [next_char]\n",
        "\n",
        "for n in range(1000):\n",
        "  next_char, states = one_step_model.generate_one_step(next_char, states=states)\n",
        "  result.append(next_char)\n",
        "\n",
        "result = tf.strings.join(result)\n",
        "end = time.time()\n",
        "print(result, '\\n\\n' + '_'*80)\n",
        "print('\\nRun time:', end - start)"
      ],
      "execution_count": 40,
      "outputs": [
        {
          "output_type": "stream",
          "text": [
            "tf.Tensor(\n",
            "[b\"ROMEO:\\nAlas, that 'outish'd, my companion is the stroke\\nBetween the life that trembled upon this world,\\nAs scarish'd, my soul is not hath knock'd and swore.\\n\\nBRUTUS:\\nNot possible.\\n\\nCORIOLANUS:\\nWhat is this?\\nYour purse is not Rome back to your young prince.\\n\\nKING EDWARD IV:\\nWell, jest on, bring me to her her.\\n\\nLADY CAPULET:\\nFie, freely I wish you not.\\n\\nJULIET:\\nThe king did for a thing when thou art experity.\\nBut what talk I of Antigonus,' and Master\\ncoust, as I can devise, I am a book for Rome, and one than to live\\nTo murder me and to my ward through our levies, now in again thy face,\\nThat gives not himself on Tarpeige betwixt you thanks.\\n\\nKING EDWARD IV:\\nBishop or what thou hast marr'd, this world but zell in earth.\\n\\nBAPTISTA:\\nWho comes with your honour with him! he will return before\\nHis tears do plot them and then lay in my days would behold\\nThe stern you find on herself.\\n\\nGLOUCESTER:\\nMy lord, some have I scold to strike all this goodly rept;\\nSuspicious it excelsed against my word,\\nAnd see\"\n",
            " b\"ROMEO:\\nAlas, that love, whose view is muffled still\\nTo see a Jack, that thou hast done a friend\\nAnd almost to ann loath, not stain the time;\\nAnd bid her death hath shed forth love, her sacred heapt,\\nThe fair reverence of the court-will we give out power than the absent time\\nAfter the rest of these articles.\\n\\nMONTAGUE:\\nAut, when this arm up wind with off befatter with child\\nA gentle shall be the actor of hostels of the action.\\n\\nSecond Gensleman:\\nI never hear no more: thou'rt long'st not so bared and beseech you\\nAn old harm and that thou art malience.\\n\\nKING RICHARD II:\\nRode he go the prisoner?\\n\\nNurse:\\nO Lord, I could see no house to France and such a silly pace\\nWith Roperment of slander to your daughter.\\n\\nLADY CAPULET:\\nI would they were abount?\\n\\nMessenger:\\nAy, sir; so the duke sharp to the begin.\\n\\nAUTOLYCUS:\\nAdieu, peace!\\nthou shalt be master for being a barbe:\\nsound the cause of what doth comfort\\nShall I wash you not?\\n\\nESCALUS:\\n\\nHASTINGS:\\nTo Lend forthomity in the sun under the doI.\\n\\nPETRUCHI\"\n",
            " b\"ROMEO:\\nI have night's cloak to hide me from their speech\\nAs is the bilation. What sorrow is this thunder? where have you\\nTo see her Richmond traniot is she told the man.\\n\\nLord Marshal:\\nSound, sound, sound!\\nSpeak not for these great justice of this slander.\\n\\nSICINIUS:\\nDo they love her: I have true, my lord.\\n\\nKING RICHARD III:\\nO Ratcliff, most royal, for I know this woman.\\n\\nPETRUCHIO:\\nWhat say you that is nothing hold, what would you say?\\n\\nISABELLA:\\nIn boundeous lord,\\nMust give look and night: and this is writ hen visiting them\\nAnd free from other for the glass, where thou shalt not scape at his nation.\\nBut heaven hath that alived in Posinies,\\nWhen it is as broach, so bloody on our ancient,\\nYet call for a hermed with the fearful at the highway:\\nbeathering who even in the chiefest hold\\nthan of them reason whilst his head and holy of your behalf,\\nAnd bear her beauty treasune and the best;\\nThe very revellion an others of a foot,\\nDid keep the seath of the noble Vouchsafe and a soldier.\\nTherefore y\"\n",
            " b\"ROMEO:\\nI have night's cloak to hide me from their speech\\nThat lies bear the swelving dimf a loyal friends,\\n'Tis full three that way'd of my poor brother's.\\nWithin the heavy man! Ralane! it is a man's\\nNoverty as his seat come to me again to leap the man\\nThat bears the tyrant that hook how he might be understood\\nThe one side mistrusting for that word's day:\\nFor I have had no more merely to swear the silly trif\\nAnd kind to be his subject.\\n\\nKING RICHARD III:\\nWrong not, grief makes this suits aring?\\n\\nLUCIO:\\nI pray she may; as well for the encouragement,\\nYou do him good for it: you do report whatever I\\nhave this so hit in this careless of your hearing: he is all the pocket\\nWhich you at the father with his enemies.\\n\\nMARCIUS:\\nI think they are at it; and it is\\ncurred him and no slaughters and her father is an hour\\nAnd here at hand: it dides himself, please my father,\\nMake great Angelo is port without atay,\\nA marbor of my bliss and coming;\\nBut as this thought depose,\\nWe should infringe the holy and ma\"\n",
            " b\"ROMEO:\\nA gentleman, and so began to-day;\\nAnd this ready to go to strike all this?\\n\\nBIANCA:\\nMethinks a king, we'll succor them as the fire,\\nNor England all things shalt still be cool'd to so,\\nI swear, my lord, is gone to hieve my parent.\\n\\nMIRANDA:\\nMy raimed is too long to see this house.\\n\\nPETRUCHIO:\\nThy gown? why, ay: come, tailor.\\n\\nGEORGE:\\nWell, well, he was the covert's face of mine ears.\\n\\nWARWICK:\\nAnd I the house with smile, as well the field,\\nSelf and all allegs in him. You are therein beholding!\\n\\nBIONDELLO:\\nThe bloody parasate as thy cold beauty,\\nAs if that did put your enemy\\nTo see him any more,--casorant dream,\\nUnless they have made service what he look'd upon\\nOr hand of money boss than hanging.\\n\\nDUKE VINCENTIO:\\nYou shall not reason very touches of banish'd with a mortal to the Tower.\\n\\nKING EDWARD IV:\\nSee that he be not, I beseech your grace to hear him out:\\nBelieve me, like a truth how to use as mine hath.\\n\\nYORK:\\nI shall keep her simple Physician from his ease,\\nBut by so be crutch'd i\"], shape=(5,), dtype=string) \n",
            "\n",
            "________________________________________________________________________________\n",
            "\n",
            "Run time: 6.083287477493286\n"
          ],
          "name": "stdout"
        }
      ]
    },
    {
      "cell_type": "code",
      "metadata": {
        "id": "gNrn7PQTgIYk"
      },
      "source": [
        "tf.saved_model.save(one_step_model, 'one_step')\n",
        "one_step_reloaded = tf.saved_model.load('one_step')"
      ],
      "execution_count": null,
      "outputs": []
    },
    {
      "cell_type": "code",
      "metadata": {
        "id": "x4qdTwQfiGAa",
        "colab": {
          "base_uri": "https://localhost:8080/"
        },
        "outputId": "89b64134-6127-4b6d-e0b8-5e65ce55d3ca"
      },
      "source": [
        "states = None\n",
        "next_char = tf.constant(['ROMEO:'])\n",
        "result = [next_char]\n",
        "\n",
        "for n in range(100):\n",
        "  next_char, states = one_step_reloaded.generate_one_step(next_char, states=states)\n",
        "  result.append(next_char)\n",
        "\n",
        "print(tf.strings.join(result)[0].numpy().decode(\"utf-8\"))"
      ],
      "execution_count": 42,
      "outputs": [
        {
          "output_type": "stream",
          "text": [
            "ROMEO:\n",
            "I have night's cloak to hide me from their sprites;\n",
            "But for the world were hand no less than ever:\n",
            "\n"
          ],
          "name": "stdout"
        }
      ]
    }
  ]
}