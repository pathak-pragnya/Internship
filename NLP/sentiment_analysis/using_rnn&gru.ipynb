{
  "nbformat": 4,
  "nbformat_minor": 0,
  "metadata": {
    "accelerator": "GPU",
    "colab": {
      "name": "Assignment7_rnn_gru.ipynb",
      "provenance": [],
      "collapsed_sections": []
    },
    "kernelspec": {
      "display_name": "Python 3",
      "name": "python3"
    },
    "language_info": {
      "name": "python"
    }
  },
  "cells": [
    {
      "cell_type": "code",
      "metadata": {
        "id": "fS2it3qZ2DFO"
      },
      "source": [
        "import tensorflow as tf\n",
        "import tensorflow_datasets as tfds\n",
        "from tensorflow.keras.layers.experimental import preprocessing\n",
        "from tensorflow.keras.callbacks import EarlyStopping, ModelCheckpoint, ReduceLROnPlateau\n",
        "from keras.models import Sequential\n",
        "from keras.layers import LSTM, Input, Bidirectional,Embedding\n",
        "from keras.layers import Dense, Activation, Dropout\n",
        "\n",
        "from tensorflow import keras\n",
        "import numpy as np\n",
        "import pandas as pd\n",
        "import os\n",
        "import time\n",
        "import matplotlib.pyplot as plt"
      ],
      "execution_count": null,
      "outputs": []
    },
    {
      "cell_type": "code",
      "metadata": {
        "colab": {
          "base_uri": "https://localhost:8080/"
        },
        "id": "DN9_VO1LoUiG",
        "outputId": "959f27ce-cdc5-4dde-f4d7-8af3dac21651"
      },
      "source": [
        "path_to_file = tf.keras.utils.get_file('shakespeare.txt' , 'https://storage.googleapis.com/download.tensorflow.org/data/shakespeare.txt')"
      ],
      "execution_count": null,
      "outputs": [
        {
          "name": "stdout",
          "output_type": "stream",
          "text": [
            "Downloading data from https://storage.googleapis.com/download.tensorflow.org/data/shakespeare.txt\n",
            "1122304/1115394 [==============================] - 0s 0us/step\n",
            "1130496/1115394 [==============================] - 0s 0us/step\n"
          ]
        }
      ]
    },
    {
      "cell_type": "code",
      "metadata": {
        "colab": {
          "base_uri": "https://localhost:8080/"
        },
        "id": "5LWuoWmkoeQH",
        "outputId": "b7bdfb84-0e44-4058-a0e2-0f9e8779e76e"
      },
      "source": [
        "text = open(path_to_file , 'rb').read().decode( encoding='utf-8' )\n",
        "\n",
        "print(f'Length of text: {len(text)} characters')"
      ],
      "execution_count": null,
      "outputs": [
        {
          "name": "stdout",
          "output_type": "stream",
          "text": [
            "Length of text: 1115394 characters\n"
          ]
        }
      ]
    },
    {
      "cell_type": "code",
      "metadata": {
        "colab": {
          "base_uri": "https://localhost:8080/"
        },
        "id": "2Rn3ocgiokAJ",
        "outputId": "9eed8e93-98e2-4cef-d38f-71d65dcf02d8"
      },
      "source": [
        "print(text[:100])"
      ],
      "execution_count": null,
      "outputs": [
        {
          "name": "stdout",
          "output_type": "stream",
          "text": [
            "First Citizen:\n",
            "Before we proceed any further, hear me speak.\n",
            "\n",
            "All:\n",
            "Speak, speak.\n",
            "\n",
            "First Citizen:\n",
            "You\n"
          ]
        }
      ]
    },
    {
      "cell_type": "code",
      "metadata": {
        "colab": {
          "base_uri": "https://localhost:8080/"
        },
        "id": "GajFEBpvooJN",
        "outputId": "acfae3fc-1467-4767-a51f-5c4c80131fa2"
      },
      "source": [
        "vocab = sorted(set(text))\n",
        "print(f'{len(vocab)} unique characters')"
      ],
      "execution_count": null,
      "outputs": [
        {
          "name": "stdout",
          "output_type": "stream",
          "text": [
            "65 unique characters\n"
          ]
        }
      ]
    },
    {
      "cell_type": "code",
      "metadata": {
        "id": "EZ94KiLFpESZ"
      },
      "source": [
        "ids_from_chars = preprocessing.StringLookup(vocabulary = list(vocab),\n",
        "                                            mask_token=None)"
      ],
      "execution_count": null,
      "outputs": []
    },
    {
      "cell_type": "code",
      "metadata": {
        "id": "uaTV0pj1qcnM"
      },
      "source": [
        "chars_from_ids = tf.keras.layers.experimental.preprocessing.StringLookup(\n",
        "    vocabulary=ids_from_chars.get_vocabulary(), invert=True, mask_token=None\n",
        ")"
      ],
      "execution_count": null,
      "outputs": []
    },
    {
      "cell_type": "code",
      "metadata": {
        "id": "etRk2-2mpaUS"
      },
      "source": [
        "def text_from_ids(ids):\n",
        "  return tf.strings.reduce_join(chars_from_ids(ids), axis=-1)"
      ],
      "execution_count": null,
      "outputs": []
    },
    {
      "cell_type": "code",
      "metadata": {
        "colab": {
          "base_uri": "https://localhost:8080/"
        },
        "id": "DmEddRsUpdxy",
        "outputId": "59225804-c9b8-403f-a859-41fb80b03e04"
      },
      "source": [
        "all_ids = ids_from_chars(tf.strings.unicode_split(text , 'UTF-8'))\n",
        "all_ids"
      ],
      "execution_count": null,
      "outputs": [
        {
          "data": {
            "text/plain": [
              "<tf.Tensor: shape=(1115394,), dtype=int64, numpy=array([19, 48, 57, ..., 46,  9,  1])>"
            ]
          },
          "execution_count": 9,
          "metadata": {},
          "output_type": "execute_result"
        }
      ]
    },
    {
      "cell_type": "code",
      "metadata": {
        "id": "qSCp2G-XqJiv"
      },
      "source": [
        "ids_dataset = tf.data.Dataset.from_tensor_slices(all_ids)"
      ],
      "execution_count": null,
      "outputs": []
    },
    {
      "cell_type": "code",
      "metadata": {
        "colab": {
          "base_uri": "https://localhost:8080/"
        },
        "id": "fxlt-grfqOfh",
        "outputId": "63a601e1-0481-42f3-fc59-759392483379"
      },
      "source": [
        "for ids in ids_dataset.take(10):\n",
        "  print(chars_from_ids(ids).numpy().decode('utf-8'))"
      ],
      "execution_count": null,
      "outputs": [
        {
          "name": "stdout",
          "output_type": "stream",
          "text": [
            "F\n",
            "i\n",
            "r\n",
            "s\n",
            "t\n",
            " \n",
            "C\n",
            "i\n",
            "t\n",
            "i\n"
          ]
        }
      ]
    },
    {
      "cell_type": "code",
      "metadata": {
        "id": "I_20mgH4qTR9"
      },
      "source": [
        "seq_length = 50\n",
        "examples_per_epoch = len(text)//(seq_length+1)"
      ],
      "execution_count": null,
      "outputs": []
    },
    {
      "cell_type": "code",
      "metadata": {
        "colab": {
          "base_uri": "https://localhost:8080/"
        },
        "id": "P7DPnMMQqn8F",
        "outputId": "cc3b01fa-5319-4b1f-f43c-b4d991f3cbbe"
      },
      "source": [
        "sequences = ids_dataset.batch(seq_length+1 , drop_remainder=True)\n",
        "\n",
        "for seq in sequences.take(1):\n",
        "  print(chars_from_ids(seq))"
      ],
      "execution_count": null,
      "outputs": [
        {
          "name": "stdout",
          "output_type": "stream",
          "text": [
            "tf.Tensor(\n",
            "[b'F' b'i' b'r' b's' b't' b' ' b'C' b'i' b't' b'i' b'z' b'e' b'n' b':'\n",
            " b'\\n' b'B' b'e' b'f' b'o' b'r' b'e' b' ' b'w' b'e' b' ' b'p' b'r' b'o'\n",
            " b'c' b'e' b'e' b'd' b' ' b'a' b'n' b'y' b' ' b'f' b'u' b'r' b't' b'h'\n",
            " b'e' b'r' b',' b' ' b'h' b'e' b'a' b'r' b' '], shape=(51,), dtype=string)\n"
          ]
        }
      ]
    },
    {
      "cell_type": "code",
      "metadata": {
        "id": "KGKZc19pq0aa"
      },
      "source": [
        "def split_input_target(sequence):\n",
        "  input_text = sequence[:-1]\n",
        "  target_text = sequence[1:]\n",
        "  return input_text , target_text"
      ],
      "execution_count": null,
      "outputs": []
    },
    {
      "cell_type": "code",
      "metadata": {
        "id": "Wi0zGo6jrJg_"
      },
      "source": [
        "dataset = sequences.map(split_input_target)"
      ],
      "execution_count": null,
      "outputs": []
    },
    {
      "cell_type": "code",
      "metadata": {
        "colab": {
          "base_uri": "https://localhost:8080/"
        },
        "id": "_37Aoq0DrPFM",
        "outputId": "dac3b2c4-b259-476d-cc42-ee7e6ac8a957"
      },
      "source": [
        "for input_example , target_example in dataset.take(1):\n",
        "  print('Input: ',text_from_ids(input_example).numpy())\n",
        "  print('Target: ',text_from_ids(target_example).numpy())"
      ],
      "execution_count": null,
      "outputs": [
        {
          "name": "stdout",
          "output_type": "stream",
          "text": [
            "Input:  b'First Citizen:\\nBefore we proceed any further, hear'\n",
            "Target:  b'irst Citizen:\\nBefore we proceed any further, hear '\n"
          ]
        }
      ]
    },
    {
      "cell_type": "code",
      "metadata": {
        "id": "c98pCOtKrZzR"
      },
      "source": [
        "batch_size = 64\n",
        "\n",
        "buffer_size = 10000\n",
        "\n",
        "dataset = (\n",
        "    dataset\n",
        "    .shuffle(buffer_size)\n",
        "    .batch(batch_size,drop_remainder=True)\n",
        "    .prefetch(tf.data.experimental.AUTOTUNE)\n",
        ")"
      ],
      "execution_count": null,
      "outputs": []
    },
    {
      "cell_type": "code",
      "metadata": {
        "id": "1Xtbl5i3sWAx"
      },
      "source": [
        "vocab_size = len(vocab)\n",
        "\n",
        "embedding_dim = 256\n",
        "\n",
        "rnn_units = 1024"
      ],
      "execution_count": null,
      "outputs": []
    },
    {
      "cell_type": "code",
      "metadata": {
        "id": "wvzI0JuMei5T"
      },
      "source": [
        "def loss_plot(history):\n",
        "  plt.xlabel(\"Number of Epochs\")\n",
        "  plt.ylabel('Loss', fontsize=16)\n",
        "  plt.plot(history.history['loss'], color='b', label='Training Loss')\n",
        "  plt.legend(loc='upper right')\n",
        "  plt.show()"
      ],
      "execution_count": null,
      "outputs": []
    },
    {
      "cell_type": "markdown",
      "metadata": {
        "id": "BTejSbyZZSI8"
      },
      "source": [
        "# RNN"
      ]
    },
    {
      "cell_type": "code",
      "metadata": {
        "id": "AeKf-h65ZROQ"
      },
      "source": [
        "class MyModel(tf.keras.Model):\n",
        "  def __init__(self, vocab_size, embedding_dim, rnn_units):\n",
        "    super().__init__(self)\n",
        "    self.embedding = tf.keras.layers.Embedding(vocab_size, embedding_dim)\n",
        "    self.gru = tf.keras.layers.SimpleRNN(rnn_units,\n",
        "                                   activation='tanh',\n",
        "                                   return_sequences=True,\n",
        "                                   return_state=True\n",
        "                                   )\n",
        "    self.dense = tf.keras.layers.Dense(vocab_size)\n",
        "\n",
        "  def call(self, inputs, states=None, return_state=False, training=False):\n",
        "    x = inputs\n",
        "    x = self.embedding(x, training=training)\n",
        "    if states is None:\n",
        "      states = self.gru.get_initial_state(x)\n",
        "    x, states = self.gru(x, initial_state=states, training=training)\n",
        "    x = self.dense(x, training=training)\n",
        "\n",
        "    if return_state:\n",
        "      return x,states\n",
        "    else:\n",
        "      return x"
      ],
      "execution_count": null,
      "outputs": []
    },
    {
      "cell_type": "code",
      "metadata": {
        "id": "cD5HDmh-ZQ-C"
      },
      "source": [
        "rnn_model = MyModel(\n",
        "    vocab_size = len(ids_from_chars.get_vocabulary()),\n",
        "    embedding_dim=embedding_dim,\n",
        "    rnn_units=rnn_units\n",
        ")"
      ],
      "execution_count": null,
      "outputs": []
    },
    {
      "cell_type": "code",
      "metadata": {
        "colab": {
          "base_uri": "https://localhost:8080/"
        },
        "id": "JypyGCavZQ6k",
        "outputId": "a257abd6-459a-4d1a-efb2-9b7da203d9ce"
      },
      "source": [
        "for input_example_batch, target_example_batch in dataset.take(1):\n",
        "  example_batch_preds = rnn_model(input_example_batch)\n",
        "  print(example_batch_preds.shape, '#(batch_size, sequence_length, vocab_size)')"
      ],
      "execution_count": null,
      "outputs": [
        {
          "name": "stdout",
          "output_type": "stream",
          "text": [
            "(64, 50, 66) #(batch_size, sequence_length, vocab_size)\n"
          ]
        }
      ]
    },
    {
      "cell_type": "code",
      "metadata": {
        "colab": {
          "base_uri": "https://localhost:8080/"
        },
        "id": "Pd_02UOfZQyQ",
        "outputId": "45cc779e-f0f5-4c50-c7ed-df3f9e4528fd"
      },
      "source": [
        "rnn_model.summary()"
      ],
      "execution_count": null,
      "outputs": [
        {
          "name": "stdout",
          "output_type": "stream",
          "text": [
            "Model: \"my_model\"\n",
            "_________________________________________________________________\n",
            "Layer (type)                 Output Shape              Param #   \n",
            "=================================================================\n",
            "embedding (Embedding)        multiple                  16896     \n",
            "_________________________________________________________________\n",
            "simple_rnn (SimpleRNN)       multiple                  1311744   \n",
            "_________________________________________________________________\n",
            "dense (Dense)                multiple                  67650     \n",
            "=================================================================\n",
            "Total params: 1,396,290\n",
            "Trainable params: 1,396,290\n",
            "Non-trainable params: 0\n",
            "_________________________________________________________________\n"
          ]
        }
      ]
    },
    {
      "cell_type": "code",
      "metadata": {
        "id": "oVgzAFGZZQpD"
      },
      "source": [
        "loss = tf.losses.SparseCategoricalCrossentropy(from_logits=True)"
      ],
      "execution_count": null,
      "outputs": []
    },
    {
      "cell_type": "code",
      "metadata": {
        "id": "N90NibvKZQlp"
      },
      "source": [
        "opt = keras.optimizers.Adam()\n",
        "rnn_model.compile(optimizer=opt, loss=loss)"
      ],
      "execution_count": null,
      "outputs": []
    },
    {
      "cell_type": "code",
      "metadata": {
        "id": "ObT48uwpZ4Xo"
      },
      "source": [
        "checkpoint_dir = './training_checkpoints_rnn'\n",
        "checkpoint_prefix = os.path.join(checkpoint_dir, \"ckpt_{epoch}\")\n",
        "\n",
        "checkpoint_callback = tf.keras.callbacks.ModelCheckpoint(\n",
        "    filepath=checkpoint_prefix,\n",
        "    save_weights_only=True,\n",
        "    save_freq = 50)"
      ],
      "execution_count": null,
      "outputs": []
    },
    {
      "cell_type": "code",
      "metadata": {
        "id": "1mvCv9AfaY76"
      },
      "source": [
        "epochs = 200"
      ],
      "execution_count": null,
      "outputs": []
    },
    {
      "cell_type": "code",
      "metadata": {
        "colab": {
          "base_uri": "https://localhost:8080/"
        },
        "id": "cQa5SEMjaYu_",
        "outputId": "cf2fe03d-22d8-408d-ebcd-237da6407744"
      },
      "source": [
        "early_stopping = EarlyStopping(monitor = 'loss', patience = 10, mode = 'min', verbose=2)\n",
        "reduce_lr =  ReduceLROnPlateau(monitor='loss', factor=0.2,\n",
        "                              patience=5, min_lr=0.000001, verbose=2)\n",
        "history_rnn = rnn_model.fit(dataset, epochs=epochs, callbacks=[early_stopping, reduce_lr, checkpoint_callback])"
      ],
      "execution_count": null,
      "outputs": [
        {
          "name": "stdout",
          "output_type": "stream",
          "text": [
            "Epoch 1/200\n",
            "341/341 [==============================] - 28s 76ms/step - loss: 2.5294\n",
            "Epoch 2/200\n",
            "341/341 [==============================] - 26s 75ms/step - loss: 1.9476\n",
            "Epoch 3/200\n",
            "341/341 [==============================] - 27s 76ms/step - loss: 1.7391\n",
            "Epoch 4/200\n",
            "341/341 [==============================] - 27s 76ms/step - loss: 1.6216\n",
            "Epoch 5/200\n",
            "341/341 [==============================] - 27s 76ms/step - loss: 1.5515\n",
            "Epoch 6/200\n",
            "341/341 [==============================] - 26s 75ms/step - loss: 1.5015\n",
            "Epoch 7/200\n",
            "341/341 [==============================] - 27s 76ms/step - loss: 1.4663\n",
            "Epoch 8/200\n",
            "341/341 [==============================] - 27s 76ms/step - loss: 1.4386\n",
            "Epoch 9/200\n",
            "341/341 [==============================] - 27s 76ms/step - loss: 1.4139\n",
            "Epoch 10/200\n",
            "341/341 [==============================] - 27s 76ms/step - loss: 1.3952\n",
            "Epoch 11/200\n",
            "341/341 [==============================] - 27s 76ms/step - loss: 1.3771\n",
            "Epoch 12/200\n",
            "341/341 [==============================] - 26s 75ms/step - loss: 1.3624\n",
            "Epoch 13/200\n",
            "341/341 [==============================] - 26s 75ms/step - loss: 1.3479\n",
            "Epoch 14/200\n",
            "341/341 [==============================] - 26s 75ms/step - loss: 1.3360\n",
            "Epoch 15/200\n",
            "341/341 [==============================] - 26s 75ms/step - loss: 1.3228\n",
            "Epoch 16/200\n",
            "341/341 [==============================] - 26s 75ms/step - loss: 1.3124\n",
            "Epoch 17/200\n",
            "341/341 [==============================] - 26s 75ms/step - loss: 1.3015\n",
            "Epoch 18/200\n",
            "341/341 [==============================] - 27s 76ms/step - loss: 1.2917\n",
            "Epoch 19/200\n",
            "341/341 [==============================] - 27s 76ms/step - loss: 1.2825\n",
            "Epoch 20/200\n",
            "341/341 [==============================] - 27s 76ms/step - loss: 1.2729\n",
            "Epoch 21/200\n",
            "341/341 [==============================] - 27s 76ms/step - loss: 1.2644\n",
            "Epoch 22/200\n",
            "341/341 [==============================] - 26s 75ms/step - loss: 1.2553\n",
            "Epoch 23/200\n",
            "341/341 [==============================] - 27s 75ms/step - loss: 1.2472\n",
            "Epoch 24/200\n",
            "341/341 [==============================] - 27s 76ms/step - loss: 1.2412\n",
            "Epoch 25/200\n",
            "341/341 [==============================] - 27s 76ms/step - loss: 1.2333\n",
            "Epoch 26/200\n",
            "341/341 [==============================] - 27s 76ms/step - loss: 1.2250\n",
            "Epoch 27/200\n",
            "341/341 [==============================] - 27s 76ms/step - loss: 1.2178\n",
            "Epoch 28/200\n",
            "341/341 [==============================] - 27s 76ms/step - loss: 1.2122\n",
            "Epoch 29/200\n",
            "341/341 [==============================] - 26s 75ms/step - loss: 1.2049\n",
            "Epoch 30/200\n",
            "341/341 [==============================] - 26s 75ms/step - loss: 1.1990\n",
            "Epoch 31/200\n",
            "341/341 [==============================] - 27s 76ms/step - loss: 1.1947\n",
            "Epoch 32/200\n",
            "341/341 [==============================] - 27s 76ms/step - loss: 1.1889\n",
            "Epoch 33/200\n",
            "341/341 [==============================] - 26s 75ms/step - loss: 1.1840\n",
            "Epoch 34/200\n",
            "341/341 [==============================] - 27s 75ms/step - loss: 1.1803\n",
            "Epoch 35/200\n",
            "341/341 [==============================] - 27s 76ms/step - loss: 1.1762\n",
            "Epoch 36/200\n",
            "341/341 [==============================] - 27s 75ms/step - loss: 1.1719\n",
            "Epoch 37/200\n",
            "341/341 [==============================] - 26s 75ms/step - loss: 1.1680\n",
            "Epoch 38/200\n",
            "341/341 [==============================] - 27s 75ms/step - loss: 1.1647\n",
            "Epoch 39/200\n",
            "341/341 [==============================] - 27s 75ms/step - loss: 1.1621\n",
            "Epoch 40/200\n",
            "341/341 [==============================] - 27s 76ms/step - loss: 1.1587\n",
            "Epoch 41/200\n",
            "341/341 [==============================] - 27s 75ms/step - loss: 1.1560\n",
            "Epoch 42/200\n",
            "341/341 [==============================] - 27s 75ms/step - loss: 1.1540\n",
            "Epoch 43/200\n",
            "341/341 [==============================] - 26s 75ms/step - loss: 1.1536\n",
            "Epoch 44/200\n",
            "341/341 [==============================] - 26s 74ms/step - loss: 1.1500\n",
            "Epoch 45/200\n",
            "341/341 [==============================] - 26s 74ms/step - loss: 1.1490\n",
            "Epoch 46/200\n",
            "341/341 [==============================] - 26s 74ms/step - loss: 1.1487\n",
            "Epoch 47/200\n",
            "341/341 [==============================] - 26s 74ms/step - loss: 1.1464\n",
            "Epoch 48/200\n",
            "341/341 [==============================] - 26s 74ms/step - loss: 1.1472\n",
            "Epoch 49/200\n",
            "341/341 [==============================] - 26s 74ms/step - loss: 1.1462\n",
            "Epoch 50/200\n",
            "341/341 [==============================] - 26s 74ms/step - loss: 1.1462\n",
            "Epoch 51/200\n",
            "341/341 [==============================] - 26s 73ms/step - loss: 1.1446\n",
            "Epoch 52/200\n",
            "341/341 [==============================] - 26s 74ms/step - loss: 1.1453\n",
            "Epoch 53/200\n",
            "341/341 [==============================] - 26s 74ms/step - loss: 1.1474\n",
            "Epoch 54/200\n",
            "341/341 [==============================] - 26s 75ms/step - loss: 1.1464\n",
            "Epoch 55/200\n",
            "341/341 [==============================] - 26s 74ms/step - loss: 1.1474\n",
            "Epoch 56/200\n",
            "341/341 [==============================] - 26s 75ms/step - loss: 1.1492\n",
            "\n",
            "Epoch 00056: ReduceLROnPlateau reducing learning rate to 0.00020000000949949026.\n",
            "Epoch 57/200\n",
            "341/341 [==============================] - 26s 74ms/step - loss: 1.0384\n",
            "Epoch 58/200\n",
            "341/341 [==============================] - 26s 75ms/step - loss: 0.9998\n",
            "Epoch 59/200\n",
            "341/341 [==============================] - 26s 75ms/step - loss: 0.9830\n",
            "Epoch 60/200\n",
            "341/341 [==============================] - 27s 76ms/step - loss: 0.9697\n",
            "Epoch 61/200\n",
            "341/341 [==============================] - 27s 76ms/step - loss: 0.9587\n",
            "Epoch 62/200\n",
            "341/341 [==============================] - 27s 75ms/step - loss: 0.9493\n",
            "Epoch 63/200\n",
            "341/341 [==============================] - 27s 76ms/step - loss: 0.9400\n",
            "Epoch 64/200\n",
            "341/341 [==============================] - 27s 76ms/step - loss: 0.9311\n",
            "Epoch 65/200\n",
            "341/341 [==============================] - 27s 76ms/step - loss: 0.9231\n",
            "Epoch 66/200\n",
            "341/341 [==============================] - 26s 75ms/step - loss: 0.9153\n",
            "Epoch 67/200\n",
            "341/341 [==============================] - 27s 76ms/step - loss: 0.9076\n",
            "Epoch 68/200\n",
            "341/341 [==============================] - 26s 75ms/step - loss: 0.9002\n",
            "Epoch 69/200\n",
            "341/341 [==============================] - 27s 76ms/step - loss: 0.8933\n",
            "Epoch 70/200\n",
            "341/341 [==============================] - 27s 76ms/step - loss: 0.8869\n",
            "Epoch 71/200\n",
            "341/341 [==============================] - 26s 75ms/step - loss: 0.8806\n",
            "Epoch 72/200\n",
            "341/341 [==============================] - 27s 76ms/step - loss: 0.8743\n",
            "Epoch 73/200\n",
            "341/341 [==============================] - 26s 75ms/step - loss: 0.8686\n",
            "Epoch 74/200\n",
            "341/341 [==============================] - 27s 76ms/step - loss: 0.8624\n",
            "Epoch 75/200\n",
            "341/341 [==============================] - 27s 76ms/step - loss: 0.8568\n",
            "Epoch 76/200\n",
            "341/341 [==============================] - 27s 75ms/step - loss: 0.8522\n",
            "Epoch 77/200\n",
            "341/341 [==============================] - 27s 76ms/step - loss: 0.8462\n",
            "Epoch 78/200\n",
            "341/341 [==============================] - 27s 76ms/step - loss: 0.8418\n",
            "Epoch 79/200\n",
            "341/341 [==============================] - 27s 76ms/step - loss: 0.8366\n",
            "Epoch 80/200\n",
            "341/341 [==============================] - 26s 75ms/step - loss: 0.8312\n",
            "Epoch 81/200\n",
            "341/341 [==============================] - 27s 76ms/step - loss: 0.8270\n",
            "Epoch 82/200\n",
            "341/341 [==============================] - 27s 76ms/step - loss: 0.8221\n",
            "Epoch 83/200\n",
            "341/341 [==============================] - 27s 76ms/step - loss: 0.8187\n",
            "Epoch 84/200\n",
            "341/341 [==============================] - 27s 75ms/step - loss: 0.8141\n",
            "Epoch 85/200\n",
            "341/341 [==============================] - 27s 76ms/step - loss: 0.8099\n",
            "Epoch 86/200\n",
            "341/341 [==============================] - 27s 76ms/step - loss: 0.8061\n",
            "Epoch 87/200\n",
            "341/341 [==============================] - 27s 76ms/step - loss: 0.8017\n",
            "Epoch 88/200\n",
            "341/341 [==============================] - 27s 76ms/step - loss: 0.7979\n",
            "Epoch 89/200\n",
            "341/341 [==============================] - 26s 75ms/step - loss: 0.7942\n",
            "Epoch 90/200\n",
            "341/341 [==============================] - 27s 75ms/step - loss: 0.7910\n",
            "Epoch 91/200\n",
            "341/341 [==============================] - 27s 76ms/step - loss: 0.7877\n",
            "Epoch 92/200\n",
            "341/341 [==============================] - 27s 76ms/step - loss: 0.7838\n",
            "Epoch 93/200\n",
            "341/341 [==============================] - 27s 76ms/step - loss: 0.7806\n",
            "Epoch 94/200\n",
            "341/341 [==============================] - 27s 76ms/step - loss: 0.7782\n",
            "Epoch 95/200\n",
            "341/341 [==============================] - 27s 75ms/step - loss: 0.7745\n",
            "Epoch 96/200\n",
            "341/341 [==============================] - 27s 76ms/step - loss: 0.7709\n",
            "Epoch 97/200\n",
            "341/341 [==============================] - 26s 75ms/step - loss: 0.7676\n",
            "Epoch 98/200\n",
            "341/341 [==============================] - 27s 76ms/step - loss: 0.7652\n",
            "Epoch 99/200\n",
            "341/341 [==============================] - 27s 76ms/step - loss: 0.7623\n",
            "Epoch 100/200\n",
            "341/341 [==============================] - 27s 76ms/step - loss: 0.7583\n",
            "Epoch 101/200\n",
            "341/341 [==============================] - 27s 76ms/step - loss: 0.7570\n",
            "Epoch 102/200\n",
            "341/341 [==============================] - 27s 77ms/step - loss: 0.7545\n",
            "Epoch 103/200\n",
            "341/341 [==============================] - 27s 76ms/step - loss: 0.7517\n",
            "Epoch 104/200\n",
            "341/341 [==============================] - 27s 76ms/step - loss: 0.7490\n",
            "Epoch 105/200\n",
            "341/341 [==============================] - 27s 77ms/step - loss: 0.7456\n",
            "Epoch 106/200\n",
            "341/341 [==============================] - 27s 76ms/step - loss: 0.7433\n",
            "Epoch 107/200\n",
            "341/341 [==============================] - 27s 76ms/step - loss: 0.7407\n",
            "Epoch 108/200\n",
            "341/341 [==============================] - 27s 77ms/step - loss: 0.7383\n",
            "Epoch 109/200\n",
            "341/341 [==============================] - 27s 76ms/step - loss: 0.7362\n",
            "Epoch 110/200\n",
            "341/341 [==============================] - 27s 76ms/step - loss: 0.7338\n",
            "Epoch 111/200\n",
            "341/341 [==============================] - 27s 76ms/step - loss: 0.7329\n",
            "Epoch 112/200\n",
            "341/341 [==============================] - 27s 76ms/step - loss: 0.7295\n",
            "Epoch 113/200\n",
            "341/341 [==============================] - 27s 77ms/step - loss: 0.7279\n",
            "Epoch 114/200\n",
            "341/341 [==============================] - 27s 76ms/step - loss: 0.7259\n",
            "Epoch 115/200\n",
            "341/341 [==============================] - 27s 76ms/step - loss: 0.7239\n",
            "Epoch 116/200\n",
            "341/341 [==============================] - 27s 76ms/step - loss: 0.7220\n",
            "Epoch 117/200\n",
            "341/341 [==============================] - 27s 76ms/step - loss: 0.7193\n",
            "Epoch 118/200\n",
            "341/341 [==============================] - 27s 76ms/step - loss: 0.7186\n",
            "Epoch 119/200\n",
            "341/341 [==============================] - 27s 76ms/step - loss: 0.7159\n",
            "Epoch 120/200\n",
            "341/341 [==============================] - 27s 76ms/step - loss: 0.7138\n",
            "Epoch 121/200\n",
            "341/341 [==============================] - 26s 75ms/step - loss: 0.7120\n",
            "Epoch 122/200\n",
            "341/341 [==============================] - 26s 75ms/step - loss: 0.7102\n",
            "Epoch 123/200\n",
            "341/341 [==============================] - 26s 75ms/step - loss: 0.7069\n",
            "Epoch 124/200\n",
            "341/341 [==============================] - 26s 75ms/step - loss: 0.7069\n",
            "Epoch 125/200\n",
            "341/341 [==============================] - 26s 75ms/step - loss: 0.7053\n",
            "Epoch 126/200\n",
            "341/341 [==============================] - 27s 76ms/step - loss: 0.7049\n",
            "Epoch 127/200\n",
            "341/341 [==============================] - 27s 76ms/step - loss: 0.7021\n",
            "Epoch 128/200\n",
            "341/341 [==============================] - 27s 76ms/step - loss: 0.7008\n",
            "Epoch 129/200\n",
            "341/341 [==============================] - 27s 75ms/step - loss: 0.6987\n",
            "Epoch 130/200\n",
            "341/341 [==============================] - 26s 75ms/step - loss: 0.6983\n",
            "Epoch 131/200\n",
            "341/341 [==============================] - 27s 75ms/step - loss: 0.6952\n",
            "Epoch 132/200\n",
            "341/341 [==============================] - 27s 76ms/step - loss: 0.6942\n",
            "Epoch 133/200\n",
            "341/341 [==============================] - 27s 76ms/step - loss: 0.6921\n",
            "Epoch 134/200\n",
            "341/341 [==============================] - 26s 75ms/step - loss: 0.6919\n",
            "Epoch 135/200\n",
            "341/341 [==============================] - 27s 76ms/step - loss: 0.6909\n",
            "Epoch 136/200\n",
            "341/341 [==============================] - 27s 77ms/step - loss: 0.6878\n",
            "Epoch 137/200\n",
            "341/341 [==============================] - 27s 76ms/step - loss: 0.6873\n",
            "Epoch 138/200\n",
            "341/341 [==============================] - 27s 76ms/step - loss: 0.6858\n",
            "Epoch 139/200\n",
            "341/341 [==============================] - 27s 76ms/step - loss: 0.6847\n",
            "Epoch 140/200\n",
            "341/341 [==============================] - 27s 77ms/step - loss: 0.6848\n",
            "Epoch 141/200\n",
            "341/341 [==============================] - 27s 76ms/step - loss: 0.6825\n",
            "Epoch 142/200\n",
            "341/341 [==============================] - 27s 76ms/step - loss: 0.6787\n",
            "Epoch 143/200\n",
            "341/341 [==============================] - 27s 76ms/step - loss: 0.6796\n",
            "Epoch 144/200\n",
            "341/341 [==============================] - 27s 77ms/step - loss: 0.6778\n",
            "Epoch 145/200\n",
            "341/341 [==============================] - 27s 77ms/step - loss: 0.6765\n",
            "Epoch 146/200\n",
            "341/341 [==============================] - 27s 76ms/step - loss: 0.6776\n",
            "Epoch 147/200\n",
            "341/341 [==============================] - 27s 77ms/step - loss: 0.6759\n",
            "Epoch 148/200\n",
            "341/341 [==============================] - 27s 77ms/step - loss: 0.6737\n",
            "Epoch 149/200\n",
            "341/341 [==============================] - 27s 77ms/step - loss: 0.6726\n",
            "Epoch 150/200\n",
            "341/341 [==============================] - 27s 77ms/step - loss: 0.6707\n",
            "Epoch 151/200\n",
            "341/341 [==============================] - 27s 77ms/step - loss: 0.6711\n",
            "Epoch 152/200\n",
            "341/341 [==============================] - 27s 76ms/step - loss: 0.6692\n",
            "Epoch 153/200\n",
            "341/341 [==============================] - 27s 76ms/step - loss: 0.6676\n",
            "Epoch 154/200\n",
            "341/341 [==============================] - 27s 76ms/step - loss: 0.6676\n",
            "Epoch 155/200\n",
            "341/341 [==============================] - 27s 77ms/step - loss: 0.6646\n",
            "Epoch 156/200\n",
            "341/341 [==============================] - 27s 76ms/step - loss: 0.6653\n",
            "Epoch 157/200\n",
            "341/341 [==============================] - 27s 77ms/step - loss: 0.6647\n",
            "Epoch 158/200\n",
            "341/341 [==============================] - 27s 77ms/step - loss: 0.6625\n",
            "Epoch 159/200\n",
            "341/341 [==============================] - 27s 77ms/step - loss: 0.6612\n",
            "Epoch 160/200\n",
            "341/341 [==============================] - 27s 76ms/step - loss: 0.6635\n",
            "Epoch 161/200\n",
            "341/341 [==============================] - 27s 77ms/step - loss: 0.6598\n",
            "Epoch 162/200\n",
            "341/341 [==============================] - 27s 76ms/step - loss: 0.6599\n",
            "Epoch 163/200\n",
            "341/341 [==============================] - 27s 77ms/step - loss: 0.6602\n",
            "Epoch 164/200\n",
            "341/341 [==============================] - 27s 76ms/step - loss: 0.6581\n",
            "Epoch 165/200\n",
            "341/341 [==============================] - 27s 76ms/step - loss: 0.6565\n",
            "Epoch 166/200\n",
            "341/341 [==============================] - 27s 76ms/step - loss: 0.6541\n",
            "Epoch 167/200\n",
            "341/341 [==============================] - 27s 76ms/step - loss: 0.6532\n",
            "Epoch 168/200\n",
            "341/341 [==============================] - 27s 77ms/step - loss: 0.6560\n",
            "Epoch 169/200\n",
            "341/341 [==============================] - 27s 76ms/step - loss: 0.6527\n",
            "Epoch 170/200\n",
            "341/341 [==============================] - 27s 76ms/step - loss: 0.6533\n",
            "Epoch 171/200\n",
            "341/341 [==============================] - 27s 76ms/step - loss: 0.6507\n",
            "Epoch 172/200\n",
            "341/341 [==============================] - 27s 76ms/step - loss: 0.6541\n",
            "Epoch 173/200\n",
            "341/341 [==============================] - 27s 76ms/step - loss: 0.6510\n",
            "Epoch 174/200\n",
            "341/341 [==============================] - 27s 76ms/step - loss: 0.6466\n",
            "Epoch 175/200\n",
            "341/341 [==============================] - 27s 77ms/step - loss: 0.6475\n",
            "Epoch 176/200\n",
            "341/341 [==============================] - 27s 76ms/step - loss: 0.6484\n",
            "Epoch 177/200\n",
            "341/341 [==============================] - 27s 77ms/step - loss: 0.6475\n",
            "Epoch 178/200\n",
            "341/341 [==============================] - 27s 76ms/step - loss: 0.6477\n",
            "Epoch 179/200\n",
            "341/341 [==============================] - 27s 76ms/step - loss: 0.6468\n",
            "\n",
            "Epoch 00179: ReduceLROnPlateau reducing learning rate to 4.0000001899898055e-05.\n",
            "Epoch 180/200\n",
            "341/341 [==============================] - 27s 77ms/step - loss: 0.5904\n",
            "Epoch 181/200\n",
            "341/341 [==============================] - 27s 76ms/step - loss: 0.5706\n",
            "Epoch 182/200\n",
            "341/341 [==============================] - 27s 76ms/step - loss: 0.5634\n",
            "Epoch 183/200\n",
            "341/341 [==============================] - 26s 75ms/step - loss: 0.5586\n",
            "Epoch 184/200\n",
            "341/341 [==============================] - 27s 76ms/step - loss: 0.5552\n",
            "Epoch 185/200\n",
            "341/341 [==============================] - 27s 77ms/step - loss: 0.5526\n",
            "Epoch 186/200\n",
            "341/341 [==============================] - 27s 76ms/step - loss: 0.5503\n",
            "Epoch 187/200\n",
            "341/341 [==============================] - 27s 77ms/step - loss: 0.5483\n",
            "Epoch 188/200\n",
            "341/341 [==============================] - 27s 76ms/step - loss: 0.5465\n",
            "Epoch 189/200\n",
            "341/341 [==============================] - 27s 76ms/step - loss: 0.5453\n",
            "Epoch 190/200\n",
            "341/341 [==============================] - 27s 76ms/step - loss: 0.5432\n",
            "Epoch 191/200\n",
            "341/341 [==============================] - 27s 76ms/step - loss: 0.5415\n",
            "Epoch 192/200\n",
            "341/341 [==============================] - 27s 76ms/step - loss: 0.5401\n",
            "Epoch 193/200\n",
            "341/341 [==============================] - 27s 77ms/step - loss: 0.5386\n",
            "Epoch 194/200\n",
            "341/341 [==============================] - 27s 77ms/step - loss: 0.5373\n",
            "Epoch 195/200\n",
            "341/341 [==============================] - 27s 77ms/step - loss: 0.5361\n",
            "Epoch 196/200\n",
            "341/341 [==============================] - 27s 76ms/step - loss: 0.5348\n",
            "Epoch 197/200\n",
            "341/341 [==============================] - 27s 76ms/step - loss: 0.5336\n",
            "Epoch 198/200\n",
            "341/341 [==============================] - 27s 77ms/step - loss: 0.5327\n",
            "Epoch 199/200\n",
            "341/341 [==============================] - 27s 77ms/step - loss: 0.5312\n",
            "Epoch 200/200\n",
            "341/341 [==============================] - 27s 76ms/step - loss: 0.5304\n"
          ]
        }
      ]
    },
    {
      "cell_type": "code",
      "metadata": {
        "colab": {
          "base_uri": "https://localhost:8080/",
          "height": 279
        },
        "id": "Bj32PyE8e3Pu",
        "outputId": "9ea628ee-6c49-4a08-ce5b-6a5b97f675ad"
      },
      "source": [
        "loss_plot(history_rnn)"
      ],
      "execution_count": null,
      "outputs": [
        {
          "data": {
            "image/png": "[encoded data removed]",
            "text/plain": [
              "<Figure size 432x288 with 1 Axes>"
            ]
          },
          "metadata": {},
          "output_type": "display_data"
        }
      ]
    },
    {
      "cell_type": "code",
      "metadata": {
        "id": "8_i3VQbgcXLe"
      },
      "source": [
        "class OneStep(tf.keras.Model):\n",
        "  def __init__(self, model, chars_from_ids, ids_from_chars, temperature=1.0):\n",
        "    super().__init__()\n",
        "    self.temperature = temperature\n",
        "    self.model = model\n",
        "    self.chars_from_ids = chars_from_ids\n",
        "    self.ids_from_chars = ids_from_chars\n",
        "\n",
        "    skip_ids = self.ids_from_chars(['[UNK]'])[:, None]\n",
        "    sparse_mask = tf.SparseTensor(\n",
        "        values=[-float('inf')]*len(skip_ids),\n",
        "        indices=skip_ids,\n",
        "        dense_shape=[len(ids_from_chars.get_vocabulary())])\n",
        "    self.prediction_mask = tf.sparse.to_dense(sparse_mask)\n",
        "\n",
        "  @tf.function\n",
        "  def generate_one_step(self, inputs, states=None):\n",
        "    input_chars = tf.strings.unicode_split(inputs, 'UTF-8')\n",
        "    input_ids = self.ids_from_chars(input_chars).to_tensor()\n",
        "\n",
        "    predicted_logits, states = self.model(inputs=input_ids, states=states,\n",
        "                                          return_state=True)\n",
        "    predicted_logits = predicted_logits[:, -1, :]\n",
        "    predicted_logits = predicted_logits/self.temperature\n",
        "    predicted_logits = predicted_logits + self.prediction_mask\n",
        "\n",
        "    predicted_ids = tf.random.categorical(predicted_logits, num_samples=1)\n",
        "    predicted_ids = tf.squeeze(predicted_ids, axis=-1)\n",
        "\n",
        "    predicted_chars = self.chars_from_ids(predicted_ids)\n",
        "\n",
        "    return predicted_chars, states"
      ],
      "execution_count": null,
      "outputs": []
    },
    {
      "cell_type": "code",
      "metadata": {
        "id": "2pP1aXvlcdMo"
      },
      "source": [
        "one_step_model = OneStep(rnn_model, chars_from_ids, ids_from_chars)"
      ],
      "execution_count": null,
      "outputs": []
    },
    {
      "cell_type": "code",
      "metadata": {
        "colab": {
          "base_uri": "https://localhost:8080/"
        },
        "id": "ZtR4NKAXcdJN",
        "outputId": "2f6cd4bd-c25a-4012-9719-1ad8d2cd15ba"
      },
      "source": [
        "start = time.time()\n",
        "states = None\n",
        "next_char = tf.constant(['ROMEO:'])\n",
        "result = [next_char]\n",
        "\n",
        "for n in range(1000):\n",
        "  next_char, states = one_step_model.generate_one_step(next_char, states=states)\n",
        "  result.append(next_char)\n",
        "\n",
        "result = tf.strings.join(result)\n",
        "end = time.time()\n",
        "print(result[0].numpy().decode('utf-8'), '\\n\\n' + '_'*80)\n",
        "print('\\nRun time:', end - start)"
      ],
      "execution_count": null,
      "outputs": [
        {
          "name": "stdout",
          "output_type": "stream",
          "text": [
            "Romeo?\n",
            "\n",
            "MERCUTIO:\n",
            "My lords\n",
            "are at the place,--\n",
            "\n",
            "MENENIUS:\n",
            "O my liege,\n",
            "Heart love aurable and by himself.\n",
            "\n",
            "WARWICK:\n",
            "And thou at their country are o' the people.\n",
            "\n",
            "Pursuivant:\n",
            "I thought your name is Duke of Norfolk lenity\n",
            "to prepare myself.\n",
            "\n",
            "Nurse:\n",
            "Marry, I'll report it, adieu; and most desires my uncle Retemosing.\n",
            "\n",
            "SICINIUS:\n",
            "'Twas no thing, I say the price o' the sly government,\n",
            "Yet laugh at time right.\n",
            "\n",
            "LEONTES:\n",
            "How! can yield me not, my lord, and you mistakes discreetly hates of pity.\n",
            "The Lords\n",
            "not to me this shall proceed\n",
            "For thy head by his head to prepare my friends as that with his grace,\n",
            "To catch my duty!\n",
            "\n",
            "Second Keeper:\n",
            "Besides, you\n",
            "A strange fit to do,\n",
            "By lack of love and roteer.\n",
            "A wickion too, for this night.\n",
            "\n",
            "PETRUCHIO:\n",
            "Why, hence!\n",
            "\n",
            "AUFIDIUS:\n",
            "Go tell thee:\n",
            "He that both of your office that's gone.\n",
            "\n",
            "Clown:\n",
            "We are inform'd the stuff,\n",
            "From which I dourt-port with Proteanue; for thou hast been!\n",
            "\n",
            "ANGELO:\n",
            "What store were they shall compell'd\n",
            "As to your mother\n",
            "That white Richard reign from \n",
            "\n",
            "________________________________________________________________________________\n",
            "\n",
            "Run time: 2.64516019821167\n"
          ]
        }
      ]
    },
    {
      "cell_type": "code",
      "metadata": {
        "colab": {
          "base_uri": "https://localhost:8080/"
        },
        "id": "g_VUxZ-Nccvr",
        "outputId": "84c5d200-5ec4-4180-d33d-18ce6662d698"
      },
      "source": [
        "start = time.time()\n",
        "states = None\n",
        "next_char = tf.constant(['ROMEO:', 'ROMEO:', 'ROMEO:', 'ROMEO:', 'ROMEO:'])\n",
        "result = [next_char]\n",
        "\n",
        "for n in range(1000):\n",
        "  next_char, states = one_step_model.generate_one_step(next_char, states=states)\n",
        "  result.append(next_char)\n",
        "\n",
        "result = tf.strings.join(result)\n",
        "end = time.time()\n",
        "print(result, '\\n\\n' + '_'*80)\n",
        "print('\\nRun time:', end - start)"
      ],
      "execution_count": null,
      "outputs": [
        {
          "name": "stdout",
          "output_type": "stream",
          "text": [
            "tf.Tensor(\n",
            "[b\"Romeo\\nTo take order we saw now, this land will happy foolery,\\nBeing one craves a near\\nThat runagate guest: here is here unto this kern'd?\\nWhat is the provost? What, marvel, spend thee to the city.\\nIs cries King Edward Edward Plainnal tears,\\nAnd love thee o'er in smiles of quality\\nHis ars. Come, let's be;\\nAnd must go with me for Rome again after a great deal to tell it not.\\n\\nSecond Senator:\\nCurse of remorse; his name remain\\nA dozen out of.\\n\\nELBOW:\\nAy, sir; I have\\nThe prince I came\\nTo liberty.\\nUnless for my own,--as the queen through these woes,\\nAnd am I sent for\\nthis good with a wealth\\nShould be county is grown but Henry is the bastard.\\n\\nBIANCA:\\nThat 'dive, it must needs be dine;\\nHave chip my father well.\\n\\nLUCIO:\\nHe was dream i' the commons which is another fellow'd all this,\\nI have some more from Green, some other side more.\\nFor what he, to our gentlemen,\\nTherefore yet hath set his shriving: why stand up:'l dishonour, in good hope to worn number issue,\\nAnd craves you to his claporate you,\\nI\"\n",
            " b\"Romeo slew him that.\\n\\nFirst Gentleman:\\nI know what thou hast thy right,\\nTo be discover'd.\\n\\nSecond Citizen:\\nAnd so 'twere allayed my death,\\nAnd all my brother's way:\\nSo many good morrows the place; thou likeness of thine own\\nWith words are mad:--an they of his throne?\\n\\nLEONTES:\\nGood night, 'Sicistant: one thing she will witn me and on the prison: restorments do babb. They can say you told you in my dishonour heaving, perjured Gaunt appear before Eichmond or himself amongst the currips you have leave it array;\\nWhich, lead all discourse,\\nWho should infringe the corse; or, those pity, fond murdering tongues: let me die the wenting women or two?\\nIs the most needful\\ncannot be affection.\\n\\nLUCENTIO:\\nI fear it is: what news?\\n\\nLEONTES:\\nGo, get thee to charity will ride us all into an oath by Him,\\nThat makes his way?\\nI take the truth, all butchered;\\nNor both ere mistress waves\\nThat e'er to me inform\\nStands a little find\\nUpon as Hereford's son: his nature\\nWere in hell,\\nThe leaves and counterfeit'st odi\"\n",
            " b\"Romeo,\\nWhose dearhed in Russil with him\\nAnd from this time of day!\\n\\nPERDITA:\\nYour tribunes; they shall do come and long-sings it.\\n\\nSecond Servingman:\\nWhy, is it not enter!\\n\\nSICINIUS:\\nNay, I might be your grace I might flatter first conscience is wash of our time:\\nThe daughter, fills our commission, and discourse,\\nWhence are you?\\n\\nROMEO:\\nThou canst go to-night.\\n\\nROMEO:\\nThough he did, and cannot list.\\n\\nVINCENTIO:\\nAnd you my good lord and villain: for, every wonder hope that you do it!\\n\\nESCALUS:\\nThen she is my son; it is not infusion; you'll keep at Halfor Peter-song forth,\\nAnd many gentlemen! I have said against the stars\\nOf eyes,\\nElse, for your company, set on counsel.\\nDo so, how then, if ever true like beast!\\nLook her, I'ld they were fled to thee at thy good soul\\nIs to bite heir to the blind,\\nLet me embrace with the joint-stripes\\nIs nothing but convenience, and every thing ill-siste I did infer thee in.\\nWhen with five thou shalt tell the ground.\\n\\nKING RICHARD III:\\nFarewell, for thy name?\\n\\nC\"\n",
            " b\"Romeo:\\nInprobeth no single-solking: if I then dangerous\\nthe thoughts, that Adrags of your confines of her who,\\nWas it not stay the vessel\\nTo aved to laugh-eleven of truth, but bless you, as hardly will to Aufidius are:\\nThese are this?\\n\\nMENENIUS:\\nBound with Rome will be deliver'd by,\\nHe could please you, sir.\\n\\nHORTENSIO:\\nSaw'st thou not thy sides\\nthat nothing but a prince, and thou with the king hath brought it over\\nTo execute the gown I endown to see the world\\nLeave before hungerly and a heavy spider\\nAnd promise them,\\nsweet disfignty;\\nTo beg of his atteman:\\nArt thou old match,\\nPut the rocks be pardon'd, or do I see thy franging floods and\\nthe treason with my tent thereof,\\nAnd in hope of tongues; and I am sure\\nof all that I see a tawards\\nThe wisdom was it not know--door father.\\n\\nPOMPEY:\\nSir, I have done: 'tis twenty heal, should know\\nWhat's yet\\nAcquainted in the action of death.\\n\\nGREMIO:\\nNo, at the Duke of Gloucester;\\nFor the rest was but thought of mine\\nCar I am sure, but that\\nWhich gain in\"\n",
            " b\"Romeo\\nDid murdering of his surly glanced\\nHe thinks the spur;\\nNow are these confines ne'er buzzards.\\n\\nMENENIUS:\\nI'll swear,--your worship is not honest.\\n\\nDUKE OF AUMERLE:\\n'Tis figured in me; and, Camillo, and\\nyou not their purpose bids us 'twixt thy beggar\\nAnd never to my guard.\\n\\nKING HENRY VI:\\nSaddle and to make way, as I am answer when it shall\\nbut peace is nothing: there are you,\\nAnd first begin with thee\\nWhere he shall stay\\nTitly all at once,\\nOf my life, for it is no remedy.\\n\\nGLOUCESTER:\\nTake the wack him up in hunder soldier\\nOf your eyes fast,\\nSo yourging the worst o' the chosen of thy faults. Is quick conditions and twenty or here!\\nIs me! here, sir. Fare you so hot, but since I stay, the king hath yet\\nmethinks you to offerrips of love and lock'd at all time I mean, my lord.\\n\\nHENRY BOLINGBROKE:\\nMarry, wilt thou be overture\\n'Twere well to employ'd with rash-levish earth,\\nLet's first he do remain:\\nYour worship is deceive\\nWe marvel must be burnt for his friends,--\\n\\nESCALUS:\\nDream, come.\\n\\nC\"], shape=(5,), dtype=string) \n",
            "\n",
            "________________________________________________________________________________\n",
            "\n",
            "Run time: 3.0402941703796387\n"
          ]
        }
      ]
    },
    {
      "cell_type": "markdown",
      "metadata": {
        "id": "-32d_gikZGod"
      },
      "source": [
        "# GRU"
      ]
    },
    {
      "cell_type": "code",
      "metadata": {
        "id": "f3vaL8ogswuk"
      },
      "source": [
        "class MyModel(tf.keras.Model):\n",
        "  def __init__(self, vocab_size, embedding_dim, rnn_units):\n",
        "    super().__init__(self)\n",
        "    self.embedding = tf.keras.layers.Embedding(vocab_size, embedding_dim)\n",
        "    self.gru = tf.keras.layers.GRU(rnn_units,\n",
        "                                   activation='tanh',\n",
        "                                   return_sequences=True,\n",
        "                                   return_state=True\n",
        "                                   )\n",
        "    self.dense = tf.keras.layers.Dense(vocab_size)\n",
        "\n",
        "  def call(self, inputs, states=None, return_state=False, training=False):\n",
        "    x = inputs\n",
        "    x = self.embedding(x, training=training)\n",
        "    if states is None:\n",
        "      states = self.gru.get_initial_state(x)\n",
        "    x, states = self.gru(x, initial_state=states, training=training)\n",
        "    x = self.dense(x, training=training)\n",
        "\n",
        "    if return_state:\n",
        "      return x,states\n",
        "    else:\n",
        "      return x"
      ],
      "execution_count": null,
      "outputs": []
    },
    {
      "cell_type": "code",
      "metadata": {
        "id": "lOR6di_uwQba"
      },
      "source": [
        "gru_model = MyModel(\n",
        "    vocab_size = len(ids_from_chars.get_vocabulary()),\n",
        "    embedding_dim=embedding_dim,\n",
        "    rnn_units=rnn_units\n",
        ")"
      ],
      "execution_count": null,
      "outputs": []
    },
    {
      "cell_type": "code",
      "metadata": {
        "colab": {
          "base_uri": "https://localhost:8080/"
        },
        "id": "G_tnsqp5W0JD",
        "outputId": "51b50540-e548-47f7-ed4c-c34e8f77b73c"
      },
      "source": [
        "for input_example_batch, target_example_batch in dataset.take(1):\n",
        "  example_batch_preds = gru_model(input_example_batch)\n",
        "  print(example_batch_preds.shape, '#(batch_size, sequence_length, vocab_size)')"
      ],
      "execution_count": null,
      "outputs": [
        {
          "name": "stdout",
          "output_type": "stream",
          "text": [
            "(64, 50, 66) #(batch_size, sequence_length, vocab_size)\n"
          ]
        }
      ]
    },
    {
      "cell_type": "code",
      "metadata": {
        "colab": {
          "base_uri": "https://localhost:8080/"
        },
        "id": "3kMZLYx1wsyG",
        "outputId": "bcc4d26d-3233-4506-c668-6915d9480581"
      },
      "source": [
        "gru_model.summary()"
      ],
      "execution_count": null,
      "outputs": [
        {
          "name": "stdout",
          "output_type": "stream",
          "text": [
            "Model: \"my_model_1\"\n",
            "_________________________________________________________________\n",
            "Layer (type)                 Output Shape              Param #   \n",
            "=================================================================\n",
            "embedding_1 (Embedding)      multiple                  16896     \n",
            "_________________________________________________________________\n",
            "gru (GRU)                    multiple                  3938304   \n",
            "_________________________________________________________________\n",
            "dense_1 (Dense)              multiple                  67650     \n",
            "=================================================================\n",
            "Total params: 4,022,850\n",
            "Trainable params: 4,022,850\n",
            "Non-trainable params: 0\n",
            "_________________________________________________________________\n"
          ]
        }
      ]
    },
    {
      "cell_type": "code",
      "metadata": {
        "id": "d6Xvnr8OW4Nb"
      },
      "source": [
        "loss = tf.losses.SparseCategoricalCrossentropy(from_logits=True)"
      ],
      "execution_count": null,
      "outputs": []
    },
    {
      "cell_type": "code",
      "metadata": {
        "id": "DAkpikZiW7A4"
      },
      "source": [
        "opt = keras.optimizers.RMSprop(learning_rate=1e-3)\n",
        "gru_model.compile(optimizer=opt, loss=loss)"
      ],
      "execution_count": null,
      "outputs": []
    },
    {
      "cell_type": "code",
      "metadata": {
        "id": "Ut1FseAfzTKj"
      },
      "source": [
        "checkpoint_dir = './training_checkpoints'\n",
        "checkpoint_prefix = os.path.join(checkpoint_dir, \"ckpt_{epoch}\")\n",
        "\n",
        "checkpoint_callback = tf.keras.callbacks.ModelCheckpoint(\n",
        "    filepath=checkpoint_prefix,\n",
        "    save_weights_only=True,\n",
        "    save_freq = 50)"
      ],
      "execution_count": null,
      "outputs": []
    },
    {
      "cell_type": "code",
      "metadata": {
        "id": "VY6N_BLFzYY-"
      },
      "source": [
        "epochs = 200"
      ],
      "execution_count": null,
      "outputs": []
    },
    {
      "cell_type": "code",
      "metadata": {
        "colab": {
          "background_save": true,
          "base_uri": "https://localhost:8080/"
        },
        "id": "2BxXEuzozaT_",
        "outputId": "77498332-a760-4731-b5fb-20f59fce40a6"
      },
      "source": [
        "early_stopping = EarlyStopping(monitor = 'loss', min_delta=0.001, patience = 10, mode = 'min', verbose=2)\n",
        "reduce_lr =  ReduceLROnPlateau(monitor='loss', factor=0.2,\n",
        "                              patience=5, min_lr=0.000001, verbose=2)\n",
        "history_gru = gru_model.fit(dataset, epochs=epochs, callbacks=[early_stopping, reduce_lr, checkpoint_callback])"
      ],
      "execution_count": null,
      "outputs": [
        {
          "name": "stdout",
          "output_type": "stream",
          "text": [
            "Epoch 1/200\n",
            "341/341 [==============================] - 27s 72ms/step - loss: 2.2346\n",
            "Epoch 2/200\n",
            "341/341 [==============================] - 25s 72ms/step - loss: 1.6333\n",
            "Epoch 3/200\n",
            "341/341 [==============================] - 25s 72ms/step - loss: 1.4683\n",
            "Epoch 4/200\n",
            "341/341 [==============================] - 25s 72ms/step - loss: 1.3819\n",
            "Epoch 5/200\n",
            "341/341 [==============================] - 25s 72ms/step - loss: 1.3191\n",
            "Epoch 6/200\n",
            "341/341 [==============================] - 25s 72ms/step - loss: 1.2660\n",
            "Epoch 7/200\n",
            "341/341 [==============================] - 25s 72ms/step - loss: 1.2144\n",
            "Epoch 8/200\n",
            "341/341 [==============================] - 25s 72ms/step - loss: 1.1630\n",
            "Epoch 9/200\n",
            "341/341 [==============================] - 25s 72ms/step - loss: 1.1101\n",
            "Epoch 10/200\n",
            "341/341 [==============================] - 25s 71ms/step - loss: 1.0554\n",
            "Epoch 11/200\n",
            "341/341 [==============================] - 25s 71ms/step - loss: 0.9998\n",
            "Epoch 12/200\n",
            "341/341 [==============================] - 25s 71ms/step - loss: 0.9438\n",
            "Epoch 13/200\n",
            "341/341 [==============================] - 25s 72ms/step - loss: 0.8888\n",
            "Epoch 14/200\n",
            "341/341 [==============================] - 25s 72ms/step - loss: 0.8360\n",
            "Epoch 15/200\n",
            "341/341 [==============================] - 25s 72ms/step - loss: 0.7869\n",
            "Epoch 16/200\n",
            "341/341 [==============================] - 25s 72ms/step - loss: 0.7429\n",
            "Epoch 17/200\n",
            "341/341 [==============================] - 25s 72ms/step - loss: 0.7048\n",
            "Epoch 18/200\n",
            "341/341 [==============================] - 25s 72ms/step - loss: 0.6714\n",
            "Epoch 19/200\n",
            "341/341 [==============================] - 25s 72ms/step - loss: 0.6434\n",
            "Epoch 20/200\n",
            "341/341 [==============================] - 25s 72ms/step - loss: 0.6201\n",
            "Epoch 21/200\n",
            "341/341 [==============================] - 25s 72ms/step - loss: 0.6008\n",
            "Epoch 22/200\n",
            "341/341 [==============================] - 25s 72ms/step - loss: 0.5857\n",
            "Epoch 23/200\n",
            "341/341 [==============================] - 25s 71ms/step - loss: 0.5727\n",
            "Epoch 24/200\n",
            "341/341 [==============================] - 25s 72ms/step - loss: 0.5630\n",
            "Epoch 25/200\n",
            "341/341 [==============================] - 25s 72ms/step - loss: 0.5558\n",
            "Epoch 26/200\n",
            "341/341 [==============================] - 25s 72ms/step - loss: 0.5504\n",
            "Epoch 27/200\n",
            "341/341 [==============================] - 25s 72ms/step - loss: 0.5461\n",
            "Epoch 28/200\n",
            "341/341 [==============================] - 25s 72ms/step - loss: 0.5437\n",
            "Epoch 29/200\n",
            "341/341 [==============================] - 25s 72ms/step - loss: 0.5416\n",
            "Epoch 30/200\n",
            "341/341 [==============================] - 25s 72ms/step - loss: 0.5410\n",
            "Epoch 31/200\n",
            "341/341 [==============================] - 25s 72ms/step - loss: 0.5401\n",
            "Epoch 32/200\n",
            "341/341 [==============================] - 25s 72ms/step - loss: 0.5408\n",
            "Epoch 33/200\n",
            "341/341 [==============================] - 25s 72ms/step - loss: 0.5424\n",
            "Epoch 34/200\n",
            "341/341 [==============================] - 25s 72ms/step - loss: 0.5438\n",
            "Epoch 35/200\n",
            "341/341 [==============================] - 25s 72ms/step - loss: 0.5460\n",
            "Epoch 36/200\n",
            "341/341 [==============================] - 26s 73ms/step - loss: 0.5483\n",
            "\n",
            "Epoch 00036: ReduceLROnPlateau reducing learning rate to 0.00020000000949949026.\n",
            "Epoch 37/200\n",
            "341/341 [==============================] - 26s 73ms/step - loss: 0.4026\n",
            "Epoch 38/200\n",
            "341/341 [==============================] - 26s 73ms/step - loss: 0.3193\n",
            "Epoch 39/200\n",
            "341/341 [==============================] - 25s 72ms/step - loss: 0.2838\n",
            "Epoch 40/200\n",
            "341/341 [==============================] - 26s 73ms/step - loss: 0.2626\n",
            "Epoch 41/200\n",
            "341/341 [==============================] - 25s 72ms/step - loss: 0.2474\n",
            "Epoch 42/200\n",
            "341/341 [==============================] - 26s 72ms/step - loss: 0.2361\n",
            "Epoch 43/200\n",
            "341/341 [==============================] - 25s 72ms/step - loss: 0.2272\n",
            "Epoch 44/200\n",
            "341/341 [==============================] - 25s 72ms/step - loss: 0.2200\n",
            "Epoch 45/200\n",
            "341/341 [==============================] - 25s 71ms/step - loss: 0.2139\n",
            "Epoch 46/200\n",
            "341/341 [==============================] - 25s 71ms/step - loss: 0.2090\n",
            "Epoch 47/200\n",
            "341/341 [==============================] - 25s 71ms/step - loss: 0.2047\n",
            "Epoch 48/200\n",
            "341/341 [==============================] - 25s 71ms/step - loss: 0.2010\n",
            "Epoch 49/200\n",
            "341/341 [==============================] - 25s 71ms/step - loss: 0.1976\n",
            "Epoch 50/200\n",
            "341/341 [==============================] - 25s 71ms/step - loss: 0.1949\n",
            "Epoch 51/200\n",
            "341/341 [==============================] - 25s 72ms/step - loss: 0.1925\n",
            "Epoch 52/200\n",
            "341/341 [==============================] - 25s 72ms/step - loss: 0.1904\n",
            "Epoch 53/200\n",
            "341/341 [==============================] - 25s 72ms/step - loss: 0.1884\n",
            "Epoch 54/200\n",
            "341/341 [==============================] - 25s 72ms/step - loss: 0.1867\n",
            "Epoch 55/200\n",
            "341/341 [==============================] - 25s 71ms/step - loss: 0.1851\n",
            "Epoch 56/200\n",
            "341/341 [==============================] - 25s 71ms/step - loss: 0.1837\n",
            "Epoch 57/200\n",
            "341/341 [==============================] - 25s 71ms/step - loss: 0.1823\n",
            "Epoch 58/200\n",
            "341/341 [==============================] - 25s 72ms/step - loss: 0.1813\n",
            "Epoch 59/200\n",
            "341/341 [==============================] - 25s 72ms/step - loss: 0.1801\n",
            "Epoch 60/200\n",
            "341/341 [==============================] - 25s 72ms/step - loss: 0.1793\n",
            "Epoch 61/200\n",
            "341/341 [==============================] - 25s 72ms/step - loss: 0.1783\n",
            "Epoch 62/200\n",
            "341/341 [==============================] - 25s 71ms/step - loss: 0.1773\n",
            "Epoch 63/200\n",
            "341/341 [==============================] - 25s 72ms/step - loss: 0.1765\n",
            "Epoch 64/200\n",
            "341/341 [==============================] - 25s 72ms/step - loss: 0.1760\n",
            "Epoch 65/200\n",
            "341/341 [==============================] - 25s 72ms/step - loss: 0.1752\n",
            "Epoch 66/200\n",
            "341/341 [==============================] - 25s 72ms/step - loss: 0.1746\n",
            "Epoch 67/200\n",
            "341/341 [==============================] - 25s 72ms/step - loss: 0.1742\n",
            "Epoch 68/200\n",
            "341/341 [==============================] - 25s 72ms/step - loss: 0.1735\n",
            "Epoch 69/200\n",
            "341/341 [==============================] - 25s 72ms/step - loss: 0.1730\n",
            "Epoch 70/200\n",
            "341/341 [==============================] - 25s 72ms/step - loss: 0.1726\n",
            "Epoch 71/200\n",
            "341/341 [==============================] - 25s 72ms/step - loss: 0.1720\n",
            "Epoch 72/200\n",
            "341/341 [==============================] - 26s 73ms/step - loss: 0.1717\n",
            "Epoch 73/200\n",
            "341/341 [==============================] - 25s 72ms/step - loss: 0.1711\n",
            "Epoch 74/200\n",
            "341/341 [==============================] - 25s 73ms/step - loss: 0.1708\n",
            "Epoch 75/200\n",
            "341/341 [==============================] - 25s 72ms/step - loss: 0.1705\n",
            "Epoch 76/200\n",
            "341/341 [==============================] - 25s 72ms/step - loss: 0.1703\n",
            "Epoch 77/200\n",
            "341/341 [==============================] - 26s 72ms/step - loss: 0.1699\n",
            "Epoch 78/200\n",
            "341/341 [==============================] - 26s 73ms/step - loss: 0.1696\n",
            "Epoch 79/200\n",
            "341/341 [==============================] - 25s 72ms/step - loss: 0.1693\n",
            "Epoch 80/200\n",
            "341/341 [==============================] - 26s 73ms/step - loss: 0.1690\n",
            "Epoch 81/200\n",
            "341/341 [==============================] - 25s 71ms/step - loss: 0.1686\n",
            "Epoch 82/200\n",
            "341/341 [==============================] - 25s 70ms/step - loss: 0.1685\n",
            "Epoch 83/200\n",
            "341/341 [==============================] - 25s 70ms/step - loss: 0.1682\n",
            "Epoch 84/200\n",
            "341/341 [==============================] - 25s 70ms/step - loss: 0.1680\n",
            "Epoch 85/200\n",
            "341/341 [==============================] - 25s 71ms/step - loss: 0.1676\n",
            "Epoch 86/200\n",
            "341/341 [==============================] - 25s 71ms/step - loss: 0.1675\n",
            "Epoch 87/200\n",
            "341/341 [==============================] - 25s 71ms/step - loss: 0.1673\n",
            "Epoch 88/200\n",
            "341/341 [==============================] - 25s 71ms/step - loss: 0.1672\n",
            "Epoch 89/200\n",
            "341/341 [==============================] - 25s 70ms/step - loss: 0.1670\n",
            "Epoch 90/200\n",
            "341/341 [==============================] - 25s 70ms/step - loss: 0.1668\n",
            "Epoch 91/200\n",
            "341/341 [==============================] - 25s 70ms/step - loss: 0.1665\n",
            "Epoch 92/200\n",
            "341/341 [==============================] - 25s 70ms/step - loss: 0.1663\n",
            "Epoch 93/200\n",
            "341/341 [==============================] - 25s 70ms/step - loss: 0.1663\n",
            "Epoch 94/200\n",
            "341/341 [==============================] - 25s 71ms/step - loss: 0.1660\n",
            "Epoch 95/200\n",
            "341/341 [==============================] - 25s 70ms/step - loss: 0.1659\n",
            "Epoch 96/200\n",
            "341/341 [==============================] - 25s 70ms/step - loss: 0.1658\n",
            "Epoch 97/200\n",
            "341/341 [==============================] - 25s 70ms/step - loss: 0.1656\n",
            "Epoch 98/200\n",
            "341/341 [==============================] - 25s 70ms/step - loss: 0.1654\n",
            "Epoch 99/200\n",
            "341/341 [==============================] - 25s 70ms/step - loss: 0.1654\n",
            "Epoch 100/200\n",
            "341/341 [==============================] - 25s 70ms/step - loss: 0.1652\n",
            "Epoch 101/200\n",
            "341/341 [==============================] - 25s 70ms/step - loss: 0.1651\n",
            "Epoch 102/200\n",
            "341/341 [==============================] - 25s 70ms/step - loss: 0.1648\n",
            "Epoch 103/200\n",
            "341/341 [==============================] - 25s 71ms/step - loss: 0.1648\n",
            "Epoch 104/200\n",
            "341/341 [==============================] - 25s 71ms/step - loss: 0.1647\n",
            "Epoch 105/200\n",
            "341/341 [==============================] - 25s 70ms/step - loss: 0.1644\n",
            "Epoch 106/200\n",
            "341/341 [==============================] - 25s 70ms/step - loss: 0.1645\n",
            "Epoch 107/200\n",
            "341/341 [==============================] - 24s 69ms/step - loss: 0.1644\n",
            "Epoch 108/200\n",
            "341/341 [==============================] - 25s 70ms/step - loss: 0.1644\n",
            "Epoch 109/200\n",
            "341/341 [==============================] - 25s 70ms/step - loss: 0.1641\n",
            "Epoch 110/200\n",
            "341/341 [==============================] - 25s 70ms/step - loss: 0.1641\n",
            "Epoch 111/200\n",
            "341/341 [==============================] - 25s 70ms/step - loss: 0.1640\n",
            "Epoch 112/200\n",
            "341/341 [==============================] - 25s 70ms/step - loss: 0.1639\n",
            "Epoch 113/200\n",
            "341/341 [==============================] - 25s 70ms/step - loss: 0.1637\n",
            "Epoch 114/200\n",
            "341/341 [==============================] - 25s 70ms/step - loss: 0.1637\n",
            "Epoch 115/200\n",
            "341/341 [==============================] - 25s 70ms/step - loss: 0.1636\n",
            "Epoch 116/200\n",
            "341/341 [==============================] - 25s 70ms/step - loss: 0.1636\n",
            "Epoch 117/200\n",
            "341/341 [==============================] - 25s 70ms/step - loss: 0.1634\n",
            "Epoch 118/200\n",
            "341/341 [==============================] - 25s 70ms/step - loss: 0.1633\n",
            "Epoch 119/200\n",
            "341/341 [==============================] - 25s 70ms/step - loss: 0.1634\n",
            "Epoch 120/200\n",
            "341/341 [==============================] - 25s 70ms/step - loss: 0.1631\n",
            "Epoch 121/200\n",
            "341/341 [==============================] - 25s 71ms/step - loss: 0.1630\n",
            "Epoch 122/200\n",
            "341/341 [==============================] - 25s 70ms/step - loss: 0.1631\n",
            "Epoch 123/200\n",
            "341/341 [==============================] - 25s 70ms/step - loss: 0.1631\n",
            "Epoch 124/200\n",
            "341/341 [==============================] - 25s 70ms/step - loss: 0.1629\n",
            "Epoch 125/200\n",
            "341/341 [==============================] - 25s 70ms/step - loss: 0.1629\n",
            "Epoch 126/200\n",
            "341/341 [==============================] - 25s 70ms/step - loss: 0.1627\n",
            "Epoch 127/200\n",
            "341/341 [==============================] - 25s 70ms/step - loss: 0.1627\n",
            "Epoch 128/200\n",
            "341/341 [==============================] - 25s 70ms/step - loss: 0.1626\n",
            "Epoch 129/200\n",
            "341/341 [==============================] - 25s 70ms/step - loss: 0.1626\n",
            "Epoch 130/200\n",
            "341/341 [==============================] - 25s 70ms/step - loss: 0.1623\n",
            "Epoch 131/200\n",
            "341/341 [==============================] - 25s 70ms/step - loss: 0.1624\n",
            "Epoch 132/200\n",
            "341/341 [==============================] - 25s 70ms/step - loss: 0.1623\n",
            "Epoch 133/200\n",
            "341/341 [==============================] - 25s 70ms/step - loss: 0.1623\n",
            "Epoch 134/200\n",
            "341/341 [==============================] - 25s 70ms/step - loss: 0.1622\n",
            "Epoch 135/200\n",
            "341/341 [==============================] - 25s 70ms/step - loss: 0.1622\n",
            "Epoch 136/200\n",
            "341/341 [==============================] - 25s 70ms/step - loss: 0.1622\n",
            "Epoch 137/200\n",
            "341/341 [==============================] - 25s 71ms/step - loss: 0.1621\n",
            "Epoch 138/200\n",
            "341/341 [==============================] - 25s 70ms/step - loss: 0.1619\n",
            "Epoch 139/200\n",
            "341/341 [==============================] - 24s 69ms/step - loss: 0.1620\n",
            "Epoch 140/200\n",
            "341/341 [==============================] - 25s 70ms/step - loss: 0.1618\n",
            "Epoch 141/200\n",
            "341/341 [==============================] - 25s 70ms/step - loss: 0.1620\n",
            "Epoch 142/200\n",
            "341/341 [==============================] - 25s 70ms/step - loss: 0.1617\n",
            "Epoch 143/200\n",
            "341/341 [==============================] - 25s 70ms/step - loss: 0.1618\n",
            "Epoch 144/200\n",
            "341/341 [==============================] - 25s 70ms/step - loss: 0.1617\n",
            "Epoch 145/200\n",
            "341/341 [==============================] - 25s 70ms/step - loss: 0.1617\n",
            "Epoch 146/200\n",
            "341/341 [==============================] - 25s 71ms/step - loss: 0.1616\n",
            "Epoch 147/200\n",
            "341/341 [==============================] - 25s 70ms/step - loss: 0.1615\n",
            "Epoch 148/200\n",
            "341/341 [==============================] - 25s 70ms/step - loss: 0.1616\n",
            "Epoch 149/200\n",
            "341/341 [==============================] - 25s 70ms/step - loss: 0.1616\n",
            "Epoch 150/200\n",
            "341/341 [==============================] - 25s 71ms/step - loss: 0.1615\n",
            "Epoch 151/200\n",
            "341/341 [==============================] - 25s 70ms/step - loss: 0.1612\n",
            "Epoch 152/200\n",
            "341/341 [==============================] - 25s 70ms/step - loss: 0.1615\n",
            "Epoch 153/200\n",
            "341/341 [==============================] - 25s 70ms/step - loss: 0.1612\n",
            "Epoch 154/200\n",
            "341/341 [==============================] - 25s 70ms/step - loss: 0.1612\n",
            "Epoch 155/200\n",
            "341/341 [==============================] - 25s 70ms/step - loss: 0.1612\n",
            "Epoch 156/200\n",
            "341/341 [==============================] - 25s 70ms/step - loss: 0.1610\n",
            "Epoch 157/200\n",
            "341/341 [==============================] - 25s 70ms/step - loss: 0.1612\n",
            "Epoch 158/200\n",
            "341/341 [==============================] - 25s 70ms/step - loss: 0.1611\n",
            "Epoch 159/200\n",
            "341/341 [==============================] - 25s 71ms/step - loss: 0.1611\n",
            "Epoch 160/200\n",
            "341/341 [==============================] - 25s 71ms/step - loss: 0.1609\n",
            "Epoch 161/200\n",
            "341/341 [==============================] - 25s 71ms/step - loss: 0.1608\n",
            "Epoch 162/200\n",
            "341/341 [==============================] - 25s 71ms/step - loss: 0.1609\n",
            "Epoch 163/200\n",
            "341/341 [==============================] - 25s 71ms/step - loss: 0.1609\n",
            "Epoch 164/200\n",
            "341/341 [==============================] - 25s 71ms/step - loss: 0.1608\n",
            "Epoch 165/200\n",
            "341/341 [==============================] - 25s 70ms/step - loss: 0.1607\n",
            "Epoch 166/200\n",
            "341/341 [==============================] - 25s 70ms/step - loss: 0.1606\n",
            "Epoch 167/200\n",
            "341/341 [==============================] - 25s 70ms/step - loss: 0.1607\n",
            "Epoch 168/200\n",
            "341/341 [==============================] - 25s 70ms/step - loss: 0.1605\n",
            "Epoch 169/200\n",
            "341/341 [==============================] - 25s 70ms/step - loss: 0.1605\n",
            "Epoch 170/200\n",
            "341/341 [==============================] - 25s 70ms/step - loss: 0.1607\n",
            "Epoch 171/200\n",
            "341/341 [==============================] - 25s 71ms/step - loss: 0.1606\n",
            "Epoch 172/200\n",
            "341/341 [==============================] - 25s 71ms/step - loss: 0.1606\n",
            "Epoch 173/200\n",
            "341/341 [==============================] - 25s 70ms/step - loss: 0.1606\n",
            "\n",
            "Epoch 00173: ReduceLROnPlateau reducing learning rate to 4.0000001899898055e-05.\n",
            "Epoch 174/200\n",
            "341/341 [==============================] - 25s 71ms/step - loss: 0.1485\n",
            "Epoch 175/200\n",
            "341/341 [==============================] - 25s 71ms/step - loss: 0.1454\n",
            "Epoch 176/200\n",
            "341/341 [==============================] - 25s 70ms/step - loss: 0.1446\n",
            "Epoch 177/200\n",
            "341/341 [==============================] - 25s 70ms/step - loss: 0.1442\n",
            "Epoch 178/200\n",
            "341/341 [==============================] - 25s 70ms/step - loss: 0.1440\n",
            "Epoch 179/200\n",
            "341/341 [==============================] - 25s 70ms/step - loss: 0.1438\n",
            "Epoch 180/200\n",
            "341/341 [==============================] - 25s 71ms/step - loss: 0.1437\n",
            "Epoch 181/200\n",
            "341/341 [==============================] - 25s 70ms/step - loss: 0.1437\n",
            "Epoch 182/200\n",
            "341/341 [==============================] - 25s 71ms/step - loss: 0.1435\n",
            "Epoch 183/200\n",
            "341/341 [==============================] - 25s 70ms/step - loss: 0.1435\n",
            "Epoch 184/200\n",
            "341/341 [==============================] - 25s 70ms/step - loss: 0.1434\n",
            "Epoch 185/200\n",
            "341/341 [==============================] - 25s 71ms/step - loss: 0.1433\n",
            "Epoch 186/200\n",
            "341/341 [==============================] - 25s 70ms/step - loss: 0.1433\n",
            "Epoch 187/200\n",
            "341/341 [==============================] - 25s 70ms/step - loss: 0.1432\n",
            "Epoch 188/200\n",
            "341/341 [==============================] - 25s 70ms/step - loss: 0.1432\n",
            "Epoch 189/200\n",
            "341/341 [==============================] - 25s 70ms/step - loss: 0.1432\n",
            "Epoch 190/200\n",
            "341/341 [==============================] - 25s 70ms/step - loss: 0.1431\n",
            "Epoch 191/200\n",
            "341/341 [==============================] - 25s 70ms/step - loss: 0.1431\n",
            "Epoch 192/200\n",
            "341/341 [==============================] - 25s 70ms/step - loss: 0.1430\n",
            "Epoch 193/200\n",
            "341/341 [==============================] - 25s 70ms/step - loss: 0.1430\n",
            "Epoch 194/200\n",
            "341/341 [==============================] - 25s 71ms/step - loss: 0.1430\n",
            "Epoch 195/200\n",
            "341/341 [==============================] - 25s 71ms/step - loss: 0.1430\n",
            "Epoch 196/200\n",
            "341/341 [==============================] - 25s 71ms/step - loss: 0.1429\n",
            "Epoch 197/200\n",
            "341/341 [==============================] - 25s 71ms/step - loss: 0.1429\n",
            "Epoch 198/200\n",
            "341/341 [==============================] - 25s 71ms/step - loss: 0.1429\n",
            "Epoch 199/200\n",
            "341/341 [==============================] - 25s 71ms/step - loss: 0.1428\n",
            "Epoch 200/200\n",
            "341/341 [==============================] - 25s 70ms/step - loss: 0.1428\n"
          ]
        }
      ]
    },
    {
      "cell_type": "code",
      "metadata": {
        "colab": {
          "background_save": true
        },
        "id": "WJTlZ0n9e-Pp",
        "outputId": "f0d73a54-94c1-4455-95f4-502077563fc7"
      },
      "source": [
        "loss_plot(history_gru)"
      ],
      "execution_count": null,
      "outputs": [
        {
          "data": {
            "image/png": "[encoded data removed]",
            "text/plain": [
              "<Figure size 432x288 with 1 Axes>"
            ]
          },
          "metadata": {},
          "output_type": "display_data"
        }
      ]
    },
    {
      "cell_type": "code",
      "metadata": {
        "colab": {
          "background_save": true
        },
        "id": "qQahSvT6zdDu"
      },
      "source": [
        "class OneStep(tf.keras.Model):\n",
        "  def __init__(self, model, chars_from_ids, ids_from_chars, temperature=1.0):\n",
        "    super().__init__()\n",
        "    self.temperature = temperature\n",
        "    self.model = model\n",
        "    self.chars_from_ids = chars_from_ids\n",
        "    self.ids_from_chars = ids_from_chars\n",
        "\n",
        "    skip_ids = self.ids_from_chars(['[UNK]'])[:, None]\n",
        "    sparse_mask = tf.SparseTensor(\n",
        "\n",
        "        values=[-float('inf')]*len(skip_ids),\n",
        "        indices=skip_ids,\n",
        "        dense_shape=[len(ids_from_chars.get_vocabulary())])\n",
        "    self.prediction_mask = tf.sparse.to_dense(sparse_mask)\n",
        "\n",
        "  @tf.function\n",
        "  def generate_one_step(self, inputs, states=None):\n",
        "\n",
        "    input_chars = tf.strings.unicode_split(inputs, 'UTF-8')\n",
        "    input_ids = self.ids_from_chars(input_chars).to_tensor()\n",
        "\n",
        "    predicted_logits, states = self.model(inputs=input_ids, states=states,\n",
        "                                          return_state=True)\n",
        "    predicted_logits = predicted_logits[:, -1, :]\n",
        "    predicted_logits = predicted_logits/self.temperature\n",
        "    predicted_logits = predicted_logits + self.prediction_mask\n",
        "\n",
        "    predicted_ids = tf.random.categorical(predicted_logits, num_samples=1)\n",
        "    predicted_ids = tf.squeeze(predicted_ids, axis=-1)\n",
        "\n",
        "    predicted_chars = self.chars_from_ids(predicted_ids)\n",
        "\n",
        "    return predicted_chars, states"
      ],
      "execution_count": null,
      "outputs": []
    },
    {
      "cell_type": "code",
      "metadata": {
        "colab": {
          "background_save": true
        },
        "id": "ls0cxWg54uWG"
      },
      "source": [
        "one_step_model = OneStep(gru_model, chars_from_ids, ids_from_chars)"
      ],
      "execution_count": null,
      "outputs": []
    },
    {
      "cell_type": "code",
      "metadata": {
        "colab": {
          "background_save": true
        },
        "id": "bIFfsg4j7bPE",
        "outputId": "ebdcf938-86c9-4ab3-edd1-e3d3277321e1"
      },
      "source": [
        "start = time.time()\n",
        "states = None\n",
        "next_char = tf.constant(['ROMEO:'])\n",
        "result = [next_char]\n",
        "\n",
        "for n in range(1000):\n",
        "  next_char, states = one_step_model.generate_one_step(next_char, states=states)\n",
        "  result.append(next_char)\n",
        "\n",
        "result = tf.strings.join(result)\n",
        "end = time.time()\n",
        "print(result[0].numpy().decode('utf-8'), '\\n\\n' + '_'*80)\n",
        "print('\\nRun time:', end - start)"
      ],
      "execution_count": null,
      "outputs": [
        {
          "name": "stdout",
          "output_type": "stream",
          "text": [
            "Romeo\n",
            "To comfort you: I wot well where he is.\n",
            "Hark you, sir, be gone, conduit that the absent duke.\n",
            "\n",
            "LUCIO:\n",
            "A very superficial, ignorant, any thing, my gracious lord.\n",
            "\n",
            "QUEEN ELIZABETH:\n",
            "Nay, then his good hearts and think some would have deadly shape.\n",
            "\n",
            "LEONTES:\n",
            "By my head with such mind he bear me: I hope, and will\n",
            "Prithee now, sweet father, dissal time, and snaples;\n",
            "Where were her life? she durst not call me.'\n",
            "\n",
            "Third Citizen:\n",
            "Nurse, come hither, master and my father?\n",
            "\n",
            "POMPEY:\n",
            "They shall stir a virtuous strength constant me.\n",
            "I hope the king miscarried him where he is\n",
            "aboard, tender your intercepantion hablest from the facation\n",
            "A poor and brook itted story of the feast,\n",
            "And not our tenret till away him speak for the other senses. I cannot fly.\n",
            "\n",
            "Ahe heaven with those that should have laid our friends, ready in your commony.\n",
            "\n",
            "CAMILLO:\n",
            "I am afray: but hear me.\n",
            "Your breast for fair cousin Hereford and the fear\n",
            "Would sleep that women are so storm, else, when a country, as those colours\n",
            "Not pale as \n",
            "\n",
            "________________________________________________________________________________\n",
            "\n",
            "Run time: 3.999271869659424\n"
          ]
        }
      ]
    },
    {
      "cell_type": "code",
      "metadata": {
        "colab": {
          "background_save": true
        },
        "id": "3JN6S4887ePp",
        "outputId": "2d244b6c-a913-4163-f068-53a963154277"
      },
      "source": [
        "start = time.time()\n",
        "states = None\n",
        "next_char = tf.constant(['ROMEO:', 'ROMEO:', 'ROMEO:', 'ROMEO:', 'ROMEO:'])\n",
        "result = [next_char]\n",
        "\n",
        "for n in range(1000):\n",
        "  next_char, states = one_step_model.generate_one_step(next_char, states=states)\n",
        "  result.append(next_char)\n",
        "\n",
        "result = tf.strings.join(result)\n",
        "end = time.time()\n",
        "print(result, '\\n\\n' + '_'*80)\n",
        "print('\\nRun time:', end - start)"
      ],
      "execution_count": null,
      "outputs": [
        {
          "name": "stdout",
          "output_type": "stream",
          "text": [
            "tf.Tensor(\n",
            "[b\"Romeo,\\nWho had but newly entertain'd revenge,\\nAnd the subjects to infringed visits,\\nHe till the end of the horses; in the consecrate of his troop's deep,\\nThat bad tirtGor Jamy of the same I may condect what we in placeed.\\nLord, what says he of our friendshorped.\\nWhere is my lady widow sister?\\n\\nPETRUCHIO:\\nWhat, shall this speech be Clifford, in Were well.\\nThere is the womb for wronged woe.\\n\\nGREMIO:\\nBeloved mortality, that thou canst undernearth.\\n\\nQUEEN MARGARET:\\nRichard!\\n\\nEDWARD:\\nLet Geppoot that raison rags and treasure prove as he\\npies in God's name, shall to this prayers; for one things loved\\nWhich made you go to the crown and only clap their backs.\\nShe hap of revolter, father, do more unnatural: soetly men, and where\\nIf she hath a power on her to question my misery.\\n\\nGLOUCESTER:\\nThe widow dainty Menenur, come on; where is your boar-sceneth is to be said,\\nAs thou hast any crazery true dead.\\n\\nJULIET:\\nWhat men devil, fain delight,\\nWherein this law of soon report wranging, you wot well wash \"\n",
            " b\"Romeo slew him, he slew Mercutio;\\nWho now the price of parasion of the senate,\\nAnd with sighs garden lives of all times; he was more than\\nthy enemies. She hath been in all disfigured him by\\nThe Barn till died, and novole playua enemies to give\\nit that he knows how the torghtfry from this spoilt:\\nMy mind presently this time quaffil'd wretch departure\\nWas but the tenthry that my master gold and his eye\\nUppease the dukedom the bottom of the earth, the winds she promised to a cus\\nof some pretty day of women's shier.\\n\\nNORTHUMBERLAND:\\nNow, afore God, 'tis the recorder.\\n\\nFRIAR LAURENCE:\\nSo smile at sack groan's feeling soul and uneventh.\\n\\nGLOUCESTER:\\nHe received in the mid of it?\\n\\nVIRGILIA:\\nI have done. But 'tis the power thus far soul\\nBig at the head of Clarence so ill-addired to his soul!\\nA Pregion of the flatterer; one that I may see my crown is call.\\n\\nBRUTUS:\\nWe stay here to-morrow in your throat:\\nAnd he, that villain seest in your mistress'd sea\\nWhere you shall be my wife; your dowry 'groud?\\n\"\n",
            " b\"Romeo,\\nWho had but newly entertain'd revenge,\\nAnd to make him an execution of my wrongs are but Liby to the bloody king.\\nAnd here he comes.\\nAh, true approaches; and as I love myself.\\n\\nPETRUCHIO:\\nYou peasant swain! you whoreson his word ?\\nWhat would you have me down to do't.\\n\\nFirst Lord:\\nI know my daughter to the vow;\\nSo shall my virtue be his vice's bawd.\\n\\nbather: there's a fear to England's choice; I am one of you,\\nI am thus for a feastion of the sequeces\\nAs the rest of the Capulets lie.\\nIn thereon awake and see in all the veins of censured sinks\\nI promise you, 'tis the worse accuse me. Draw too\\nmighty son:\\nSweet I beseech you, sir, help, here is consent,\\nOr never admidius to woo his grave in quiet, your news,\\nand make you did contemn Berch, smok\\nAnd wailing them to the trial.\\n\\nBUCKINGHAM:\\n-Hent, my prayers for the statue of my sorrow?\\nNow thy proud news with you of your brother, with all the wested sinks\\nAre graced to the purpose did make me fail in our livest;\\nThen pardon him, he has in \"\n",
            " b\"Romeo slew him, he slew Mercutio;\\nWho now the price of cunningbices are Pomperet.\\n\\nBISHOP Edward there?\\n\\nFirst Murderer:\\nI would not be a stander on her;\\nAnd that is false on very slowly.\\n\\nQUEEN ELIZABETH:\\nThat thou hast wronged in the time of death he gave our father.\\n\\nGEORGE:\\nWe stay here forswears to hear you to my brother:\\n'Tis deeds now withal.\\n\\nSOMERSET:\\nAnd do not lord thee not, for one that kill me wrong,\\nAnd therefore here IArly of the dire appointed and true permar,\\nAll this displanted with us else by make me blown to the\\nsoleing; what of that?  rob 'Wis true boats with me to meet his grave\\nAnd him the city gates that kind of England and others must so say\\nit, should-know no longing to the sour?\\n\\nSheraff:\\nMadam, hath been beyond arrived lookers of my prayer\\nTo know the iritest hand of an and breathes;\\nHe thinks that you might leave your best of it.\\n\\nKATHARINA:\\nYour countrymen, my horse.\\n\\nGRUMIO:\\nWhy, so he doth, nor a\\nyour country, and his consent is guess.\\n\\nKING RICHARD III:\\nCate\"\n",
            " b\"Romeo slew him, he slew Mercutio;\\nWho now the price of calonred sleeps,\\nAnd bids them not call upon the ground, and bad seeing\\nmore in a man's blood cleaving to my tongue,\\nAnd watch our voices hereafter so in a mile house!\\n\\nDUKE VINCENTIO:\\nNot a right farewell.\\n\\nSICINIUS:\\nThe fairer love?\\n\\nROMEO:\\nThou charg'd them your worship appear by Edward's hope;\\nAnd charged her then angine and to have her roaring them;\\nAnd so I can scarce and zenomies, but as I am not where.\\n\\nSecond Murderer:\\n'Zounds, a word with you.\\n\\nLUCIO:\\n\\nISABELLA:\\nNot with fond from such a pity say?\\n\\nRICHARD:\\nA mercian, let me twenty good indeed.\\nLook, here Would she kneel with another'd gate,\\nTo take false and treacherous, when I am in holy pawers\\nTo the under hinder of his grave?\\n\\nKING EDWARD IV:\\nIt were no less; but he was banish'd rared\\nMade me so, yet do for which your love to Rome,\\nThey might to the garden lions should be cropp'd be married that we speak,\\nYet he wekes in a fair breath, and heir to be made, but to resign to\"], shape=(5,), dtype=string) \n",
            "\n",
            "________________________________________________________________________________\n",
            "\n",
            "Run time: 4.421740293502808\n"
          ]
        }
      ]
    },
    {
      "cell_type": "code",
      "metadata": {
        "id": "4j6dRbJ9997o"
      },
      "source": [
        "tf.saved_model.save(one_step_model, 'one_step')\n",
        "one_step_reloaded = tf.saved_model.load('one_step')"
      ],
      "execution_count": null,
      "outputs": []
    },
    {
      "cell_type": "code",
      "metadata": {
        "colab": {
          "background_save": true
        },
        "id": "PdzfIrJO-EjW",
        "outputId": "6e16de79-55bf-46ce-8afd-20db00f323ec"
      },
      "source": [
        "states = None\n",
        "next_char = tf.constant(['ROMEO:'])\n",
        "result = [next_char]\n",
        "\n",
        "for n in range(100):\n",
        "  next_char, states = one_step_reloaded.generate_one_step(next_char, states=states)\n",
        "  result.append(next_char)\n",
        "\n",
        "print(tf.strings.join(result)[0].numpy().decode(\"utf-8\"))"
      ],
      "execution_count": null,
      "outputs": [
        {
          "name": "stdout",
          "output_type": "stream",
          "text": [
            "Romeo:\n",
            "'Tis thought your heart is full of woman: shall I lead a shows\n",
            "Be rashold as my master slew my brot\n"
          ]
        }
      ]
    }
  ]
}